{
  "nbformat": 4,
  "nbformat_minor": 0,
  "metadata": {
    "colab": {
      "provenance": [],
      "authorship_tag": "ABX9TyOQuXRwbA+uROzGkkx/2WoN",
      "include_colab_link": true
    },
    "kernelspec": {
      "name": "python3",
      "display_name": "Python 3"
    },
    "language_info": {
      "name": "python"
    }
  },
  "cells": [
    {
      "cell_type": "markdown",
      "metadata": {
        "id": "view-in-github",
        "colab_type": "text"
      },
      "source": [
        "<a href=\"https://colab.research.google.com/github/seowon02/colab/blob/main/%EC%88%98%ED%96%89%ED%8F%89%EA%B0%802.ipynb\" target=\"_parent\"><img src=\"https://colab.research.google.com/assets/colab-badge.svg\" alt=\"Open In Colab\"/></a>"
      ]
    },
    {
      "cell_type": "code",
      "execution_count": 2,
      "metadata": {
        "colab": {
          "base_uri": "https://localhost:8080/"
        },
        "id": "fiLzQn4k_YLb",
        "outputId": "830f41a6-f61c-4db4-860a-b0fc656e2482"
      },
      "outputs": [
        {
          "output_type": "stream",
          "name": "stdout",
          "text": [
            "숫자를 입력 ==>1773\n",
            "홀수입니다.\n"
          ]
        }
      ],
      "source": [
        "num = int(input(\"숫자를 입력 ==> \"))\n",
        "\n",
        "if num % 2 == 0:\n",
        "  print(\"짝수입니다.\")\n",
        "else:\n",
        "  print(\"홀수입니다.\")"
      ]
    },
    {
      "cell_type": "code",
      "source": [
        "num = int(input(\"숫자를 입력 ==> \"))\n",
        "\n",
        "if num < 100:\n",
        "  print(\"입력한 숫자가 100보다 작습니다.\")\n",
        "if 1000 >= num >= 100:\n",
        "  print(\"입력한 숫자가 100~1000 사이의 숫자입니다.\")\n",
        "else:\n",
        "  print(\"입력한 숫자가 1000보다 큽니다.\")"
      ],
      "metadata": {
        "colab": {
          "base_uri": "https://localhost:8080/"
        },
        "id": "_D1haF0EBD8-",
        "outputId": "9aa99476-895f-45b4-e59b-d757d7b50351"
      },
      "execution_count": 3,
      "outputs": [
        {
          "output_type": "stream",
          "name": "stdout",
          "text": [
            "숫자를 입력 ==> 100\n",
            "입력한 숫자가 100~1000 사이의 숫자입니다.\n"
          ]
        }
      ]
    }
  ]
}
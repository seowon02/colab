{
  "nbformat": 4,
  "nbformat_minor": 0,
  "metadata": {
    "colab": {
      "provenance": [],
      "authorship_tag": "ABX9TyMFT7A9aTR1g7LCvfSwmbFx",
      "include_colab_link": true
    },
    "kernelspec": {
      "name": "python3",
      "display_name": "Python 3"
    },
    "language_info": {
      "name": "python"
    }
  },
  "cells": [
    {
      "cell_type": "markdown",
      "metadata": {
        "id": "view-in-github",
        "colab_type": "text"
      },
      "source": [
        "<a href=\"https://colab.research.google.com/github/seowon02/colab/blob/main/%EC%88%98%ED%96%89%ED%8F%89%EA%B0%802.ipynb\" target=\"_parent\"><img src=\"https://colab.research.google.com/assets/colab-badge.svg\" alt=\"Open In Colab\"/></a>"
      ]
    },
    {
      "cell_type": "code",
      "execution_count": 2,
      "metadata": {
        "colab": {
          "base_uri": "https://localhost:8080/"
        },
        "id": "fiLzQn4k_YLb",
        "outputId": "830f41a6-f61c-4db4-860a-b0fc656e2482"
      },
      "outputs": [
        {
          "output_type": "stream",
          "name": "stdout",
          "text": [
            "숫자를 입력 ==>1773\n",
            "홀수입니다.\n"
          ]
        }
      ],
      "source": [
        "num = int(input(\"숫자를 입력 ==> \"))\n",
        "\n",
        "if num % 2 == 0:\n",
        "  print(\"짝수입니다.\")\n",
        "else:\n",
        "  print(\"홀수입니다.\")"
      ]
    },
    {
      "cell_type": "code",
      "source": [
        "num = int(input(\"숫자를 입력 ==> \"))\n",
        "\n",
        "if num < 100:\n",
        "  print(\"입력한 숫자가 100보다 작습니다.\")\n",
        "if 1000 >= num >= 100:\n",
        "  print(\"입력한 숫자가 100~1000 사이의 숫자입니다.\")\n",
        "else:\n",
        "  print(\"입력한 숫자가 1000보다 큽니다.\")"
      ],
      "metadata": {
        "colab": {
          "base_uri": "https://localhost:8080/"
        },
        "id": "_D1haF0EBD8-",
        "outputId": "9aa99476-895f-45b4-e59b-d757d7b50351"
      },
      "execution_count": 3,
      "outputs": [
        {
          "output_type": "stream",
          "name": "stdout",
          "text": [
            "숫자를 입력 ==> 100\n",
            "입력한 숫자가 100~1000 사이의 숫자입니다.\n"
          ]
        }
      ]
    },
    {
      "cell_type": "code",
      "source": [
        "score = int(input(\"점수를 입력 ==> \"))\n",
        "\n",
        "if score >= 90:\n",
        "  print(\"A학점\")\n",
        "elif score >= 80:\n",
        "  print(\"B학점\")\n",
        "elif score >= 70:\n",
        "  print(\"C학점\")\n",
        "elif score >= 60:\n",
        "  print(\"D학점\")\n",
        "else:\n",
        "  print(\"F학점\")"
      ],
      "metadata": {
        "colab": {
          "base_uri": "https://localhost:8080/"
        },
        "id": "C5cjc9r-DsFu",
        "outputId": "bb8ec266-e969-411a-955d-c857bbf4f723"
      },
      "execution_count": 5,
      "outputs": [
        {
          "output_type": "stream",
          "name": "stdout",
          "text": [
            "점수를 입력 ==> 60\n",
            "D학점\n"
          ]
        }
      ]
    },
    {
      "cell_type": "code",
      "source": [
        "import random\n",
        "select = [\"가위\",\"바위\",\"보\"]\n",
        "myHand = input(\"가위 바위 보 입력 : \")\n",
        "comHand = random.choice(select)\n",
        "\n",
        "print(\"당신 : \", myHand)\n",
        "print(\"컴퓨터 : \", comHand)\n",
        "if comHand != myHand:\n",
        "  if (myHand == \"가위\" and comHand == \"보\") or (myHand == \"보\" and comHand == \"바위\") or (myHand == \"바위\" and comHand == \"가위\"):\n",
        "    print(\"이겼습니다.\")\n",
        "  else:\n",
        "    print(\"졌습니다.\")\n",
        "else:\n",
        "  print(\"비겼습니다\")"
      ],
      "metadata": {
        "colab": {
          "base_uri": "https://localhost:8080/"
        },
        "id": "lGrKWvWxFL_O",
        "outputId": "8cc816b4-7081-41ae-aa25-46808d9c637b"
      },
      "execution_count": 11,
      "outputs": [
        {
          "output_type": "stream",
          "name": "stdout",
          "text": [
            "가위 바위 보 입력 : 가위\n",
            "당신 :  가위\n",
            "컴퓨터 :  바위\n",
            "졌습니다.\n"
          ]
        }
      ]
    }
  ]
}
{
  "nbformat": 4,
  "nbformat_minor": 0,
  "metadata": {
    "colab": {
      "provenance": [],
      "collapsed_sections": [],
      "authorship_tag": "ABX9TyMf8+dy3ZhgELzBqDWzgAC8",
      "include_colab_link": true
    },
    "kernelspec": {
      "name": "python3",
      "display_name": "Python 3"
    },
    "language_info": {
      "name": "python"
    }
  },
  "cells": [
    {
      "cell_type": "markdown",
      "metadata": {
        "id": "view-in-github",
        "colab_type": "text"
      },
      "source": [
        "<a href=\"https://colab.research.google.com/github/seowon02/colab/blob/main/Lession7.ipynb\" target=\"_parent\"><img src=\"https://colab.research.google.com/assets/colab-badge.svg\" alt=\"Open In Colab\"/></a>"
      ]
    },
    {
      "cell_type": "code",
      "execution_count": null,
      "metadata": {
        "id": "Q-oDqA97pXAA",
        "colab": {
          "base_uri": "https://localhost:8080/"
        },
        "outputId": "00c2a594-06b8-42fc-9613-00cbe736847b"
      },
      "outputs": [
        {
          "output_type": "stream",
          "name": "stdout",
          "text": [
            "숫자 : 1\n",
            "숫자 : 2\n",
            "숫자 : 3\n",
            "숫자 : 4\n",
            "합계 ==> 10\n"
          ]
        }
      ],
      "source": [
        "num1,num2,num3,num4 = 0,0,0,0\n",
        "hap = 0\n",
        "\n",
        "num1 = int(input(\"숫자 : \"))\n",
        "num2 = int(input(\"숫자 : \"))\n",
        "num3 = int(input(\"숫자 : \"))\n",
        "num4 = int(input(\"숫자 : \"))\n",
        "\n",
        "hap = num1 + num2 + num3 + num4\n",
        "\n",
        "print(\"합계 ==>\",hap)"
      ]
    },
    {
      "cell_type": "code",
      "source": [
        "numList = [0,0,0,0]\n",
        "hap = 0\n",
        "\n",
        "for i in range(0,len(numList)):\n",
        "  numList[i] = int(input(\"숫자 : \"))\n",
        "\n",
        "for i in range(0,len(numList)):\n",
        "  hap += numList[i]\n",
        "\n",
        "print(\"합계 ==> \",hap)"
      ],
      "metadata": {
        "colab": {
          "base_uri": "https://localhost:8080/"
        },
        "id": "HaT_l5f5sHWY",
        "outputId": "fa2cf9d0-7ee4-4c34-df13-80b015e9590f"
      },
      "execution_count": null,
      "outputs": [
        {
          "output_type": "stream",
          "name": "stdout",
          "text": [
            "숫자 : 1\n",
            "숫자 : 2\n",
            "숫자 : 3\n",
            "숫자 : 4\n",
            "합계 ==>  10\n"
          ]
        }
      ]
    },
    {
      "cell_type": "code",
      "source": [
        "numList = []\n",
        "numList.append(0)\n",
        "numList.append(0)\n",
        "numList.append(0)\n",
        "numList.append(0)\n",
        "print(numList)"
      ],
      "metadata": {
        "colab": {
          "base_uri": "https://localhost:8080/"
        },
        "id": "vDzoWc3ws3lO",
        "outputId": "a80bd142-bbff-4e87-e566-07881398e2f7"
      },
      "execution_count": null,
      "outputs": [
        {
          "output_type": "stream",
          "name": "stdout",
          "text": [
            "[0, 0, 0, 0]\n"
          ]
        }
      ]
    },
    {
      "cell_type": "code",
      "source": [
        "numList = []\n",
        "for i in range(0,4):\n",
        "  numList.append(0)\n",
        "len(numList)"
      ],
      "metadata": {
        "colab": {
          "base_uri": "https://localhost:8080/"
        },
        "id": "KyczG_POtE9N",
        "outputId": "02ac6d00-5302-4e36-c459-0a7bb0a97bc9"
      },
      "execution_count": null,
      "outputs": [
        {
          "output_type": "execute_result",
          "data": {
            "text/plain": [
              "4"
            ]
          },
          "metadata": {},
          "execution_count": 5
        }
      ]
    },
    {
      "cell_type": "code",
      "source": [
        "numList = []\n",
        "for i in range(0,4):\n",
        "  numList.append(0)\n",
        "hap = 0\n",
        "\n",
        "for i in range(0,4):\n",
        "  numList[i] = int(input(\"숫자 : \"))\n",
        "\n",
        "for i in range(0,4):\n",
        "  hap += numList[i]\n",
        "\n",
        "print(\"합계 ==> \",hap)"
      ],
      "metadata": {
        "colab": {
          "base_uri": "https://localhost:8080/"
        },
        "id": "kEd0JJz2tyHF",
        "outputId": "95e3fe37-bf27-4617-e815-51cb42c9a7ba"
      },
      "execution_count": null,
      "outputs": [
        {
          "output_type": "stream",
          "name": "stdout",
          "text": [
            "숫자 : 1\n",
            "숫자 : 2\n",
            "숫자 : 3\n",
            "숫자 : 4\n",
            "합계 ==>  10\n"
          ]
        }
      ]
    },
    {
      "cell_type": "code",
      "source": [
        "import random\n",
        "\n",
        "wise_saying_List = [\"산다는것 그것은 치열한 전투이다.\",\"세상은 고통으로 가득하지만 그것을 극복하는 사람들로도 가득하다\",\"한 번 실패와 영원한 실패를 혼동하지 마라\",\"도중에 포기하지 말라. 망설이지 말라. 최후의 성공을 거둘 때까지 밀고 나가자\",\"네 자신의 불행을 생각하지 않게 되는 가장 좋은 방법은 일에 몰두하는 것이다\"]\n",
        "\n",
        "r = random.randint(0,4)\n",
        "print(\"오늘의 명언 ==>\",wise_saying_List[r])"
      ],
      "metadata": {
        "colab": {
          "base_uri": "https://localhost:8080/"
        },
        "id": "ND5Zdx52w4dG",
        "outputId": "42eb492b-61cc-4b17-fad1-1c19122fad20"
      },
      "execution_count": null,
      "outputs": [
        {
          "output_type": "stream",
          "name": "stdout",
          "text": [
            "오늘의 명언 ==> 네 자신의 불행을 생각하지 않게 되는 가장 좋은 방법은 일에 몰두하는 것이다\n"
          ]
        }
      ]
    },
    {
      "cell_type": "code",
      "source": [
        "numList2 = [[1,2,3,4],\n",
        "            [5,6,7,8],\n",
        "            [9,10,11,12]]\n",
        "\n",
        "for i in range(0,3):\n",
        "  for ii in range(0,4):\n",
        "    print(\" \",numList2[1][ii],end='')\n",
        "  print(\"\")"
      ],
      "metadata": {
        "colab": {
          "base_uri": "https://localhost:8080/"
        },
        "id": "9t-PtE5t607I",
        "outputId": "684496df-be36-4566-8060-c78f681d5e40"
      },
      "execution_count": null,
      "outputs": [
        {
          "output_type": "stream",
          "name": "stdout",
          "text": [
            "  5  6  7  8\n",
            "  5  6  7  8\n",
            "  5  6  7  8\n"
          ]
        }
      ]
    },
    {
      "cell_type": "code",
      "source": [
        "print(\"홍길동 선수 경기 끝났습니다.\")\n",
        "\n",
        "scoreList = []\n",
        "for i in range(0,5):\n",
        "  scoreList.append(0)\n",
        "  scoreList[i] = int(input(\"평가 점수 ==> \"))\n",
        "\n",
        "avg = 0\n",
        "hap = 0\n",
        "count = 0\n",
        "for i in range(0,5):\n",
        "   hap += scoreList[i]\n",
        "   count += 1\n",
        "\n",
        "avg = hap/count\n",
        "print(\"심사위원 평균 점수 : \", avg)"
      ],
      "metadata": {
        "colab": {
          "base_uri": "https://localhost:8080/"
        },
        "id": "fXZpRLuG8vB7",
        "outputId": "9daaf79a-23e5-45fe-f9bf-8fbc6acb5ad7"
      },
      "execution_count": null,
      "outputs": [
        {
          "output_type": "stream",
          "name": "stdout",
          "text": [
            "홍길동 선수 경기 끝났습니다.\n",
            "평가 점수 ==> 10\n",
            "평가 점수 ==> 9\n",
            "평가 점수 ==> 8\n",
            "평가 점수 ==> 9\n",
            "평가 점수 ==> 10\n",
            "심사위원 평균 점수 :  9.2\n"
          ]
        }
      ]
    },
    {
      "cell_type": "code",
      "source": [
        "import random\n",
        "print(\"가위바위보 게임\")\n",
        "count = int(input(\"시행할 횟수를 적어주세요 : \"))\n",
        "draw = 0\n",
        "com1 = 0\n",
        "com2 = 0\n",
        "for i in range(count):\n",
        "  com_pl1 = random.choice([\"가위\",\"바위\",\"보\"])#1 가위,2 바위,3 보\n",
        "  com_pl2 = random.choice([\"가위\",\"바위\",\"보\"])#1 가위,2 바위,3 보\n",
        "  if (com_pl1 == \"가위\" and  com_pl2 == \"가위\") or (com_pl1 == \"바위\" and  com_pl2 == \"바위\") or (com_pl1 == \"보\" and com_pl2 == \"보\"):\n",
        "    draw += 1\n",
        "  if (com_pl1 == \"가위\" and  com_pl2 == \"바위\") or (com_pl1 == \"바위\" and  com_pl2 == \"보\") or (com_pl1 == \"보\" and  com_pl2 == \"가위\"):\n",
        "    com2 += 1\n",
        "  if (com_pl1 == \"가위\" and  com_pl2 == \"보\") or (com_pl1 == \"바위\" and  com_pl2 == \"가위\") or (com_pl1 == \"보\" and  com_pl2 == \"바위\"):\n",
        "    com1 += 1\n",
        "print(count,\"번 중 컴퓨터1의 승리 : \",com1)\n",
        "print(count,\"번 중 컴퓨터2의 승리 : \",com2)\n",
        "print(count,\"번 중 비긴 경기 : \",draw)"
      ],
      "metadata": {
        "colab": {
          "base_uri": "https://localhost:8080/"
        },
        "id": "aB53iEsI_DEr",
        "outputId": "15217185-5c0b-4e24-fc07-6fdb9a91b383"
      },
      "execution_count": null,
      "outputs": [
        {
          "output_type": "stream",
          "name": "stdout",
          "text": [
            "가위바위보 게임\n",
            "시행할 횟수를 적어주세요 : 10000\n",
            "10000 번 중 컴퓨터1의 승리 :  3284\n",
            "10000 번 중 컴퓨터2의 승리 :  3379\n",
            "10000 번 중 비긴 경기 :  3337\n"
          ]
        }
      ]
    },
    {
      "cell_type": "code",
      "source": [
        "tDict = {\"이름\":\"트와이스\",\"구성원수\":9,\"데뷰\":\"서바이벌 식스틴\",\"대표곡\":\"CRY FOR ME\"}\n",
        "\n",
        "print(\"이름 ==>\",tDict[\"이름\"])\n",
        "print(\"구성원수 ==>\",tDict[\"구성원수\"])\n",
        "print(\"데뷰 ==>\",tDict[\"데뷰\"])\n",
        "print(\"대표곡 ==>\",tDict[\"대표곡\"])"
      ],
      "metadata": {
        "colab": {
          "base_uri": "https://localhost:8080/"
        },
        "id": "vFVtJGmLM0rw",
        "outputId": "63a5d3fd-b2b1-4825-b39b-adbeeb24104a"
      },
      "execution_count": null,
      "outputs": [
        {
          "output_type": "stream",
          "name": "stdout",
          "text": [
            "이름 ==> 트와이스\n",
            "구성원수 ==> 9\n",
            "데뷰 ==> 서바이벌 식스틴\n",
            "대표곡 ==> CRY FOR ME\n"
          ]
        }
      ]
    },
    {
      "cell_type": "code",
      "source": [
        "print(\"*** 물품과 재고량 입력***\")\n",
        "store = {}\n",
        "true = True\n",
        "while true:\n",
        "  ntt = input(\"입력 물품 : \")\n",
        "  num = input(\"재고량 : \")\n",
        "  a = input(\"더 추가하시겠습니까? (네/아니오) :\")\n",
        "  store[ntt] = {num}\n",
        "  if a == \"아니오\":\n",
        "    true = False\n",
        "\n",
        "true = True\n",
        "print(\"*** 물품의 재고량 확인***\")\n",
        "while true:\n",
        "  found = input(\"찾을 물품 : \")\n",
        "  if found in store :\n",
        "    print(store[found],\"개 남았습니다.\")\n",
        "  else:\n",
        "    print(\"물품을 찾을 수 없습니다\")\n",
        "  b = input(\"더 찾으시겠습니까? (네/아니오) :\")\n",
        "  if b == \"아니오\":\n",
        "    true= False"
      ],
      "metadata": {
        "colab": {
          "base_uri": "https://localhost:8080/"
        },
        "id": "u51VzgSWHVlJ",
        "outputId": "10d74804-6b96-4474-8b6b-f4f500888215"
      },
      "execution_count": 13,
      "outputs": [
        {
          "name": "stdout",
          "output_type": "stream",
          "text": [
            "*** 물품과 재고량 입력***\n",
            "입력 물품 : 우유\n",
            "재고량 : 10\n",
            "더 추가하시겠습니까? (네/아니오) :네\n",
            "입력 물품 : 사이다\n",
            "재고량 : 8\n",
            "더 추가하시겠습니까? (네/아니오) :아니오\n",
            "*** 물품의 재고량 확인ㅇ***\n",
            "찾을 물품 : 우유\n",
            "{'10'} 개 남았습니다.\n",
            "더 찾으시겠습니까? (네/아니오) :네\n",
            "찾을 물품 : 사이다\n",
            "{'8'} 개 남았습니다.\n",
            "더 찾으시겠습니까? (네/아니오) :아니오\n"
          ]
        }
      ]
    },
    {
      "cell_type": "code",
      "source": [
        "#!pip3 install ColabTurtle\n",
        "import ColabTurtle.Turtle as turtle\n",
        "import random\n",
        "\n",
        "turtleList = []\n",
        "colorList = [\"red\",\"green\",\"blue\",\"magenta\",\"orange\"]\n",
        "shapeList = [\"turtle\",\"circle\"]\n",
        "\n",
        "turtle.initializeTurtle()\n",
        "turtle.speed(10)\n",
        "\n",
        "for i in range(0,100):\n",
        "  shape = random.choice(shapeList)\n",
        "  color = random.choice(colorList)\n",
        "  x = random.randint(25,770)\n",
        "  y = random.randint(25,450)\n",
        "  tup = (shape,color,x,y)\n",
        "  turtleList.append(tup)\n",
        "\n",
        "for tup in turtleList :\n",
        "  turtle.home()\n",
        "  turtle.shape(tup[0])\n",
        "  turtle.pencolor(tup[1])\n",
        "  turtle.goto(tup[2],tup[3])\n",
        "  turtle.isdown()"
      ],
      "metadata": {
        "colab": {
          "base_uri": "https://localhost:8080/",
          "height": 520
        },
        "id": "Yvp0fQ-CMZgm",
        "outputId": "9356f217-1e77-4ba5-80b2-a8096b6d8669"
      },
      "execution_count": 35,
      "outputs": [
        {
          "output_type": "display_data",
          "data": {
            "text/plain": [
              "<IPython.core.display.HTML object>"
            ],
            "text/html": [
              "\n",
              "      <svg width=\"800\" height=\"500\">\n",
              "        <rect width=\"100%\" height=\"100%\" fill=\"black\"/>\n",
              "        <line x1=\"400\" y1=\"250\" x2=\"400\" y2=\"250\" stroke-linecap=\"round\" style=\"stroke:white;stroke-width:4\"/><line x1=\"400\" y1=\"250\" x2=\"706\" y2=\"415\" stroke-linecap=\"round\" style=\"stroke:magenta;stroke-width:4\"/><line x1=\"706\" y1=\"415\" x2=\"400\" y2=\"250\" stroke-linecap=\"round\" style=\"stroke:magenta;stroke-width:4\"/><line x1=\"400\" y1=\"250\" x2=\"513\" y2=\"150\" stroke-linecap=\"round\" style=\"stroke:magenta;stroke-width:4\"/><line x1=\"513\" y1=\"150\" x2=\"400\" y2=\"250\" stroke-linecap=\"round\" style=\"stroke:magenta;stroke-width:4\"/><line x1=\"400\" y1=\"250\" x2=\"168\" y2=\"382\" stroke-linecap=\"round\" style=\"stroke:orange;stroke-width:4\"/><line x1=\"168\" y1=\"382\" x2=\"400\" y2=\"250\" stroke-linecap=\"round\" style=\"stroke:orange;stroke-width:4\"/><line x1=\"400\" y1=\"250\" x2=\"532\" y2=\"419\" stroke-linecap=\"round\" style=\"stroke:orange;stroke-width:4\"/><line x1=\"532\" y1=\"419\" x2=\"400\" y2=\"250\" stroke-linecap=\"round\" style=\"stroke:orange;stroke-width:4\"/><line x1=\"400\" y1=\"250\" x2=\"298\" y2=\"212\" stroke-linecap=\"round\" style=\"stroke:blue;stroke-width:4\"/><line x1=\"298\" y1=\"212\" x2=\"400\" y2=\"250\" stroke-linecap=\"round\" style=\"stroke:blue;stroke-width:4\"/><line x1=\"400\" y1=\"250\" x2=\"513\" y2=\"90\" stroke-linecap=\"round\" style=\"stroke:orange;stroke-width:4\"/><line x1=\"513\" y1=\"90\" x2=\"400\" y2=\"250\" stroke-linecap=\"round\" style=\"stroke:orange;stroke-width:4\"/><line x1=\"400\" y1=\"250\" x2=\"196\" y2=\"153\" stroke-linecap=\"round\" style=\"stroke:blue;stroke-width:4\"/><line x1=\"196\" y1=\"153\" x2=\"400\" y2=\"250\" stroke-linecap=\"round\" style=\"stroke:blue;stroke-width:4\"/><line x1=\"400\" y1=\"250\" x2=\"661\" y2=\"82\" stroke-linecap=\"round\" style=\"stroke:green;stroke-width:4\"/><line x1=\"661\" y1=\"82\" x2=\"400\" y2=\"250\" stroke-linecap=\"round\" style=\"stroke:green;stroke-width:4\"/><line x1=\"400\" y1=\"250\" x2=\"365\" y2=\"416\" stroke-linecap=\"round\" style=\"stroke:red;stroke-width:4\"/><line x1=\"365\" y1=\"416\" x2=\"400\" y2=\"250\" stroke-linecap=\"round\" style=\"stroke:red;stroke-width:4\"/><line x1=\"400\" y1=\"250\" x2=\"533\" y2=\"41\" stroke-linecap=\"round\" style=\"stroke:orange;stroke-width:4\"/><line x1=\"533\" y1=\"41\" x2=\"400\" y2=\"250\" stroke-linecap=\"round\" style=\"stroke:orange;stroke-width:4\"/><line x1=\"400\" y1=\"250\" x2=\"571\" y2=\"335\" stroke-linecap=\"round\" style=\"stroke:magenta;stroke-width:4\"/><line x1=\"571\" y1=\"335\" x2=\"400\" y2=\"250\" stroke-linecap=\"round\" style=\"stroke:magenta;stroke-width:4\"/><line x1=\"400\" y1=\"250\" x2=\"755\" y2=\"164\" stroke-linecap=\"round\" style=\"stroke:magenta;stroke-width:4\"/><line x1=\"755\" y1=\"164\" x2=\"400\" y2=\"250\" stroke-linecap=\"round\" style=\"stroke:magenta;stroke-width:4\"/><line x1=\"400\" y1=\"250\" x2=\"193\" y2=\"269\" stroke-linecap=\"round\" style=\"stroke:orange;stroke-width:4\"/><line x1=\"193\" y1=\"269\" x2=\"400\" y2=\"250\" stroke-linecap=\"round\" style=\"stroke:orange;stroke-width:4\"/><line x1=\"400\" y1=\"250\" x2=\"453\" y2=\"66\" stroke-linecap=\"round\" style=\"stroke:green;stroke-width:4\"/><line x1=\"453\" y1=\"66\" x2=\"400\" y2=\"250\" stroke-linecap=\"round\" style=\"stroke:green;stroke-width:4\"/><line x1=\"400\" y1=\"250\" x2=\"645\" y2=\"291\" stroke-linecap=\"round\" style=\"stroke:magenta;stroke-width:4\"/><line x1=\"645\" y1=\"291\" x2=\"400\" y2=\"250\" stroke-linecap=\"round\" style=\"stroke:magenta;stroke-width:4\"/><line x1=\"400\" y1=\"250\" x2=\"353\" y2=\"206\" stroke-linecap=\"round\" style=\"stroke:red;stroke-width:4\"/><line x1=\"353\" y1=\"206\" x2=\"400\" y2=\"250\" stroke-linecap=\"round\" style=\"stroke:red;stroke-width:4\"/><line x1=\"400\" y1=\"250\" x2=\"111\" y2=\"169\" stroke-linecap=\"round\" style=\"stroke:blue;stroke-width:4\"/><line x1=\"111\" y1=\"169\" x2=\"400\" y2=\"250\" stroke-linecap=\"round\" style=\"stroke:blue;stroke-width:4\"/><line x1=\"400\" y1=\"250\" x2=\"326\" y2=\"382\" stroke-linecap=\"round\" style=\"stroke:orange;stroke-width:4\"/><line x1=\"326\" y1=\"382\" x2=\"400\" y2=\"250\" stroke-linecap=\"round\" style=\"stroke:orange;stroke-width:4\"/><line x1=\"400\" y1=\"250\" x2=\"444\" y2=\"299\" stroke-linecap=\"round\" style=\"stroke:red;stroke-width:4\"/><line x1=\"444\" y1=\"299\" x2=\"400\" y2=\"250\" stroke-linecap=\"round\" style=\"stroke:red;stroke-width:4\"/><line x1=\"400\" y1=\"250\" x2=\"209\" y2=\"78\" stroke-linecap=\"round\" style=\"stroke:red;stroke-width:4\"/><line x1=\"209\" y1=\"78\" x2=\"400\" y2=\"250\" stroke-linecap=\"round\" style=\"stroke:red;stroke-width:4\"/><line x1=\"400\" y1=\"250\" x2=\"398\" y2=\"140\" stroke-linecap=\"round\" style=\"stroke:red;stroke-width:4\"/><line x1=\"398\" y1=\"140\" x2=\"400\" y2=\"250\" stroke-linecap=\"round\" style=\"stroke:red;stroke-width:4\"/><line x1=\"400\" y1=\"250\" x2=\"452\" y2=\"415\" stroke-linecap=\"round\" style=\"stroke:red;stroke-width:4\"/><line x1=\"452\" y1=\"415\" x2=\"400\" y2=\"250\" stroke-linecap=\"round\" style=\"stroke:red;stroke-width:4\"/><line x1=\"400\" y1=\"250\" x2=\"494\" y2=\"256\" stroke-linecap=\"round\" style=\"stroke:green;stroke-width:4\"/><line x1=\"494\" y1=\"256\" x2=\"400\" y2=\"250\" stroke-linecap=\"round\" style=\"stroke:green;stroke-width:4\"/><line x1=\"400\" y1=\"250\" x2=\"271\" y2=\"417\" stroke-linecap=\"round\" style=\"stroke:blue;stroke-width:4\"/><line x1=\"271\" y1=\"417\" x2=\"400\" y2=\"250\" stroke-linecap=\"round\" style=\"stroke:blue;stroke-width:4\"/><line x1=\"400\" y1=\"250\" x2=\"770\" y2=\"192\" stroke-linecap=\"round\" style=\"stroke:green;stroke-width:4\"/><line x1=\"770\" y1=\"192\" x2=\"400\" y2=\"250\" stroke-linecap=\"round\" style=\"stroke:green;stroke-width:4\"/><line x1=\"400\" y1=\"250\" x2=\"566\" y2=\"26\" stroke-linecap=\"round\" style=\"stroke:blue;stroke-width:4\"/><line x1=\"566\" y1=\"26\" x2=\"400\" y2=\"250\" stroke-linecap=\"round\" style=\"stroke:blue;stroke-width:4\"/><line x1=\"400\" y1=\"250\" x2=\"542\" y2=\"232\" stroke-linecap=\"round\" style=\"stroke:orange;stroke-width:4\"/><line x1=\"542\" y1=\"232\" x2=\"400\" y2=\"250\" stroke-linecap=\"round\" style=\"stroke:orange;stroke-width:4\"/><line x1=\"400\" y1=\"250\" x2=\"651\" y2=\"195\" stroke-linecap=\"round\" style=\"stroke:blue;stroke-width:4\"/><line x1=\"651\" y1=\"195\" x2=\"400\" y2=\"250\" stroke-linecap=\"round\" style=\"stroke:blue;stroke-width:4\"/><line x1=\"400\" y1=\"250\" x2=\"215\" y2=\"150\" stroke-linecap=\"round\" style=\"stroke:blue;stroke-width:4\"/><line x1=\"215\" y1=\"150\" x2=\"400\" y2=\"250\" stroke-linecap=\"round\" style=\"stroke:blue;stroke-width:4\"/><line x1=\"400\" y1=\"250\" x2=\"710\" y2=\"369\" stroke-linecap=\"round\" style=\"stroke:green;stroke-width:4\"/><line x1=\"710\" y1=\"369\" x2=\"400\" y2=\"250\" stroke-linecap=\"round\" style=\"stroke:green;stroke-width:4\"/><line x1=\"400\" y1=\"250\" x2=\"744\" y2=\"90\" stroke-linecap=\"round\" style=\"stroke:orange;stroke-width:4\"/><line x1=\"744\" y1=\"90\" x2=\"400\" y2=\"250\" stroke-linecap=\"round\" style=\"stroke:orange;stroke-width:4\"/><line x1=\"400\" y1=\"250\" x2=\"506\" y2=\"288\" stroke-linecap=\"round\" style=\"stroke:orange;stroke-width:4\"/><line x1=\"506\" y1=\"288\" x2=\"400\" y2=\"250\" stroke-linecap=\"round\" style=\"stroke:orange;stroke-width:4\"/><line x1=\"400\" y1=\"250\" x2=\"51\" y2=\"96\" stroke-linecap=\"round\" style=\"stroke:red;stroke-width:4\"/><line x1=\"51\" y1=\"96\" x2=\"400\" y2=\"250\" stroke-linecap=\"round\" style=\"stroke:red;stroke-width:4\"/><line x1=\"400\" y1=\"250\" x2=\"644\" y2=\"376\" stroke-linecap=\"round\" style=\"stroke:red;stroke-width:4\"/><line x1=\"644\" y1=\"376\" x2=\"400\" y2=\"250\" stroke-linecap=\"round\" style=\"stroke:red;stroke-width:4\"/><line x1=\"400\" y1=\"250\" x2=\"690\" y2=\"258\" stroke-linecap=\"round\" style=\"stroke:orange;stroke-width:4\"/><line x1=\"690\" y1=\"258\" x2=\"400\" y2=\"250\" stroke-linecap=\"round\" style=\"stroke:orange;stroke-width:4\"/><line x1=\"400\" y1=\"250\" x2=\"527\" y2=\"257\" stroke-linecap=\"round\" style=\"stroke:magenta;stroke-width:4\"/><line x1=\"527\" y1=\"257\" x2=\"400\" y2=\"250\" stroke-linecap=\"round\" style=\"stroke:magenta;stroke-width:4\"/><line x1=\"400\" y1=\"250\" x2=\"180\" y2=\"252\" stroke-linecap=\"round\" style=\"stroke:red;stroke-width:4\"/><line x1=\"180\" y1=\"252\" x2=\"400\" y2=\"250\" stroke-linecap=\"round\" style=\"stroke:red;stroke-width:4\"/><line x1=\"400\" y1=\"250\" x2=\"29\" y2=\"69\" stroke-linecap=\"round\" style=\"stroke:orange;stroke-width:4\"/><line x1=\"29\" y1=\"69\" x2=\"400\" y2=\"250\" stroke-linecap=\"round\" style=\"stroke:orange;stroke-width:4\"/><line x1=\"400\" y1=\"250\" x2=\"755\" y2=\"59\" stroke-linecap=\"round\" style=\"stroke:magenta;stroke-width:4\"/><line x1=\"755\" y1=\"59\" x2=\"400\" y2=\"250\" stroke-linecap=\"round\" style=\"stroke:magenta;stroke-width:4\"/><line x1=\"400\" y1=\"250\" x2=\"540\" y2=\"421\" stroke-linecap=\"round\" style=\"stroke:blue;stroke-width:4\"/><line x1=\"540\" y1=\"421\" x2=\"400\" y2=\"250\" stroke-linecap=\"round\" style=\"stroke:blue;stroke-width:4\"/><line x1=\"400\" y1=\"250\" x2=\"453\" y2=\"42\" stroke-linecap=\"round\" style=\"stroke:orange;stroke-width:4\"/><line x1=\"453\" y1=\"42\" x2=\"400\" y2=\"250\" stroke-linecap=\"round\" style=\"stroke:orange;stroke-width:4\"/><line x1=\"400\" y1=\"250\" x2=\"303\" y2=\"361\" stroke-linecap=\"round\" style=\"stroke:green;stroke-width:4\"/><line x1=\"303\" y1=\"361\" x2=\"400\" y2=\"250\" stroke-linecap=\"round\" style=\"stroke:green;stroke-width:4\"/><line x1=\"400\" y1=\"250\" x2=\"478\" y2=\"31\" stroke-linecap=\"round\" style=\"stroke:green;stroke-width:4\"/><line x1=\"478\" y1=\"31\" x2=\"400\" y2=\"250\" stroke-linecap=\"round\" style=\"stroke:green;stroke-width:4\"/><line x1=\"400\" y1=\"250\" x2=\"697\" y2=\"334\" stroke-linecap=\"round\" style=\"stroke:orange;stroke-width:4\"/><line x1=\"697\" y1=\"334\" x2=\"400\" y2=\"250\" stroke-linecap=\"round\" style=\"stroke:orange;stroke-width:4\"/><line x1=\"400\" y1=\"250\" x2=\"171\" y2=\"36\" stroke-linecap=\"round\" style=\"stroke:blue;stroke-width:4\"/><line x1=\"171\" y1=\"36\" x2=\"400\" y2=\"250\" stroke-linecap=\"round\" style=\"stroke:blue;stroke-width:4\"/><line x1=\"400\" y1=\"250\" x2=\"115\" y2=\"195\" stroke-linecap=\"round\" style=\"stroke:blue;stroke-width:4\"/><line x1=\"115\" y1=\"195\" x2=\"400\" y2=\"250\" stroke-linecap=\"round\" style=\"stroke:blue;stroke-width:4\"/><line x1=\"400\" y1=\"250\" x2=\"540\" y2=\"292\" stroke-linecap=\"round\" style=\"stroke:green;stroke-width:4\"/><line x1=\"540\" y1=\"292\" x2=\"400\" y2=\"250\" stroke-linecap=\"round\" style=\"stroke:green;stroke-width:4\"/><line x1=\"400\" y1=\"250\" x2=\"261\" y2=\"346\" stroke-linecap=\"round\" style=\"stroke:magenta;stroke-width:4\"/><line x1=\"261\" y1=\"346\" x2=\"400\" y2=\"250\" stroke-linecap=\"round\" style=\"stroke:magenta;stroke-width:4\"/><line x1=\"400\" y1=\"250\" x2=\"767\" y2=\"129\" stroke-linecap=\"round\" style=\"stroke:red;stroke-width:4\"/><line x1=\"767\" y1=\"129\" x2=\"400\" y2=\"250\" stroke-linecap=\"round\" style=\"stroke:red;stroke-width:4\"/><line x1=\"400\" y1=\"250\" x2=\"252\" y2=\"109\" stroke-linecap=\"round\" style=\"stroke:orange;stroke-width:4\"/><line x1=\"252\" y1=\"109\" x2=\"400\" y2=\"250\" stroke-linecap=\"round\" style=\"stroke:orange;stroke-width:4\"/><line x1=\"400\" y1=\"250\" x2=\"237\" y2=\"360\" stroke-linecap=\"round\" style=\"stroke:red;stroke-width:4\"/><line x1=\"237\" y1=\"360\" x2=\"400\" y2=\"250\" stroke-linecap=\"round\" style=\"stroke:red;stroke-width:4\"/><line x1=\"400\" y1=\"250\" x2=\"655\" y2=\"272\" stroke-linecap=\"round\" style=\"stroke:green;stroke-width:4\"/><line x1=\"655\" y1=\"272\" x2=\"400\" y2=\"250\" stroke-linecap=\"round\" style=\"stroke:green;stroke-width:4\"/><line x1=\"400\" y1=\"250\" x2=\"552\" y2=\"323\" stroke-linecap=\"round\" style=\"stroke:red;stroke-width:4\"/><line x1=\"552\" y1=\"323\" x2=\"400\" y2=\"250\" stroke-linecap=\"round\" style=\"stroke:red;stroke-width:4\"/><line x1=\"400\" y1=\"250\" x2=\"737\" y2=\"325\" stroke-linecap=\"round\" style=\"stroke:magenta;stroke-width:4\"/><line x1=\"737\" y1=\"325\" x2=\"400\" y2=\"250\" stroke-linecap=\"round\" style=\"stroke:magenta;stroke-width:4\"/><line x1=\"400\" y1=\"250\" x2=\"420\" y2=\"406\" stroke-linecap=\"round\" style=\"stroke:magenta;stroke-width:4\"/><line x1=\"420\" y1=\"406\" x2=\"400\" y2=\"250\" stroke-linecap=\"round\" style=\"stroke:magenta;stroke-width:4\"/><line x1=\"400\" y1=\"250\" x2=\"455\" y2=\"82\" stroke-linecap=\"round\" style=\"stroke:orange;stroke-width:4\"/><line x1=\"455\" y1=\"82\" x2=\"400\" y2=\"250\" stroke-linecap=\"round\" style=\"stroke:orange;stroke-width:4\"/><line x1=\"400\" y1=\"250\" x2=\"587\" y2=\"343\" stroke-linecap=\"round\" style=\"stroke:green;stroke-width:4\"/><line x1=\"587\" y1=\"343\" x2=\"400\" y2=\"250\" stroke-linecap=\"round\" style=\"stroke:green;stroke-width:4\"/><line x1=\"400\" y1=\"250\" x2=\"293\" y2=\"423\" stroke-linecap=\"round\" style=\"stroke:blue;stroke-width:4\"/><line x1=\"293\" y1=\"423\" x2=\"400\" y2=\"250\" stroke-linecap=\"round\" style=\"stroke:blue;stroke-width:4\"/><line x1=\"400\" y1=\"250\" x2=\"230\" y2=\"113\" stroke-linecap=\"round\" style=\"stroke:blue;stroke-width:4\"/><line x1=\"230\" y1=\"113\" x2=\"400\" y2=\"250\" stroke-linecap=\"round\" style=\"stroke:blue;stroke-width:4\"/><line x1=\"400\" y1=\"250\" x2=\"397\" y2=\"269\" stroke-linecap=\"round\" style=\"stroke:red;stroke-width:4\"/><line x1=\"397\" y1=\"269\" x2=\"400\" y2=\"250\" stroke-linecap=\"round\" style=\"stroke:red;stroke-width:4\"/><line x1=\"400\" y1=\"250\" x2=\"707\" y2=\"183\" stroke-linecap=\"round\" style=\"stroke:blue;stroke-width:4\"/><line x1=\"707\" y1=\"183\" x2=\"400\" y2=\"250\" stroke-linecap=\"round\" style=\"stroke:blue;stroke-width:4\"/><line x1=\"400\" y1=\"250\" x2=\"452\" y2=\"163\" stroke-linecap=\"round\" style=\"stroke:blue;stroke-width:4\"/><line x1=\"452\" y1=\"163\" x2=\"400\" y2=\"250\" stroke-linecap=\"round\" style=\"stroke:blue;stroke-width:4\"/><line x1=\"400\" y1=\"250\" x2=\"212\" y2=\"406\" stroke-linecap=\"round\" style=\"stroke:blue;stroke-width:4\"/><line x1=\"212\" y1=\"406\" x2=\"400\" y2=\"250\" stroke-linecap=\"round\" style=\"stroke:blue;stroke-width:4\"/><line x1=\"400\" y1=\"250\" x2=\"86\" y2=\"114\" stroke-linecap=\"round\" style=\"stroke:green;stroke-width:4\"/><line x1=\"86\" y1=\"114\" x2=\"400\" y2=\"250\" stroke-linecap=\"round\" style=\"stroke:green;stroke-width:4\"/><line x1=\"400\" y1=\"250\" x2=\"579\" y2=\"269\" stroke-linecap=\"round\" style=\"stroke:orange;stroke-width:4\"/><line x1=\"579\" y1=\"269\" x2=\"400\" y2=\"250\" stroke-linecap=\"round\" style=\"stroke:orange;stroke-width:4\"/><line x1=\"400\" y1=\"250\" x2=\"170\" y2=\"447\" stroke-linecap=\"round\" style=\"stroke:green;stroke-width:4\"/><line x1=\"170\" y1=\"447\" x2=\"400\" y2=\"250\" stroke-linecap=\"round\" style=\"stroke:green;stroke-width:4\"/><line x1=\"400\" y1=\"250\" x2=\"413\" y2=\"96\" stroke-linecap=\"round\" style=\"stroke:green;stroke-width:4\"/><line x1=\"413\" y1=\"96\" x2=\"400\" y2=\"250\" stroke-linecap=\"round\" style=\"stroke:green;stroke-width:4\"/><line x1=\"400\" y1=\"250\" x2=\"140\" y2=\"306\" stroke-linecap=\"round\" style=\"stroke:orange;stroke-width:4\"/><line x1=\"140\" y1=\"306\" x2=\"400\" y2=\"250\" stroke-linecap=\"round\" style=\"stroke:orange;stroke-width:4\"/><line x1=\"400\" y1=\"250\" x2=\"732\" y2=\"296\" stroke-linecap=\"round\" style=\"stroke:blue;stroke-width:4\"/><line x1=\"732\" y1=\"296\" x2=\"400\" y2=\"250\" stroke-linecap=\"round\" style=\"stroke:blue;stroke-width:4\"/><line x1=\"400\" y1=\"250\" x2=\"288\" y2=\"40\" stroke-linecap=\"round\" style=\"stroke:magenta;stroke-width:4\"/><line x1=\"288\" y1=\"40\" x2=\"400\" y2=\"250\" stroke-linecap=\"round\" style=\"stroke:magenta;stroke-width:4\"/><line x1=\"400\" y1=\"250\" x2=\"472\" y2=\"101\" stroke-linecap=\"round\" style=\"stroke:magenta;stroke-width:4\"/><line x1=\"472\" y1=\"101\" x2=\"400\" y2=\"250\" stroke-linecap=\"round\" style=\"stroke:magenta;stroke-width:4\"/><line x1=\"400\" y1=\"250\" x2=\"723\" y2=\"282\" stroke-linecap=\"round\" style=\"stroke:orange;stroke-width:4\"/><line x1=\"723\" y1=\"282\" x2=\"400\" y2=\"250\" stroke-linecap=\"round\" style=\"stroke:orange;stroke-width:4\"/><line x1=\"400\" y1=\"250\" x2=\"281\" y2=\"106\" stroke-linecap=\"round\" style=\"stroke:magenta;stroke-width:4\"/><line x1=\"281\" y1=\"106\" x2=\"400\" y2=\"250\" stroke-linecap=\"round\" style=\"stroke:magenta;stroke-width:4\"/><line x1=\"400\" y1=\"250\" x2=\"585\" y2=\"125\" stroke-linecap=\"round\" style=\"stroke:red;stroke-width:4\"/><line x1=\"585\" y1=\"125\" x2=\"400\" y2=\"250\" stroke-linecap=\"round\" style=\"stroke:red;stroke-width:4\"/><line x1=\"400\" y1=\"250\" x2=\"737\" y2=\"137\" stroke-linecap=\"round\" style=\"stroke:red;stroke-width:4\"/><line x1=\"737\" y1=\"137\" x2=\"400\" y2=\"250\" stroke-linecap=\"round\" style=\"stroke:red;stroke-width:4\"/><line x1=\"400\" y1=\"250\" x2=\"163\" y2=\"51\" stroke-linecap=\"round\" style=\"stroke:red;stroke-width:4\"/><line x1=\"163\" y1=\"51\" x2=\"400\" y2=\"250\" stroke-linecap=\"round\" style=\"stroke:red;stroke-width:4\"/><line x1=\"400\" y1=\"250\" x2=\"569\" y2=\"385\" stroke-linecap=\"round\" style=\"stroke:green;stroke-width:4\"/><line x1=\"569\" y1=\"385\" x2=\"400\" y2=\"250\" stroke-linecap=\"round\" style=\"stroke:green;stroke-width:4\"/><line x1=\"400\" y1=\"250\" x2=\"583\" y2=\"426\" stroke-linecap=\"round\" style=\"stroke:red;stroke-width:4\"/><line x1=\"583\" y1=\"426\" x2=\"400\" y2=\"250\" stroke-linecap=\"round\" style=\"stroke:red;stroke-width:4\"/><line x1=\"400\" y1=\"250\" x2=\"160\" y2=\"91\" stroke-linecap=\"round\" style=\"stroke:orange;stroke-width:4\"/><line x1=\"160\" y1=\"91\" x2=\"400\" y2=\"250\" stroke-linecap=\"round\" style=\"stroke:orange;stroke-width:4\"/><line x1=\"400\" y1=\"250\" x2=\"355\" y2=\"345\" stroke-linecap=\"round\" style=\"stroke:green;stroke-width:4\"/><line x1=\"355\" y1=\"345\" x2=\"400\" y2=\"250\" stroke-linecap=\"round\" style=\"stroke:green;stroke-width:4\"/><line x1=\"400\" y1=\"250\" x2=\"487\" y2=\"306\" stroke-linecap=\"round\" style=\"stroke:red;stroke-width:4\"/><line x1=\"487\" y1=\"306\" x2=\"400\" y2=\"250\" stroke-linecap=\"round\" style=\"stroke:red;stroke-width:4\"/><line x1=\"400\" y1=\"250\" x2=\"737\" y2=\"74\" stroke-linecap=\"round\" style=\"stroke:orange;stroke-width:4\"/><line x1=\"737\" y1=\"74\" x2=\"400\" y2=\"250\" stroke-linecap=\"round\" style=\"stroke:orange;stroke-width:4\"/><line x1=\"400\" y1=\"250\" x2=\"569\" y2=\"247\" stroke-linecap=\"round\" style=\"stroke:blue;stroke-width:4\"/><line x1=\"569\" y1=\"247\" x2=\"400\" y2=\"250\" stroke-linecap=\"round\" style=\"stroke:blue;stroke-width:4\"/><line x1=\"400\" y1=\"250\" x2=\"117\" y2=\"329\" stroke-linecap=\"round\" style=\"stroke:orange;stroke-width:4\"/><line x1=\"117\" y1=\"329\" x2=\"400\" y2=\"250\" stroke-linecap=\"round\" style=\"stroke:orange;stroke-width:4\"/><line x1=\"400\" y1=\"250\" x2=\"63\" y2=\"86\" stroke-linecap=\"round\" style=\"stroke:magenta;stroke-width:4\"/><line x1=\"63\" y1=\"86\" x2=\"400\" y2=\"250\" stroke-linecap=\"round\" style=\"stroke:magenta;stroke-width:4\"/><line x1=\"400\" y1=\"250\" x2=\"39\" y2=\"403\" stroke-linecap=\"round\" style=\"stroke:green;stroke-width:4\"/><line x1=\"39\" y1=\"403\" x2=\"400\" y2=\"250\" stroke-linecap=\"round\" style=\"stroke:green;stroke-width:4\"/><line x1=\"400\" y1=\"250\" x2=\"261\" y2=\"304\" stroke-linecap=\"round\" style=\"stroke:green;stroke-width:4\"/><line x1=\"261\" y1=\"304\" x2=\"400\" y2=\"250\" stroke-linecap=\"round\" style=\"stroke:green;stroke-width:4\"/><line x1=\"400\" y1=\"250\" x2=\"336\" y2=\"51\" stroke-linecap=\"round\" style=\"stroke:magenta;stroke-width:4\"/><line x1=\"336\" y1=\"51\" x2=\"400\" y2=\"250\" stroke-linecap=\"round\" style=\"stroke:magenta;stroke-width:4\"/><line x1=\"400\" y1=\"250\" x2=\"208\" y2=\"279\" stroke-linecap=\"round\" style=\"stroke:green;stroke-width:4\"/><line x1=\"208\" y1=\"279\" x2=\"400\" y2=\"250\" stroke-linecap=\"round\" style=\"stroke:green;stroke-width:4\"/><line x1=\"400\" y1=\"250\" x2=\"57\" y2=\"131\" stroke-linecap=\"round\" style=\"stroke:green;stroke-width:4\"/><line x1=\"57\" y1=\"131\" x2=\"400\" y2=\"250\" stroke-linecap=\"round\" style=\"stroke:green;stroke-width:4\"/><line x1=\"400\" y1=\"250\" x2=\"302\" y2=\"42\" stroke-linecap=\"round\" style=\"stroke:red;stroke-width:4\"/><line x1=\"302\" y1=\"42\" x2=\"400\" y2=\"250\" stroke-linecap=\"round\" style=\"stroke:red;stroke-width:4\"/><line x1=\"400\" y1=\"250\" x2=\"504\" y2=\"199\" stroke-linecap=\"round\" style=\"stroke:magenta;stroke-width:4\"/><line x1=\"504\" y1=\"199\" x2=\"400\" y2=\"250\" stroke-linecap=\"round\" style=\"stroke:magenta;stroke-width:4\"/><line x1=\"400\" y1=\"250\" x2=\"424\" y2=\"314\" stroke-linecap=\"round\" style=\"stroke:orange;stroke-width:4\"/><line x1=\"424\" y1=\"314\" x2=\"400\" y2=\"250\" stroke-linecap=\"round\" style=\"stroke:orange;stroke-width:4\"/><line x1=\"400\" y1=\"250\" x2=\"210\" y2=\"31\" stroke-linecap=\"round\" style=\"stroke:orange;stroke-width:4\"/><line x1=\"210\" y1=\"31\" x2=\"400\" y2=\"250\" stroke-linecap=\"round\" style=\"stroke:orange;stroke-width:4\"/><line x1=\"400\" y1=\"250\" x2=\"327\" y2=\"76\" stroke-linecap=\"round\" style=\"stroke:orange;stroke-width:4\"/><line x1=\"327\" y1=\"76\" x2=\"400\" y2=\"250\" stroke-linecap=\"round\" style=\"stroke:orange;stroke-width:4\"/><line x1=\"400\" y1=\"250\" x2=\"423\" y2=\"338\" stroke-linecap=\"round\" style=\"stroke:orange;stroke-width:4\"/><line x1=\"423\" y1=\"338\" x2=\"400\" y2=\"250\" stroke-linecap=\"round\" style=\"stroke:orange;stroke-width:4\"/><line x1=\"400\" y1=\"250\" x2=\"173\" y2=\"153\" stroke-linecap=\"round\" style=\"stroke:blue;stroke-width:4\"/><line x1=\"173\" y1=\"153\" x2=\"400\" y2=\"250\" stroke-linecap=\"round\" style=\"stroke:blue;stroke-width:4\"/><line x1=\"400\" y1=\"250\" x2=\"720\" y2=\"26\" stroke-linecap=\"round\" style=\"stroke:red;stroke-width:4\"/><line x1=\"720\" y1=\"26\" x2=\"400\" y2=\"250\" stroke-linecap=\"round\" style=\"stroke:red;stroke-width:4\"/><line x1=\"400\" y1=\"250\" x2=\"142\" y2=\"25\" stroke-linecap=\"round\" style=\"stroke:blue;stroke-width:4\"/><line x1=\"142\" y1=\"25\" x2=\"400\" y2=\"250\" stroke-linecap=\"round\" style=\"stroke:blue;stroke-width:4\"/><line x1=\"400\" y1=\"250\" x2=\"487\" y2=\"264\" stroke-linecap=\"round\" style=\"stroke:green;stroke-width:4\"/>\n",
              "        <g visibility=visible transform=\"rotate(360,487,264) translate(469, 246)\">\n",
              "<path style=\" stroke:none;fill-rule:evenodd;fill:green;fill-opacity:1;\" d=\"M 18.214844 0.632812 C 16.109375 1.800781 15.011719 4.074219 15.074219 7.132812 L 15.085938 7.652344 L 14.785156 7.496094 C 13.476562 6.824219 11.957031 6.671875 10.40625 7.066406 C 8.46875 7.550781 6.515625 9.15625 4.394531 11.992188 C 3.0625 13.777344 2.679688 14.636719 3.042969 15.027344 L 3.15625 15.152344 L 3.519531 15.152344 C 4.238281 15.152344 4.828125 14.886719 8.1875 13.039062 C 9.386719 12.378906 10.371094 11.839844 10.378906 11.839844 C 10.386719 11.839844 10.355469 11.929688 10.304688 12.035156 C 9.832031 13.09375 9.257812 14.820312 8.96875 16.078125 C 7.914062 20.652344 8.617188 24.53125 11.070312 27.660156 C 11.351562 28.015625 11.363281 27.914062 10.972656 28.382812 C 8.925781 30.84375 7.945312 33.28125 8.238281 35.1875 C 8.289062 35.527344 8.28125 35.523438 8.917969 35.523438 C 10.941406 35.523438 13.074219 34.207031 15.136719 31.6875 C 15.359375 31.417969 15.328125 31.425781 15.5625 31.574219 C 16.292969 32.042969 18.023438 32.964844 18.175781 32.964844 C 18.335938 32.964844 19.941406 32.210938 20.828125 31.71875 C 20.996094 31.625 21.136719 31.554688 21.136719 31.558594 C 21.203125 31.664062 21.898438 32.414062 22.222656 32.730469 C 23.835938 34.300781 25.5625 35.132812 27.582031 35.300781 C 27.90625 35.328125 27.9375 35.308594 28.007812 34.984375 C 28.382812 33.242188 27.625 30.925781 25.863281 28.425781 L 25.542969 27.96875 L 25.699219 27.785156 C 28.945312 23.960938 29.132812 18.699219 26.257812 11.96875 L 26.207031 11.84375 L 27.945312 12.703125 C 31.53125 14.476562 32.316406 14.800781 33.03125 14.800781 C 33.976562 14.800781 33.78125 13.9375 32.472656 12.292969 C 28.519531 7.355469 25.394531 5.925781 21.921875 7.472656 L 21.558594 7.636719 L 21.578125 7.542969 C 21.699219 6.992188 21.761719 5.742188 21.699219 5.164062 C 21.496094 3.296875 20.664062 1.964844 19.003906 0.855469 C 18.480469 0.503906 18.457031 0.5 18.214844 0.632812\"/>\n",
              "</g>\n",
              "      </svg>\n",
              "    "
            ]
          },
          "metadata": {}
        }
      ]
    },
    {
      "cell_type": "code",
      "source": [
        "#!pip3 install ColabTurtle\n",
        "import ColabTurtle.Turtle as turtle\n",
        "\n",
        "dir(turtle)\n",
        "help(turtle)"
      ],
      "metadata": {
        "id": "P-EFMZNaOSBv"
      },
      "execution_count": null,
      "outputs": []
    },
    {
      "cell_type": "code",
      "source": [
        "a = input()\n",
        "b = []\n",
        "for i in range(1,len(a)+1):\n",
        "  if a[i-1:i].isupper() == True:\n",
        "    b.append(a[i-1:i].lower())\n",
        "  else:\n",
        "    b.append(a[i-1:i].upper())\n",
        "for i in range(0,len(b)):\n",
        "  print(b[i],end=\"\")"
      ],
      "metadata": {
        "colab": {
          "base_uri": "https://localhost:8080/"
        },
        "id": "XLDfZyryXN77",
        "outputId": "7e144570-9071-40a8-bf00-950519762792"
      },
      "execution_count": 53,
      "outputs": [
        {
          "output_type": "stream",
          "name": "stdout",
          "text": [
            "fajdfadfADFASD\n",
            "FAJDFADFadfasd"
          ]
        }
      ]
    },
    {
      "cell_type": "code",
      "source": [
        "inp = input(\"원본 문자열 ==> \")\n",
        "print(\"반대 문자열 ==>\",end=\" \")\n",
        "for i in range(len(inp)):\n",
        "  print(inp[len(inp)-i-1],end=\"\")"
      ],
      "metadata": {
        "colab": {
          "base_uri": "https://localhost:8080/"
        },
        "id": "Nj84_lTTZcK8",
        "outputId": "64bbce50-b8cd-4292-f723-206e323e22b8"
      },
      "execution_count": 55,
      "outputs": [
        {
          "output_type": "stream",
          "name": "stdout",
          "text": [
            "원본 문자열 ==> 10103330\n",
            "반대 문자열 ==> 03330101"
          ]
        }
      ]
    },
    {
      "cell_type": "code",
      "source": [
        "a = input()\n",
        "b = input()\n",
        "r = len(a) - len(b)\n",
        "print(\"둘 문자열의 차이는\",r,\"입니다\") "
      ],
      "metadata": {
        "colab": {
          "base_uri": "https://localhost:8080/"
        },
        "id": "9pnqRRWlaGXU",
        "outputId": "d273830e-244a-46a9-e8da-d65b06bbd7fb"
      },
      "execution_count": 54,
      "outputs": [
        {
          "output_type": "stream",
          "name": "stdout",
          "text": [
            "ㅁㄹㅁㄴㅇㄹㅁ\n",
            "ㅁㄴ\n",
            "둘 문자열의 차이는 5 입니다\n"
          ]
        }
      ]
    },
    {
      "cell_type": "code",
      "source": [
        "lb = input(\"lb 입력 \")\n",
        "rlb = float(lb) * 0.453592\n",
        "print(\"lb -> kg\",rlb)\n",
        "kg = input(\"kg 입력 \")\n",
        "rkg = float(kg) * 2.204623\n",
        "print(\"kg -> lb\",rkg)"
      ],
      "metadata": {
        "colab": {
          "base_uri": "https://localhost:8080/"
        },
        "id": "8u-p7F9AbM1z",
        "outputId": "ed145c25-04b4-4062-e7e4-b63aa8aef82f"
      },
      "execution_count": 57,
      "outputs": [
        {
          "output_type": "stream",
          "name": "stdout",
          "text": [
            "lb 입력10\n",
            "lb -> kg 4.53592\n",
            "kg 입력10\n",
            "kg -> lb 22.04623\n"
          ]
        }
      ]
    }
  ]
}
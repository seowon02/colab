{
  "nbformat": 4,
  "nbformat_minor": 0,
  "metadata": {
    "colab": {
      "provenance": [],
      "collapsed_sections": [],
      "authorship_tag": "ABX9TyNXaBCBQHouG90lVRYa8Fhj",
      "include_colab_link": true
    },
    "kernelspec": {
      "name": "python3",
      "display_name": "Python 3"
    },
    "language_info": {
      "name": "python"
    }
  },
  "cells": [
    {
      "cell_type": "markdown",
      "metadata": {
        "id": "view-in-github",
        "colab_type": "text"
      },
      "source": [
        "<a href=\"https://colab.research.google.com/github/seowon02/colab/blob/main/Lession7.ipynb\" target=\"_parent\"><img src=\"https://colab.research.google.com/assets/colab-badge.svg\" alt=\"Open In Colab\"/></a>"
      ]
    },
    {
      "cell_type": "code",
      "execution_count": null,
      "metadata": {
        "id": "Q-oDqA97pXAA",
        "colab": {
          "base_uri": "https://localhost:8080/"
        },
        "outputId": "00c2a594-06b8-42fc-9613-00cbe736847b"
      },
      "outputs": [
        {
          "output_type": "stream",
          "name": "stdout",
          "text": [
            "숫자 : 1\n",
            "숫자 : 2\n",
            "숫자 : 3\n",
            "숫자 : 4\n",
            "합계 ==> 10\n"
          ]
        }
      ],
      "source": [
        "num1,num2,num3,num4 = 0,0,0,0\n",
        "hap = 0\n",
        "\n",
        "num1 = int(input(\"숫자 : \"))\n",
        "num2 = int(input(\"숫자 : \"))\n",
        "num3 = int(input(\"숫자 : \"))\n",
        "num4 = int(input(\"숫자 : \"))\n",
        "\n",
        "hap = num1 + num2 + num3 + num4\n",
        "\n",
        "print(\"합계 ==>\",hap)"
      ]
    },
    {
      "cell_type": "code",
      "source": [
        "numList = [0,0,0,0]\n",
        "hap = 0\n",
        "\n",
        "for i in range(0,len(numList)):\n",
        "  numList[i] = int(input(\"숫자 : \"))\n",
        "\n",
        "for i in range(0,len(numList)):\n",
        "  hap += numList[i]\n",
        "\n",
        "print(\"합계 ==> \",hap)"
      ],
      "metadata": {
        "colab": {
          "base_uri": "https://localhost:8080/"
        },
        "id": "HaT_l5f5sHWY",
        "outputId": "fa2cf9d0-7ee4-4c34-df13-80b015e9590f"
      },
      "execution_count": null,
      "outputs": [
        {
          "output_type": "stream",
          "name": "stdout",
          "text": [
            "숫자 : 1\n",
            "숫자 : 2\n",
            "숫자 : 3\n",
            "숫자 : 4\n",
            "합계 ==>  10\n"
          ]
        }
      ]
    },
    {
      "cell_type": "code",
      "source": [
        "numList = []\n",
        "numList.append(0)\n",
        "numList.append(0)\n",
        "numList.append(0)\n",
        "numList.append(0)\n",
        "print(numList)"
      ],
      "metadata": {
        "colab": {
          "base_uri": "https://localhost:8080/"
        },
        "id": "vDzoWc3ws3lO",
        "outputId": "a80bd142-bbff-4e87-e566-07881398e2f7"
      },
      "execution_count": null,
      "outputs": [
        {
          "output_type": "stream",
          "name": "stdout",
          "text": [
            "[0, 0, 0, 0]\n"
          ]
        }
      ]
    },
    {
      "cell_type": "code",
      "source": [
        "numList = []\n",
        "for i in range(0,4):\n",
        "  numList.append(0)\n",
        "len(numList)"
      ],
      "metadata": {
        "colab": {
          "base_uri": "https://localhost:8080/"
        },
        "id": "KyczG_POtE9N",
        "outputId": "02ac6d00-5302-4e36-c459-0a7bb0a97bc9"
      },
      "execution_count": null,
      "outputs": [
        {
          "output_type": "execute_result",
          "data": {
            "text/plain": [
              "4"
            ]
          },
          "metadata": {},
          "execution_count": 5
        }
      ]
    },
    {
      "cell_type": "code",
      "source": [
        "numList = []\n",
        "for i in range(0,4):\n",
        "  numList.append(0)\n",
        "hap = 0\n",
        "\n",
        "for i in range(0,4):\n",
        "  numList[i] = int(input(\"숫자 : \"))\n",
        "\n",
        "for i in range(0,4):\n",
        "  hap += numList[i]\n",
        "\n",
        "print(\"합계 ==> \",hap)"
      ],
      "metadata": {
        "colab": {
          "base_uri": "https://localhost:8080/"
        },
        "id": "kEd0JJz2tyHF",
        "outputId": "95e3fe37-bf27-4617-e815-51cb42c9a7ba"
      },
      "execution_count": null,
      "outputs": [
        {
          "output_type": "stream",
          "name": "stdout",
          "text": [
            "숫자 : 1\n",
            "숫자 : 2\n",
            "숫자 : 3\n",
            "숫자 : 4\n",
            "합계 ==>  10\n"
          ]
        }
      ]
    },
    {
      "cell_type": "code",
      "source": [
        "import random\n",
        "\n",
        "wise_saying_List = [\"산다는것 그것은 치열한 전투이다.\",\"세상은 고통으로 가득하지만 그것을 극복하는 사람들로도 가득하다\",\"한 번 실패와 영원한 실패를 혼동하지 마라\",\"도중에 포기하지 말라. 망설이지 말라. 최후의 성공을 거둘 때까지 밀고 나가자\",\"네 자신의 불행을 생각하지 않게 되는 가장 좋은 방법은 일에 몰두하는 것이다\"]\n",
        "\n",
        "r = random.randint(0,4)\n",
        "print(\"오늘의 명언 ==>\",wise_saying_List[r])"
      ],
      "metadata": {
        "colab": {
          "base_uri": "https://localhost:8080/"
        },
        "id": "ND5Zdx52w4dG",
        "outputId": "42eb492b-61cc-4b17-fad1-1c19122fad20"
      },
      "execution_count": null,
      "outputs": [
        {
          "output_type": "stream",
          "name": "stdout",
          "text": [
            "오늘의 명언 ==> 네 자신의 불행을 생각하지 않게 되는 가장 좋은 방법은 일에 몰두하는 것이다\n"
          ]
        }
      ]
    },
    {
      "cell_type": "code",
      "source": [
        "numList2 = [[1,2,3,4],\n",
        "            [5,6,7,8],\n",
        "            [9,10,11,12]]\n",
        "\n",
        "for i in range(0,3):\n",
        "  for ii in range(0,4):\n",
        "    print(\" \",numList2[1][ii],end='')\n",
        "  print(\"\")"
      ],
      "metadata": {
        "colab": {
          "base_uri": "https://localhost:8080/"
        },
        "id": "9t-PtE5t607I",
        "outputId": "684496df-be36-4566-8060-c78f681d5e40"
      },
      "execution_count": null,
      "outputs": [
        {
          "output_type": "stream",
          "name": "stdout",
          "text": [
            "  5  6  7  8\n",
            "  5  6  7  8\n",
            "  5  6  7  8\n"
          ]
        }
      ]
    },
    {
      "cell_type": "code",
      "source": [
        "print(\"홍길동 선수 경기 끝났습니다.\")\n",
        "\n",
        "scoreList = []\n",
        "for i in range(0,5):\n",
        "  scoreList.append(0)\n",
        "  scoreList[i] = int(input(\"평가 점수 ==> \"))\n",
        "\n",
        "avg = 0\n",
        "hap = 0\n",
        "count = 0\n",
        "for i in range(0,5):\n",
        "   hap += scoreList[i]\n",
        "   count += 1\n",
        "\n",
        "avg = hap/count\n",
        "print(\"심사위원 평균 점수 : \", avg)"
      ],
      "metadata": {
        "colab": {
          "base_uri": "https://localhost:8080/"
        },
        "id": "fXZpRLuG8vB7",
        "outputId": "9daaf79a-23e5-45fe-f9bf-8fbc6acb5ad7"
      },
      "execution_count": null,
      "outputs": [
        {
          "output_type": "stream",
          "name": "stdout",
          "text": [
            "홍길동 선수 경기 끝났습니다.\n",
            "평가 점수 ==> 10\n",
            "평가 점수 ==> 9\n",
            "평가 점수 ==> 8\n",
            "평가 점수 ==> 9\n",
            "평가 점수 ==> 10\n",
            "심사위원 평균 점수 :  9.2\n"
          ]
        }
      ]
    },
    {
      "cell_type": "code",
      "source": [
        "import random\n",
        "print(\"가위바위보 게임\")\n",
        "count = int(input(\"시행할 횟수를 적어주세요 : \"))\n",
        "draw = 0\n",
        "com1 = 0\n",
        "com2 = 0\n",
        "for i in range(count):\n",
        "  com_pl1 = random.choice([\"가위\",\"바위\",\"보\"])#1 가위,2 바위,3 보\n",
        "  com_pl2 = random.choice([\"가위\",\"바위\",\"보\"])#1 가위,2 바위,3 보\n",
        "  if (com_pl1 == \"가위\" and  com_pl2 == \"가위\") or (com_pl1 == \"바위\" and  com_pl2 == \"바위\") or (com_pl1 == \"보\" and com_pl2 == \"보\"):\n",
        "    draw += 1\n",
        "  if (com_pl1 == \"가위\" and  com_pl2 == \"바위\") or (com_pl1 == \"바위\" and  com_pl2 == \"보\") or (com_pl1 == \"보\" and  com_pl2 == \"가위\"):\n",
        "    com2 += 1\n",
        "  if (com_pl1 == \"가위\" and  com_pl2 == \"보\") or (com_pl1 == \"바위\" and  com_pl2 == \"가위\") or (com_pl1 == \"보\" and  com_pl2 == \"바위\"):\n",
        "    com1 += 1\n",
        "print(count,\"번 중 컴퓨터1의 승리 : \",com1)\n",
        "print(count,\"번 중 컴퓨터2의 승리 : \",com2)\n",
        "print(count,\"번 중 비긴 경기 : \",draw)"
      ],
      "metadata": {
        "colab": {
          "base_uri": "https://localhost:8080/"
        },
        "id": "aB53iEsI_DEr",
        "outputId": "15217185-5c0b-4e24-fc07-6fdb9a91b383"
      },
      "execution_count": null,
      "outputs": [
        {
          "output_type": "stream",
          "name": "stdout",
          "text": [
            "가위바위보 게임\n",
            "시행할 횟수를 적어주세요 : 10000\n",
            "10000 번 중 컴퓨터1의 승리 :  3284\n",
            "10000 번 중 컴퓨터2의 승리 :  3379\n",
            "10000 번 중 비긴 경기 :  3337\n"
          ]
        }
      ]
    },
    {
      "cell_type": "code",
      "source": [
        "tDict = {\"이름\":\"트와이스\",\"구성원수\":9,\"데뷰\":\"서바이벌 식스틴\",\"대표곡\":\"CRY FOR ME\"}\n",
        "\n",
        "print(\"이름 ==>\",tDict[\"이름\"])\n",
        "print(\"구성원수 ==>\",tDict[\"구성원수\"])\n",
        "print(\"데뷰 ==>\",tDict[\"데뷰\"])\n",
        "print(\"대표곡 ==>\",tDict[\"대표곡\"])"
      ],
      "metadata": {
        "colab": {
          "base_uri": "https://localhost:8080/"
        },
        "id": "vFVtJGmLM0rw",
        "outputId": "63a5d3fd-b2b1-4825-b39b-adbeeb24104a"
      },
      "execution_count": null,
      "outputs": [
        {
          "output_type": "stream",
          "name": "stdout",
          "text": [
            "이름 ==> 트와이스\n",
            "구성원수 ==> 9\n",
            "데뷰 ==> 서바이벌 식스틴\n",
            "대표곡 ==> CRY FOR ME\n"
          ]
        }
      ]
    }
  ]
}
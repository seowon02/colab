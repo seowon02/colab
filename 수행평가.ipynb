{
  "nbformat": 4,
  "nbformat_minor": 0,
  "metadata": {
    "colab": {
      "provenance": [],
      "authorship_tag": "ABX9TyNGWw0/Xbw8GudtsDPmLIYt",
      "include_colab_link": true
    },
    "kernelspec": {
      "name": "python3",
      "display_name": "Python 3"
    },
    "language_info": {
      "name": "python"
    }
  },
  "cells": [
    {
      "cell_type": "markdown",
      "metadata": {
        "id": "view-in-github",
        "colab_type": "text"
      },
      "source": [
        "<a href=\"https://colab.research.google.com/github/seowon02/colab/blob/main/%EC%88%98%ED%96%89%ED%8F%89%EA%B0%80.ipynb\" target=\"_parent\"><img src=\"https://colab.research.google.com/assets/colab-badge.svg\" alt=\"Open In Colab\"/></a>"
      ]
    },
    {
      "cell_type": "code",
      "execution_count": 8,
      "metadata": {
        "colab": {
          "base_uri": "https://localhost:8080/"
        },
        "id": "0Wj1wzXOuT5c",
        "outputId": "ce38aa7c-7278-453a-b7c7-4e4b3491d923"
      },
      "outputs": [
        {
          "output_type": "stream",
          "name": "stdout",
          "text": [
            "원본 문자열 ==> Python\n",
            "변환 문자열 ==> pYTHON\n"
          ]
        }
      ],
      "source": [
        "inp =  input(\"원본 문자열 ==> \")\n",
        "result = \"\"\n",
        "for i in range(len(inp)):\n",
        "  if inp[i:i+1].islower() == True:\n",
        "    result = result + inp[i:i+1].upper()\n",
        "  else:\n",
        "    result = result + inp[i:i+1].lower()\n",
        "print(\"변환 문자열 ==>\",result)"
      ]
    },
    {
      "cell_type": "code",
      "source": [],
      "metadata": {
        "id": "d7s6j6oIuvD6"
      },
      "execution_count": null,
      "outputs": []
    }
  ]
}
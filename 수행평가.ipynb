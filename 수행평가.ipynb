{
  "nbformat": 4,
  "nbformat_minor": 0,
  "metadata": {
    "colab": {
      "provenance": [],
      "authorship_tag": "ABX9TyPbNcHvWF4BBeupTSQssZcO",
      "include_colab_link": true
    },
    "kernelspec": {
      "name": "python3",
      "display_name": "Python 3"
    },
    "language_info": {
      "name": "python"
    }
  },
  "cells": [
    {
      "cell_type": "markdown",
      "metadata": {
        "id": "view-in-github",
        "colab_type": "text"
      },
      "source": [
        "<a href=\"https://colab.research.google.com/github/seowon02/colab/blob/main/%EC%88%98%ED%96%89%ED%8F%89%EA%B0%80.ipynb\" target=\"_parent\"><img src=\"https://colab.research.google.com/assets/colab-badge.svg\" alt=\"Open In Colab\"/></a>"
      ]
    },
    {
      "cell_type": "code",
      "execution_count": 13,
      "metadata": {
        "colab": {
          "base_uri": "https://localhost:8080/"
        },
        "id": "0Wj1wzXOuT5c",
        "outputId": "28f9e0ba-e7e2-414f-eebb-986b6bdbc368"
      },
      "outputs": [
        {
          "output_type": "stream",
          "name": "stdout",
          "text": [
            "원본 문자열 ==> Python\n",
            "변환 문자열 ==> pYTHON\n"
          ]
        }
      ],
      "source": [
        "inp =  input(\"원본 문자열 ==> \")\n",
        "result = \"\"\n",
        "for i in range(len(inp)):\n",
        "  if inp[i:i+1].islower() == True:\n",
        "    result = result + inp[i:i+1].upper()\n",
        "  else:\n",
        "    result = result + inp[i:i+1].lower()\n",
        "print(\"변환 문자열 ==>\",result)"
      ]
    },
    {
      "cell_type": "code",
      "source": [
        "inp =  input(\"원본 문자열 ==> \")\n",
        "result = \"\"\n",
        "result_list = []\n",
        "for i in range(0,len(inp)):\n",
        "  result_list.append(inp[i:i+1])\n",
        "for i in range(len(inp),0,-1):\n",
        "  result = result + result_list[i-1]\n",
        "print(\"반대 문자열 ==>\",result)"
      ],
      "metadata": {
        "colab": {
          "base_uri": "https://localhost:8080/"
        },
        "id": "d7s6j6oIuvD6",
        "outputId": "6024d41f-dcbd-40dc-aeef-c225e0bdf29c"
      },
      "execution_count": 44,
      "outputs": [
        {
          "output_type": "stream",
          "name": "stdout",
          "text": [
            "원본 문자열 ==> 트와이스\n",
            "반대 문자열 ==> 스이와트\n"
          ]
        }
      ]
    }
  ]
}
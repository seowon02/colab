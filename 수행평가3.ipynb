{
  "nbformat": 4,
  "nbformat_minor": 0,
  "metadata": {
    "colab": {
      "provenance": [],
      "authorship_tag": "ABX9TyN0WKSBc7IoOC+snuknr7zl",
      "include_colab_link": true
    },
    "kernelspec": {
      "name": "python3",
      "display_name": "Python 3"
    },
    "language_info": {
      "name": "python"
    }
  },
  "cells": [
    {
      "cell_type": "markdown",
      "metadata": {
        "id": "view-in-github",
        "colab_type": "text"
      },
      "source": [
        "<a href=\"https://colab.research.google.com/github/seowon02/colab/blob/main/%EC%88%98%ED%96%89%ED%8F%89%EA%B0%803.ipynb\" target=\"_parent\"><img src=\"https://colab.research.google.com/assets/colab-badge.svg\" alt=\"Open In Colab\"/></a>"
      ]
    },
    {
      "cell_type": "code",
      "execution_count": 3,
      "metadata": {
        "colab": {
          "base_uri": "https://localhost:8080/"
        },
        "id": "j-gyj0tiU9uQ",
        "outputId": "10f0bfcf-5aa4-4a00-e2ed-2518782e3545"
      },
      "outputs": [
        {
          "output_type": "stream",
          "name": "stdout",
          "text": [
            "2 * 1 = 2\n",
            "2 * 2 = 4\n",
            "2 * 3 = 6\n",
            "2 * 4 = 8\n",
            "2 * 5 = 10\n",
            "2 * 6 = 12\n",
            "2 * 7 = 14\n",
            "2 * 8 = 16\n",
            "2 * 9 = 18\n",
            "\n",
            "3 * 1 = 3\n",
            "3 * 2 = 6\n",
            "3 * 3 = 9\n",
            "3 * 4 = 12\n",
            "3 * 5 = 15\n",
            "3 * 6 = 18\n",
            "3 * 7 = 21\n",
            "3 * 8 = 24\n",
            "3 * 9 = 27\n",
            "\n",
            "4 * 1 = 4\n",
            "4 * 2 = 8\n",
            "4 * 3 = 12\n",
            "4 * 4 = 16\n",
            "4 * 5 = 20\n",
            "4 * 6 = 24\n",
            "4 * 7 = 28\n",
            "4 * 8 = 32\n",
            "4 * 9 = 36\n",
            "\n",
            "5 * 1 = 5\n",
            "5 * 2 = 10\n",
            "5 * 3 = 15\n",
            "5 * 4 = 20\n",
            "5 * 5 = 25\n",
            "5 * 6 = 30\n",
            "5 * 7 = 35\n",
            "5 * 8 = 40\n",
            "5 * 9 = 45\n",
            "\n",
            "6 * 1 = 6\n",
            "6 * 2 = 12\n",
            "6 * 3 = 18\n",
            "6 * 4 = 24\n",
            "6 * 5 = 30\n",
            "6 * 6 = 36\n",
            "6 * 7 = 42\n",
            "6 * 8 = 48\n",
            "6 * 9 = 54\n",
            "\n",
            "7 * 1 = 7\n",
            "7 * 2 = 14\n",
            "7 * 3 = 21\n",
            "7 * 4 = 28\n",
            "7 * 5 = 35\n",
            "7 * 6 = 42\n",
            "7 * 7 = 49\n",
            "7 * 8 = 56\n",
            "7 * 9 = 63\n",
            "\n",
            "8 * 1 = 8\n",
            "8 * 2 = 16\n",
            "8 * 3 = 24\n",
            "8 * 4 = 32\n",
            "8 * 5 = 40\n",
            "8 * 6 = 48\n",
            "8 * 7 = 56\n",
            "8 * 8 = 64\n",
            "8 * 9 = 72\n",
            "\n",
            "9 * 1 = 9\n",
            "9 * 2 = 18\n",
            "9 * 3 = 27\n",
            "9 * 4 = 36\n",
            "9 * 5 = 45\n",
            "9 * 6 = 54\n",
            "9 * 7 = 63\n",
            "9 * 8 = 72\n",
            "9 * 9 = 81\n",
            "\n"
          ]
        }
      ],
      "source": [
        "for i in range(2,10):\n",
        "  for ii in range(1,10):\n",
        "    print(i,\"*\",ii,\"=\",i*ii)\n",
        "  print()"
      ]
    },
    {
      "cell_type": "code",
      "source": [
        "sum = 0\n",
        "for i in range(1,101):\n",
        "  if i % 4 != 0:\n",
        "    sum += i\n",
        "print(\"4의 배수를 제외한 1부터의 100까지의 합은 :\",sum)"
      ],
      "metadata": {
        "colab": {
          "base_uri": "https://localhost:8080/"
        },
        "id": "kmObsJa7Vpi5",
        "outputId": "cbecf9f1-7a8e-46f4-ff47-c28e1233d3ee"
      },
      "execution_count": 5,
      "outputs": [
        {
          "output_type": "stream",
          "name": "stdout",
          "text": [
            "3750\n"
          ]
        }
      ]
    },
    {
      "cell_type": "code",
      "source": [
        "import random\n",
        "count = 0\n",
        "while True:\n",
        "  dice1 = random.randint(1,6)\n",
        "  dice2 = random.randint(1,6)\n",
        "  dice3 = random.randint(1,6)\n",
        "  count += 1\n",
        "  if dice1 == dice2 == dice3:\n",
        "    break\n",
        "print(\"마지막 세 주사위의 값은 :\",dice1)\n",
        "print(\"주사위를 던진 횟수 :\",count)"
      ],
      "metadata": {
        "colab": {
          "base_uri": "https://localhost:8080/"
        },
        "id": "47ZLt2fyYkWH",
        "outputId": "b839ab62-fa0f-4054-e528-c17711a42e28"
      },
      "execution_count": 11,
      "outputs": [
        {
          "output_type": "stream",
          "name": "stdout",
          "text": [
            "마지막 세 주사위의 값은 : 6\n",
            "주사위를 던진 횟수 : 20\n"
          ]
        }
      ]
    },
    {
      "cell_type": "code",
      "source": [
        "import random\n",
        "for i in range(1,11):\n",
        "  computer = random.randint(1,5)\n",
        "  print(\"제\",i,\"회\",end=\" \")\n",
        "  user = int(input(\"컴퓨터가 생각한 숫자는? : \"))\n",
        "  if computer != user:\n",
        "    print(\"아까워요\",computer,\"이었는데요. 다시 해보세요\")\n",
        "  else:\n",
        "    print(\"정답입니다.\")\n",
        "    print(\"게임을 종료합니다.\")\n",
        "    break"
      ],
      "metadata": {
        "colab": {
          "base_uri": "https://localhost:8080/"
        },
        "id": "P5VUxeWfZSJD",
        "outputId": "cdee98b3-0db7-4790-bb37-26432983b0d9"
      },
      "execution_count": 18,
      "outputs": [
        {
          "output_type": "stream",
          "name": "stdout",
          "text": [
            "제 1 회 컴퓨터가 생각한 숫자는? : 2\n",
            "아까워요 4 이었는데요. 다시 해보세요\n",
            "제 2 회 컴퓨터가 생각한 숫자는? : 4\n",
            "아까워요 3 이었는데요. 다시 해보세요\n",
            "제 3 회 컴퓨터가 생각한 숫자는? : 4\n",
            "아까워요 1 이었는데요. 다시 해보세요\n",
            "제 4 회 컴퓨터가 생각한 숫자는? : 4\n",
            "아까워요 3 이었는데요. 다시 해보세요\n",
            "제 5 회 컴퓨터가 생각한 숫자는? : 4\n",
            "정답입니다.\n",
            "게임을 종료합니다.\n"
          ]
        }
      ]
    }
  ]
}
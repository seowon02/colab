{
  "nbformat": 4,
  "nbformat_minor": 0,
  "metadata": {
    "colab": {
      "name": "Lession2-1.ipynb",
      "provenance": [],
      "authorship_tag": "ABX9TyMuGW/XlIB1twEn6h/kWAQu",
      "include_colab_link": true
    },
    "kernelspec": {
      "name": "python3",
      "display_name": "Python 3"
    },
    "language_info": {
      "name": "python"
    }
  },
  "cells": [
    {
      "cell_type": "markdown",
      "metadata": {
        "id": "view-in-github",
        "colab_type": "text"
      },
      "source": [
        "<a href=\"https://colab.research.google.com/github/seowon02/colab/blob/main/Lession2_1.ipynb\" target=\"_parent\"><img src=\"https://colab.research.google.com/assets/colab-badge.svg\" alt=\"Open In Colab\"/></a>"
      ]
    },
    {
      "cell_type": "markdown",
      "source": [
        "2장 예제"
      ],
      "metadata": {
        "id": "BiNvd68skdcV"
      }
    },
    {
      "cell_type": "code",
      "execution_count": 3,
      "metadata": {
        "id": "kj9pvRr6HITU",
        "colab": {
          "base_uri": "https://localhost:8080/"
        },
        "outputId": "2ac7e37b-d771-4da5-f1d4-f1fade7b67c2"
      },
      "outputs": [
        {
          "output_type": "stream",
          "name": "stdout",
          "text": [
            "100 + 200 = 300\n"
          ]
        }
      ],
      "source": [
        "a = 100\n",
        "b = 200\n",
        "c = 100 + 200\n",
        "\n",
        "print(a,\"+\",b,\"=\",c)"
      ]
    },
    {
      "cell_type": "code",
      "source": [
        "num1 = 100\n",
        "num2 = 50\n",
        "result = num1 - num2\n",
        "\n",
        "print(num1,\"-\",num2,\"=\",result)"
      ],
      "metadata": {
        "colab": {
          "base_uri": "https://localhost:8080/"
        },
        "id": "PqBucIHjlNoM",
        "outputId": "2f4c3ad1-811f-4f72-f085-6e673661223b"
      },
      "execution_count": 4,
      "outputs": [
        {
          "output_type": "stream",
          "name": "stdout",
          "text": [
            "100 - 50 = 50\n"
          ]
        }
      ]
    },
    {
      "cell_type": "code",
      "source": [
        "num1 = 8\n",
        "num2 = 17\n",
        "result = num1 * num2\n",
        "\n",
        "print(num1,\"x\",num2,\"=\",result)"
      ],
      "metadata": {
        "colab": {
          "base_uri": "https://localhost:8080/"
        },
        "id": "TQMlQ-D-mNxW",
        "outputId": "cbfdce20-0a00-453f-8160-2ca1daa68e23"
      },
      "execution_count": 5,
      "outputs": [
        {
          "output_type": "stream",
          "name": "stdout",
          "text": [
            "8 x 17 = 136\n"
          ]
        }
      ]
    },
    {
      "cell_type": "code",
      "source": [
        "num1 = 8\n",
        "num2 = 17\n",
        "result = num1 / num2\n",
        "\n",
        "print(num1,\"/\",num2,\"=\",result)"
      ],
      "metadata": {
        "colab": {
          "base_uri": "https://localhost:8080/"
        },
        "id": "30EVtFRTmhBz",
        "outputId": "a3ba6d33-b6d2-4512-c3f6-92a0ffa1bf2f"
      },
      "execution_count": 6,
      "outputs": [
        {
          "output_type": "stream",
          "name": "stdout",
          "text": [
            "8 / 17 = 0.47058823529411764\n"
          ]
        }
      ]
    },
    {
      "cell_type": "markdown",
      "source": [
        "나머지를 구하는 연산자: %"
      ],
      "metadata": {
        "id": "LIH96wWvnLUT"
      }
    },
    {
      "cell_type": "code",
      "source": [
        "num1,num2 = 4,2\n",
        "result = num1 % num2\n",
        "\n",
        "print(num1,\"%\",num2,\"=\",result)"
      ],
      "metadata": {
        "colab": {
          "base_uri": "https://localhost:8080/"
        },
        "id": "prcCltw6mmi0",
        "outputId": "4251e045-a079-4f4b-f239-04de57f189ad"
      },
      "execution_count": 9,
      "outputs": [
        {
          "output_type": "stream",
          "name": "stdout",
          "text": [
            "4 % 2 = 0\n"
          ]
        }
      ]
    },
    {
      "cell_type": "markdown",
      "source": [
        "몫을 구하는 연산자: //"
      ],
      "metadata": {
        "id": "BdSJUmoTnUQV"
      }
    },
    {
      "cell_type": "code",
      "source": [
        "num1,num2 = 4,2\n",
        "result = num1 // num2\n",
        "\n",
        "print(num1,\"//\",num2,\"=\",result)"
      ],
      "metadata": {
        "colab": {
          "base_uri": "https://localhost:8080/"
        },
        "id": "zM8gpyKgnRG8",
        "outputId": "e0a6712c-8248-481e-a1e4-741f227fd029"
      },
      "execution_count": 10,
      "outputs": [
        {
          "output_type": "stream",
          "name": "stdout",
          "text": [
            "4 // 2 = 2\n"
          ]
        }
      ]
    },
    {
      "cell_type": "markdown",
      "source": [
        "문자열 연산자: +,*"
      ],
      "metadata": {
        "id": "r4PlszgCoPv1"
      }
    },
    {
      "cell_type": "code",
      "source": [
        "str1,str2 = \"안산공고\",\"컴퓨터과\"\n",
        "result = str1 + str2\n",
        "\n",
        "print(str1,\"+\",str2,\"=\",result)"
      ],
      "metadata": {
        "colab": {
          "base_uri": "https://localhost:8080/"
        },
        "id": "efoGa4-voA00",
        "outputId": "b4a5c02c-1b70-456f-a9b0-fd73eec496cf"
      },
      "execution_count": 13,
      "outputs": [
        {
          "output_type": "stream",
          "name": "stdout",
          "text": [
            "안산공고 + 컴퓨터과 = 안산공고컴퓨터과\n"
          ]
        }
      ]
    },
    {
      "cell_type": "code",
      "source": [
        "str1 = \"안산공고\"\n",
        "result = str1 * 3\n",
        "\n",
        "print(str1,\"*\",3,\"=\",result)"
      ],
      "metadata": {
        "colab": {
          "base_uri": "https://localhost:8080/"
        },
        "id": "mSVMY-veomo0",
        "outputId": "fa4c1974-748e-4dcd-c0f2-1386242bf531"
      },
      "execution_count": 14,
      "outputs": [
        {
          "output_type": "stream",
          "name": "stdout",
          "text": [
            "안산공고 * 3 = 안산공고안산공고안산공고\n"
          ]
        }
      ]
    },
    {
      "cell_type": "markdown",
      "source": [
        "2장 형성평가 1번째"
      ],
      "metadata": {
        "id": "BjHnslTNpL10"
      }
    },
    {
      "cell_type": "code",
      "source": [
        "num1,num2 = 100,200\n",
        "print(num1,\"+\",num2,\"=\",num1+num2)\n",
        "print(num1,\"-\",num2,\"=\",num1-num2)\n",
        "print(num1,\"*\",num2,\"=\",num1*num2)\n",
        "print(num1,\"/\",num2,\"=\",num1/num2)"
      ],
      "metadata": {
        "colab": {
          "base_uri": "https://localhost:8080/"
        },
        "id": "vOW9_SSJpcJz",
        "outputId": "5bcafea9-3d18-40bc-d714-540b8c96f86e"
      },
      "execution_count": 15,
      "outputs": [
        {
          "output_type": "stream",
          "name": "stdout",
          "text": [
            "100 + 200 = 300\n",
            "100 - 200 = -100\n",
            "100 * 200 = 20000\n",
            "100 / 200 = 0.5\n"
          ]
        }
      ]
    }
  ]
}
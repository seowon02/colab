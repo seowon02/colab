{
  "cells": [
    {
      "cell_type": "markdown",
      "metadata": {
        "id": "view-in-github",
        "colab_type": "text"
      },
      "source": [
        "<a href=\"https://colab.research.google.com/github/seowon02/colab/blob/main/Lession5.ipynb\" target=\"_parent\"><img src=\"https://colab.research.google.com/assets/colab-badge.svg\" alt=\"Open In Colab\"/></a>"
      ]
    },
    {
      "cell_type": "code",
      "execution_count": null,
      "metadata": {
        "id": "xz5Eo4xMP7aH"
      },
      "outputs": [],
      "source": [
        "num = 99\n",
        "if num < 100 :\n",
        "  print(\"num이 100보다 작습니다\")"
      ]
    },
    {
      "cell_type": "code",
      "execution_count": null,
      "metadata": {
        "id": "pvn50zdMQ6Wn"
      },
      "outputs": [],
      "source": [
        "num = int(input())\n",
        "if num % 2 == 0:\n",
        "  print(\"짝수입니다\")\n",
        "if num % 2 != 0:\n",
        "  print(\"홀수입니다\")"
      ]
    },
    {
      "cell_type": "code",
      "execution_count": null,
      "metadata": {
        "id": "arUPQbuUSpMA"
      },
      "outputs": [],
      "source": [
        "num = int(input(\"숫자 입력 : \"))\n",
        "if num % 2 == 0:\n",
        "  print(\"짝수입니다\")\n",
        "else:\n",
        "  print(\"홀수입니다\")"
      ]
    },
    {
      "cell_type": "code",
      "execution_count": null,
      "metadata": {
        "id": "lDR1WbkpTx05"
      },
      "outputs": [],
      "source": [
        "import random\n",
        "rd = random.randint(1,45)\n",
        "inp = 0\n",
        "print(\"업&다운 게임\")\n",
        "while True:\n",
        "  inp = int(input(\"숫자를 예측해주세요 : \"))\n",
        "  if rd > inp:\n",
        "    print(\"UP\")\n",
        "  if rd < inp:\n",
        "    print(\"DOWN\")\n",
        "  if rd == inp:\n",
        "    print(\"BINGO\")\n",
        "    break"
      ]
    },
    {
      "cell_type": "code",
      "execution_count": null,
      "metadata": {
        "colab": {
          "background_save": true
        },
        "id": "D5BNS9pFYLAw"
      },
      "outputs": [],
      "source": [
        "import random\n",
        "print(\"가위바위보 게임\")\n",
        "while True:\n",
        "  com_pl = random.choice([\"가위\",\"바위\",\"보\"])#1 가위,2 바위,3 보\n",
        "  user_pl = input(\"가위,바위,보 중 하나를 입력해주세요 : \")\n",
        "  if (com_pl == \"가위\" and  user_pl == \"가위\") or (com_pl == \"바위\" and  user_pl == \"바위\") or (com_pl == \"보\" and  user_pl == \"보\"):\n",
        "    print(\"컴퓨터 : \",com_pl)\n",
        "    print(\"당신 : \",user_pl)\n",
        "    print(\"비겼습니다.\")\n",
        "  if (com_pl == \"가위\" and  user_pl == \"바위\") or (com_pl == \"바위\" and  user_pl == \"보\") or (com_pl == \"보\" and  user_pl == \"가위\"):\n",
        "    print(\"컴퓨터 : \",com_pl)\n",
        "    print(\"당신 : \",user_pl)\n",
        "    print(\"이겼습니다.\")\n",
        "  if (com_pl == \"가위\" and  user_pl == \"보\") or (com_pl == \"바위\" and  user_pl == \"가위\") or (com_pl == \"보\" and  user_pl == \"바위\"):\n",
        "    print(\"컴퓨터 : \",com_pl)\n",
        "    print(\"당신 : \",user_pl)\n",
        "    print(\"졌습니다\")\n",
        "  "
      ]
    },
    {
      "cell_type": "code",
      "execution_count": null,
      "metadata": {
        "colab": {
          "base_uri": "https://localhost:8080/"
        },
        "id": "dKi9M5SoXCfI",
        "outputId": "87eeed59-a050-4f6b-c3f2-f944fcde6b05"
      },
      "outputs": [
        {
          "output_type": "stream",
          "name": "stdout",
          "text": [
            "야구게임(숫자범위 1~50)\n",
            "숫자 3개를 입력해주세요 : 1 2 3\n",
            "0 스트라이크 1 볼\n",
            "숫자 3개를 입력해주세요 : 4 5 6\n",
            "0 스트라이크 1 볼\n",
            "숫자 3개를 입력해주세요 : 7 8 9\n",
            "0 스트라이크 0 볼\n",
            "숫자 3개를 입력해주세요 : 1 4 7\n",
            "0 스트라이크 0 볼\n",
            "숫자 3개를 입력해주세요 : 2 5 8\n",
            "1 스트라이크 1 볼\n"
          ]
        }
      ],
      "source": [
        "import random\n",
        "com_rd = [0,0,0]\n",
        "for i in range(3):\n",
        "  com_rd[i] = random.randint(1,50)\n",
        "inp = 0\n",
        "strike = 0\n",
        "ball = 0\n",
        "l = 0\n",
        "ret = 0\n",
        "inp_list = [0,0,0]\n",
        "print(\"야구게임(숫자범위 1~50)\")\n",
        "while True:\n",
        "  strike = 0\n",
        "  ball = 0\n",
        "  inp1,inp2,inp3 = input(\"숫자 3개를 입력해주세요 : \").split()\n",
        "  inp_list = [int(inp1),int(inp2),int(inp3)]\n",
        "  for i in range(3):\n",
        "    l = 0\n",
        "    if com_rd[i] == inp_list[i]:\n",
        "      strike += 1\n",
        "      l = 1\n",
        "    for ii in range(3):\n",
        "      if com_rd[i] == inp_list[ii] and l == 0:\n",
        "        ball += 1\n",
        "        l = 2\n",
        "  print(strike,\"스트라이크\",ball,\"볼\")\n",
        "  if strike == 3:\n",
        "    print(\"Clear\")\n",
        "    ret = input(\"재도전 하시겠습니까? Y or N : \")\n",
        "    if ret == \"Y\" or ret == \"Yes\" or ret == \"네\" or ret == \"y\" or ret == \"yes\":\n",
        "      for i in range(3):\n",
        "        com_rd[i] = random.randint(1,45)\n",
        "      continue\n",
        "    else:\n",
        "      break"
      ]
    }
  ],
  "metadata": {
    "colab": {
      "collapsed_sections": [],
      "provenance": [],
      "authorship_tag": "ABX9TyPi93bpa8UAX+as+IWI8xgH",
      "include_colab_link": true
    },
    "kernelspec": {
      "display_name": "Python 3",
      "name": "python3"
    },
    "language_info": {
      "name": "python"
    }
  },
  "nbformat": 4,
  "nbformat_minor": 0
}
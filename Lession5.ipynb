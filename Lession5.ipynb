{
  "cells": [
    {
      "cell_type": "markdown",
      "metadata": {
        "id": "view-in-github",
        "colab_type": "text"
      },
      "source": [
        "<a href=\"https://colab.research.google.com/github/seowon02/colab/blob/main/Lession5.ipynb\" target=\"_parent\"><img src=\"https://colab.research.google.com/assets/colab-badge.svg\" alt=\"Open In Colab\"/></a>"
      ]
    },
    {
      "cell_type": "code",
      "execution_count": null,
      "metadata": {
        "id": "xz5Eo4xMP7aH"
      },
      "outputs": [],
      "source": [
        "num = 99\n",
        "if num < 100 :\n",
        "  print(\"num이 100보다 작습니다\")"
      ]
    },
    {
      "cell_type": "code",
      "execution_count": null,
      "metadata": {
        "id": "pvn50zdMQ6Wn"
      },
      "outputs": [],
      "source": [
        "num = int(input())\n",
        "if num % 2 == 0:\n",
        "  print(\"짝수입니다\")\n",
        "if num % 2 != 0:\n",
        "  print(\"홀수입니다\")"
      ]
    },
    {
      "cell_type": "code",
      "execution_count": null,
      "metadata": {
        "id": "arUPQbuUSpMA"
      },
      "outputs": [],
      "source": [
        "num = int(input(\"숫자 입력 : \"))\n",
        "if num % 2 == 0:\n",
        "  print(\"짝수입니다\")\n",
        "else:\n",
        "  print(\"홀수입니다\")"
      ]
    },
    {
      "cell_type": "code",
      "execution_count": null,
      "metadata": {
        "id": "lDR1WbkpTx05"
      },
      "outputs": [],
      "source": [
        "import random\n",
        "rd = random.randint(1,45)\n",
        "inp = 0\n",
        "print(\"업&다운 게임\")\n",
        "while True:\n",
        "  inp = int(input(\"숫자를 예측해주세요 : \"))\n",
        "  if rd > inp:\n",
        "    print(\"UP\")\n",
        "  if rd < inp:\n",
        "    print(\"DOWN\")\n",
        "  if rd == inp:\n",
        "    print(\"BINGO\")\n",
        "    break"
      ]
    },
    {
      "cell_type": "code",
      "execution_count": null,
      "metadata": {
        "id": "D5BNS9pFYLAw"
      },
      "outputs": [],
      "source": [
        "import random\n",
        "print(\"가위바위보 게임\")\n",
        "while True:\n",
        "  com_pl = random.choice([\"가위\",\"바위\",\"보\"])#1 가위,2 바위,3 보\n",
        "  user_pl = input(\"가위,바위,보 중 하나를 입력해주세요 : \")\n",
        "  if (com_pl == \"가위\" and  user_pl == \"가위\") or (com_pl == \"바위\" and  user_pl == \"바위\") or (com_pl == \"보\" and  user_pl == \"보\"):\n",
        "    print(\"컴퓨터 : \",com_pl)\n",
        "    print(\"당신 : \",user_pl)\n",
        "    print(\"비겼습니다.\")\n",
        "  if (com_pl == \"가위\" and  user_pl == \"바위\") or (com_pl == \"바위\" and  user_pl == \"보\") or (com_pl == \"보\" and  user_pl == \"가위\"):\n",
        "    print(\"컴퓨터 : \",com_pl)\n",
        "    print(\"당신 : \",user_pl)\n",
        "    print(\"이겼습니다.\")\n",
        "  if (com_pl == \"가위\" and  user_pl == \"보\") or (com_pl == \"바위\" and  user_pl == \"가위\") or (com_pl == \"보\" and  user_pl == \"바위\"):\n",
        "    print(\"컴퓨터 : \",com_pl)\n",
        "    print(\"당신 : \",user_pl)\n",
        "    print(\"졌습니다\")\n"
      ]
    },
    {
      "cell_type": "markdown",
      "source": [
        "형성평가 1"
      ],
      "metadata": {
        "id": "qFxKXAURL8Xn"
      }
    },
    {
      "cell_type": "code",
      "source": [
        "num = int(input(\"숫자를 입력 ==> \"))\n",
        "if num < 100 :\n",
        "  print(\"100보다 작습니다\")\n",
        "else:\n",
        "  if num > 1000:\n",
        "    print(\"1000보다 큽니다\")\n",
        "  else:\n",
        "    print(\"100보다 크거나 같고 1000보다 작거나 같습니다.\")"
      ],
      "metadata": {
        "colab": {
          "base_uri": "https://localhost:8080/"
        },
        "id": "sJ_dY8ExL9_m",
        "outputId": "e6ae9a33-ec42-4fb5-a919-4efc691217e0"
      },
      "execution_count": 5,
      "outputs": [
        {
          "output_type": "stream",
          "name": "stdout",
          "text": [
            "숫자를 입력 ==> 100\n",
            "100보다 크거나 같고 1000보다 작거나 같습니다.\n"
          ]
        }
      ]
    },
    {
      "cell_type": "markdown",
      "source": [
        "형상평가 2"
      ],
      "metadata": {
        "id": "kufOqhvONYJf"
      }
    },
    {
      "cell_type": "code",
      "source": [
        "score = int(input(\"점수를 입력 ==> \"))\n",
        "if score >= 90:\n",
        "  print(\"A학점\")\n",
        "else:\n",
        "  if score >= 80:\n",
        "    print(\"B학점\")\n",
        "  else:\n",
        "    if score >= 70:\n",
        "      print(\"C학점\")\n",
        "    else:\n",
        "      if score >= 60:\n",
        "        print(\"D학점\")\n",
        "      else:\n",
        "        print(\"F학점\")"
      ],
      "metadata": {
        "colab": {
          "base_uri": "https://localhost:8080/"
        },
        "id": "OflQQ70uNZqm",
        "outputId": "b697fe55-d588-451d-f8b9-0965cf8250da"
      },
      "execution_count": 8,
      "outputs": [
        {
          "output_type": "stream",
          "name": "stdout",
          "text": [
            "점수를 입력 ==> 91\n",
            "A학점\n"
          ]
        }
      ]
    },
    {
      "cell_type": "code",
      "source": [
        "score = int(input(\"점수를 입력 ==> \"))\n",
        "if score >= 90:\n",
        "  print(\"A학점\")\n",
        "elif score >= 80:\n",
        "  print(\"B학점\")\n",
        "elif score >= 70:\n",
        "  print(\"C학점\")\n",
        "elif score >= 60:\n",
        "  print(\"D학점\")\n",
        "else:\n",
        "  print(\"F학점\")"
      ],
      "metadata": {
        "id": "9jp2EjZhPb_f"
      },
      "execution_count": null,
      "outputs": []
    },
    {
      "cell_type": "markdown",
      "source": [
        "형성평가 \n",
        "3"
      ],
      "metadata": {
        "id": "S8M7JJeXQ3AP"
      }
    },
    {
      "cell_type": "code",
      "source": [
        "age = int(input(\"나이를 입력 ==> \"))\n",
        "if age < 19:\n",
        "  print(\"집에 갈 시간입니다.\")\n",
        "else :\n",
        "  print(\"즐거운 시간 되세요.\")\n",
        "print(\"협조에 감사드립니다.\")"
      ],
      "metadata": {
        "colab": {
          "base_uri": "https://localhost:8080/"
        },
        "id": "vMo0LIHjQ5x4",
        "outputId": "c4b5adb5-d6f6-4cd0-9ce6-022b231d73d2"
      },
      "execution_count": 12,
      "outputs": [
        {
          "output_type": "stream",
          "name": "stdout",
          "text": [
            "나이를 입력 ==> 19\n",
            "집에 갈 시간입니다.\n",
            "협조에 감사드립니다.\n"
          ]
        }
      ]
    },
    {
      "cell_type": "code",
      "execution_count": 3,
      "metadata": {
        "colab": {
          "base_uri": "https://localhost:8080/"
        },
        "id": "dKi9M5SoXCfI",
        "outputId": "8748cc63-c69f-4257-e1fd-1178767a393f"
      },
      "outputs": [
        {
          "name": "stdout",
          "output_type": "stream",
          "text": [
            "야구게임(숫자범위 1~50)\n",
            "숫자 3개를 입력해주세요 : 1 2 3\n",
            "0 스트라이크 0 볼\n",
            "숫자 3개를 입력해주세요 : 4 5 6\n",
            "1 스트라이크 0 볼\n",
            "숫자 3개를 입력해주세요 : 7 8 9\n",
            "0 스트라이크 0 볼\n",
            "숫자 3개를 입력해주세요 : 10 11 12\n",
            "0 스트라이크 1 볼\n",
            "숫자 3개를 입력해주세요 : 13 14 15\n",
            "0 스트라이크 0 볼\n",
            "숫자 3개를 입력해주세요 : 16 17 18\n",
            "0 스트라이크 0 볼\n",
            "숫자 3개를 입력해주세요 : 19 20 21\n",
            "0 스트라이크 0 볼\n",
            "숫자 3개를 입력해주세요 : 22 23 24\n",
            "1 스트라이크 0 볼\n",
            "숫자 3개를 입력해주세요 : 4 10 22\n",
            "2 스트라이크 0 볼\n",
            "숫자 3개를 입력해주세요 : 4 10 23\n",
            "2 스트라이크 0 볼\n",
            "숫자 3개를 입력해주세요 : 4 10 24\n",
            "3 스트라이크 0 볼\n",
            "Clear\n",
            "재도전 하시겠습니까? Y or N : N\n"
          ]
        }
      ],
      "source": [
        "import random\n",
        "com_rd = [0,0,0]\n",
        "for i in range(3):\n",
        "  com_rd[i] = random.randint(1,50)\n",
        "inp = 0\n",
        "strike = 0\n",
        "ball = 0\n",
        "l = 0\n",
        "ret = 0\n",
        "inp_list = [0,0,0]\n",
        "print(\"야구게임(숫자범위 1~50)\")\n",
        "while True:\n",
        "  strike = 0\n",
        "  ball = 0\n",
        "  inp1,inp2,inp3 = input(\"숫자 3개를 입력해주세요 : \").split()\n",
        "  inp_list = [int(inp1),int(inp2),int(inp3)]\n",
        "  for i in range(3):\n",
        "    l = 0\n",
        "    if com_rd[i] == inp_list[i]:\n",
        "      strike += 1\n",
        "      l = 1\n",
        "    for ii in range(3):\n",
        "      if com_rd[i] == inp_list[ii] and l == 0:\n",
        "        ball += 1\n",
        "        l = 2\n",
        "  print(strike,\"스트라이크\",ball,\"볼\")\n",
        "  if strike == 3:\n",
        "    print(\"Clear\")\n",
        "    ret = input(\"재도전 하시겠습니까? Y or N : \")\n",
        "    if ret == \"Y\" or ret == \"Yes\" or ret == \"네\" or ret == \"y\" or ret == \"yes\":\n",
        "      for i in range(3):\n",
        "        com_rd[i] = random.randint(1,45)\n",
        "      continue\n",
        "    else:\n",
        "      break"
      ]
    },
    {
      "cell_type": "markdown",
      "source": [
        "사춘기 거북이"
      ],
      "metadata": {
        "id": "Hr-SInDRi2-A"
      }
    },
    {
      "cell_type": "code",
      "source": [
        "#!pip3 install ColabTurtle\n",
        "import ColabTurtle.Turtle as turtle\n",
        "import random\n",
        "\n",
        "turtle.initializeTurtle()\n",
        "turtle.shape(\"turtle\")\n",
        "print(turtle.DEFAULT_WINDOW_SIZE)\n",
        "\n",
        "while True:\n",
        "  turtle.color(random.randint(0,255),random.randint(0,255),random.randint(0,255))\n",
        "  turtle.left(random.randint(0,360))\n",
        "  turtle.forward(random.randint(50,100))\n",
        "  TurtlePosX = int(turtle.getx())\n",
        "  TurtlePosY = int(turtle.gety())\n",
        "  if (TurtlePosX < 0 or TurtlePosX > 800) or (TurtlePosY < 0 or TurtlePosY > 500):\n",
        "    turtle.home()"
      ],
      "metadata": {
        "colab": {
          "base_uri": "https://localhost:8080/",
          "height": 922
        },
        "id": "vedqm3P9iojW",
        "outputId": "614622d1-3133-4d89-b0cb-56837fd19c6c"
      },
      "execution_count": 19,
      "outputs": [
        {
          "output_type": "display_data",
          "data": {
            "text/plain": [
              "<IPython.core.display.HTML object>"
            ],
            "text/html": [
              "\n",
              "      <svg width=\"800\" height=\"500\">\n",
              "        <rect width=\"100%\" height=\"100%\" fill=\"black\"/>\n",
              "        <line x1=\"400\" y1=\"250\" x2=\"352.967\" y2=\"317.17\" stroke-linecap=\"round\" style=\"stroke:rgb(152,242,147);stroke-width:4\"/><line x1=\"352.967\" y1=\"317.17\" x2=\"362.197\" y2=\"375.444\" stroke-linecap=\"round\" style=\"stroke:rgb(198,156,22);stroke-width:4\"/><line x1=\"362.197\" y1=\"375.444\" x2=\"326.25\" y2=\"290.758\" stroke-linecap=\"round\" style=\"stroke:rgb(182,220,163);stroke-width:4\"/><line x1=\"326.25\" y1=\"290.758\" x2=\"340.173\" y2=\"378.662\" stroke-linecap=\"round\" style=\"stroke:rgb(26,78,184);stroke-width:4\"/><line x1=\"340.173\" y1=\"378.662\" x2=\"280.605\" y2=\"358.151\" stroke-linecap=\"round\" style=\"stroke:rgb(172,101,202);stroke-width:4\"/><line x1=\"280.605\" y1=\"358.151\" x2=\"247.148\" y2=\"395.308\" stroke-linecap=\"round\" style=\"stroke:rgb(234,46,44);stroke-width:4\"/><line x1=\"247.148\" y1=\"395.308\" x2=\"319.274\" y2=\"346.658\" stroke-linecap=\"round\" style=\"stroke:rgb(187,72,70);stroke-width:4\"/><line x1=\"319.274\" y1=\"346.658\" x2=\"401.027\" y2=\"376.414\" stroke-linecap=\"round\" style=\"stroke:rgb(39,55,225);stroke-width:4\"/><line x1=\"401.027\" y1=\"376.414\" x2=\"376.515\" y2=\"428.98\" stroke-linecap=\"round\" style=\"stroke:rgb(240,156,135);stroke-width:4\"/><line x1=\"376.515\" y1=\"428.98\" x2=\"341.051\" y2=\"467.01\" stroke-linecap=\"round\" style=\"stroke:rgb(26,149,200);stroke-width:4\"/><line x1=\"341.051\" y1=\"467.01\" x2=\"376.998\" y2=\"382.324\" stroke-linecap=\"round\" style=\"stroke:rgb(176,215,66);stroke-width:4\"/><line x1=\"376.998\" y1=\"382.324\" x2=\"309.473\" y2=\"404.264\" stroke-linecap=\"round\" style=\"stroke:rgb(89,104,68);stroke-width:4\"/><line x1=\"309.473\" y1=\"404.264\" x2=\"274.616\" y2=\"457.939\" stroke-linecap=\"round\" style=\"stroke:rgb(143,185,251);stroke-width:4\"/><line x1=\"274.616\" y1=\"457.939\" x2=\"345.111\" y2=\"389.862\" stroke-linecap=\"round\" style=\"stroke:rgb(70,85,189);stroke-width:4\"/><line x1=\"345.111\" y1=\"389.862\" x2=\"370.045\" y2=\"443.334\" stroke-linecap=\"round\" style=\"stroke:rgb(5,16,90);stroke-width:4\"/><line x1=\"370.045\" y1=\"443.334\" x2=\"318.216\" y2=\"383.712\" stroke-linecap=\"round\" style=\"stroke:rgb(222,163,201);stroke-width:4\"/><line x1=\"318.216\" y1=\"383.712\" x2=\"273.173\" y2=\"311.628\" stroke-linecap=\"round\" style=\"stroke:rgb(12,55,64);stroke-width:4\"/><line x1=\"273.173\" y1=\"311.628\" x2=\"319.532\" y2=\"292.898\" stroke-linecap=\"round\" style=\"stroke:rgb(78,155,53);stroke-width:4\"/><line x1=\"319.532\" y1=\"292.898\" x2=\"249.384\" y2=\"252.398\" stroke-linecap=\"round\" style=\"stroke:rgb(47,135,25);stroke-width:4\"/><line x1=\"249.384\" y1=\"252.398\" x2=\"284.407\" y2=\"194.111\" stroke-linecap=\"round\" style=\"stroke:rgb(94,192,125);stroke-width:4\"/><line x1=\"284.407\" y1=\"194.111\" x2=\"344.822\" y2=\"268.717\" stroke-linecap=\"round\" style=\"stroke:rgb(127,222,113);stroke-width:4\"/><line x1=\"344.822\" y1=\"268.717\" x2=\"435.424\" y2=\"284.693\" stroke-linecap=\"round\" style=\"stroke:rgb(238,57,77);stroke-width:4\"/><line x1=\"435.424\" y1=\"284.693\" x2=\"375.089\" y2=\"361.918\" stroke-linecap=\"round\" style=\"stroke:rgb(93,21,219);stroke-width:4\"/><line x1=\"375.089\" y1=\"361.918\" x2=\"339.036\" y2=\"421.92\" stroke-linecap=\"round\" style=\"stroke:rgb(79,49,211);stroke-width:4\"/><line x1=\"339.036\" y1=\"421.92\" x2=\"375.169\" y2=\"462.05\" stroke-linecap=\"round\" style=\"stroke:rgb(70,97,110);stroke-width:4\"/><line x1=\"375.169\" y1=\"462.05\" x2=\"342.936\" y2=\"525.311\" stroke-linecap=\"round\" style=\"stroke:rgb(127,32,26);stroke-width:4\"/><line x1=\"342.936\" y1=\"525.311\" x2=\"400\" y2=\"250\" stroke-linecap=\"round\" style=\"stroke:rgb(127,32,26);stroke-width:4\"/><line x1=\"400\" y1=\"250\" x2=\"375.031\" y2=\"200.995\" stroke-linecap=\"round\" style=\"stroke:rgb(233,212,21);stroke-width:4\"/><line x1=\"375.031\" y1=\"200.995\" x2=\"435.104\" y2=\"211.588\" stroke-linecap=\"round\" style=\"stroke:rgb(12,231,58);stroke-width:4\"/><line x1=\"435.104\" y1=\"211.588\" x2=\"344.794\" y2=\"229.142\" stroke-linecap=\"round\" style=\"stroke:rgb(19,15,69);stroke-width:4\"/><line x1=\"344.794\" y1=\"229.142\" x2=\"254.857\" y2=\"265.479\" stroke-linecap=\"round\" style=\"stroke:rgb(237,107,39);stroke-width:4\"/><line x1=\"254.857\" y1=\"265.479\" x2=\"203.661\" y2=\"344.314\" stroke-linecap=\"round\" style=\"stroke:rgb(248,180,86);stroke-width:4\"/><line x1=\"203.661\" y1=\"344.314\" x2=\"268.902\" y2=\"321.85\" stroke-linecap=\"round\" style=\"stroke:rgb(192,75,168);stroke-width:4\"/><line x1=\"268.902\" y1=\"321.85\" x2=\"316.971\" y2=\"359.405\" stroke-linecap=\"round\" style=\"stroke:rgb(241,22,94);stroke-width:4\"/><line x1=\"316.971\" y1=\"359.405\" x2=\"261.604\" y2=\"285.931\" stroke-linecap=\"round\" style=\"stroke:rgb(200,42,247);stroke-width:4\"/><line x1=\"261.604\" y1=\"285.931\" x2=\"327.758\" y2=\"356.872\" stroke-linecap=\"round\" style=\"stroke:rgb(189,204,232);stroke-width:4\"/><line x1=\"327.758\" y1=\"356.872\" x2=\"316.964\" y2=\"288.722\" stroke-linecap=\"round\" style=\"stroke:rgb(132,104,168);stroke-width:4\"/><line x1=\"316.964\" y1=\"288.722\" x2=\"254.381\" y2=\"349.157\" stroke-linecap=\"round\" style=\"stroke:rgb(44,207,12);stroke-width:4\"/><line x1=\"254.381\" y1=\"349.157\" x2=\"308.941\" y2=\"407.665\" stroke-linecap=\"round\" style=\"stroke:rgb(144,196,92);stroke-width:4\"/><line x1=\"308.941\" y1=\"407.665\" x2=\"294.184\" y2=\"466.853\" stroke-linecap=\"round\" style=\"stroke:rgb(105,216,87);stroke-width:4\"/><line x1=\"294.184\" y1=\"466.853\" x2=\"297.952\" y2=\"538.754\" stroke-linecap=\"round\" style=\"stroke:rgb(241,63,31);stroke-width:4\"/><line x1=\"297.952\" y1=\"538.754\" x2=\"400\" y2=\"250\" stroke-linecap=\"round\" style=\"stroke:rgb(241,63,31);stroke-width:4\"/><line x1=\"400\" y1=\"250\" x2=\"346.528\" y2=\"225.066\" stroke-linecap=\"round\" style=\"stroke:rgb(8,15,12);stroke-width:4\"/><line x1=\"346.528\" y1=\"225.066\" x2=\"381.605\" y2=\"149.842\" stroke-linecap=\"round\" style=\"stroke:rgb(220,25,152);stroke-width:4\"/><line x1=\"381.605\" y1=\"149.842\" x2=\"467.117\" y2=\"118.718\" stroke-linecap=\"round\" style=\"stroke:rgb(49,168,132);stroke-width:4\"/><line x1=\"467.117\" y1=\"118.718\" x2=\"466.192\" y2=\"65.726\" stroke-linecap=\"round\" style=\"stroke:rgb(66,204,88);stroke-width:4\"/><line x1=\"466.192\" y1=\"65.726\" x2=\"540.053\" y2=\"78.75\" stroke-linecap=\"round\" style=\"stroke:rgb(121,15,130);stroke-width:4\"/><line x1=\"540.053\" y1=\"78.75\" x2=\"523.857\" y2=\"148.905\" stroke-linecap=\"round\" style=\"stroke:rgb(78,121,220);stroke-width:4\"/><line x1=\"523.857\" y1=\"148.905\" x2=\"531.929\" y2=\"91.469\" stroke-linecap=\"round\" style=\"stroke:rgb(49,53,191);stroke-width:4\"/><line x1=\"531.929\" y1=\"91.469\" x2=\"620.807\" y2=\"86.811\" stroke-linecap=\"round\" style=\"stroke:rgb(188,124,245);stroke-width:4\"/><line x1=\"620.807\" y1=\"86.811\" x2=\"668.731\" y2=\"69.368\" stroke-linecap=\"round\" style=\"stroke:rgb(85,59,141);stroke-width:4\"/><line x1=\"668.731\" y1=\"69.368\" x2=\"646.158\" y2=\"7.348\" stroke-linecap=\"round\" style=\"stroke:rgb(132,164,158);stroke-width:4\"/><line x1=\"646.158\" y1=\"7.348\" x2=\"596.676\" y2=\"39.482\" stroke-linecap=\"round\" style=\"stroke:rgb(195,233,149);stroke-width:4\"/><line x1=\"596.676\" y1=\"39.482\" x2=\"676.953\" y2=\"-16.728\" stroke-linecap=\"round\" style=\"stroke:rgb(247,212,55);stroke-width:4\"/><line x1=\"676.953\" y1=\"-16.728\" x2=\"400\" y2=\"250\" stroke-linecap=\"round\" style=\"stroke:rgb(247,212,55);stroke-width:4\"/><line x1=\"400\" y1=\"250\" x2=\"391.847\" y2=\"172.427\" stroke-linecap=\"round\" style=\"stroke:rgb(207,23,233);stroke-width:4\"/><line x1=\"391.847\" y1=\"172.427\" x2=\"461.804\" y2=\"169.984\" stroke-linecap=\"round\" style=\"stroke:rgb(66,111,31);stroke-width:4\"/><line x1=\"461.804\" y1=\"169.984\" x2=\"462.991\" y2=\"101.994\" stroke-linecap=\"round\" style=\"stroke:rgb(201,53,198);stroke-width:4\"/><line x1=\"462.991\" y1=\"101.994\" x2=\"432.991\" y2=\"153.956\" stroke-linecap=\"round\" style=\"stroke:rgb(208,234,47);stroke-width:4\"/><line x1=\"432.991\" y1=\"153.956\" x2=\"398.902\" y2=\"238.33\" stroke-linecap=\"round\" style=\"stroke:rgb(152,251,34);stroke-width:4\"/><line x1=\"398.902\" y1=\"238.33\" x2=\"412.399\" y2=\"179.868\" stroke-linecap=\"round\" style=\"stroke:rgb(35,159,183);stroke-width:4\"/><line x1=\"412.399\" y1=\"179.868\" x2=\"423.506\" y2=\"249.994\" stroke-linecap=\"round\" style=\"stroke:rgb(12,107,66);stroke-width:4\"/><line x1=\"423.506\" y1=\"249.994\" x2=\"418.553\" y2=\"179.167\" stroke-linecap=\"round\" style=\"stroke:rgb(135,38,105);stroke-width:4\"/><line x1=\"418.553\" y1=\"179.167\" x2=\"355.706\" y2=\"183.562\" stroke-linecap=\"round\" style=\"stroke:rgb(191,225,184);stroke-width:4\"/><line x1=\"355.706\" y1=\"183.562\" x2=\"279.614\" y2=\"225.74\" stroke-linecap=\"round\" style=\"stroke:rgb(110,206,4);stroke-width:4\"/><line x1=\"279.614\" y1=\"225.74\" x2=\"350.061\" y2=\"176.412\" stroke-linecap=\"round\" style=\"stroke:rgb(37,29,225);stroke-width:4\"/><line x1=\"350.061\" y1=\"176.412\" x2=\"379.089\" y2=\"252.032\" stroke-linecap=\"round\" style=\"stroke:rgb(79,29,236);stroke-width:4\"/><line x1=\"379.089\" y1=\"252.032\" x2=\"459.377\" y2=\"221.212\" stroke-linecap=\"round\" style=\"stroke:rgb(90,233,230);stroke-width:4\"/><line x1=\"459.377\" y1=\"221.212\" x2=\"475.353\" y2=\"130.61\" stroke-linecap=\"round\" style=\"stroke:rgb(30,92,89);stroke-width:4\"/><line x1=\"475.353\" y1=\"130.61\" x2=\"481.69\" y2=\"182.222\" stroke-linecap=\"round\" style=\"stroke:rgb(150,164,165);stroke-width:4\"/><line x1=\"481.69\" y1=\"182.222\" x2=\"413.921\" y2=\"129.275\" stroke-linecap=\"round\" style=\"stroke:rgb(126,104,162);stroke-width:4\"/><line x1=\"413.921\" y1=\"129.275\" x2=\"341.045\" y2=\"142.125\" stroke-linecap=\"round\" style=\"stroke:rgb(99,98,232);stroke-width:4\"/>\n",
              "        <g visibility=visible transform=\"rotate(260,341.045,142.125) translate(323.045, 124.125)\">\n",
              "<path style=\" stroke:none;fill-rule:evenodd;fill:rgb(99,98,232);fill-opacity:1;\" d=\"M 18.214844 0.632812 C 16.109375 1.800781 15.011719 4.074219 15.074219 7.132812 L 15.085938 7.652344 L 14.785156 7.496094 C 13.476562 6.824219 11.957031 6.671875 10.40625 7.066406 C 8.46875 7.550781 6.515625 9.15625 4.394531 11.992188 C 3.0625 13.777344 2.679688 14.636719 3.042969 15.027344 L 3.15625 15.152344 L 3.519531 15.152344 C 4.238281 15.152344 4.828125 14.886719 8.1875 13.039062 C 9.386719 12.378906 10.371094 11.839844 10.378906 11.839844 C 10.386719 11.839844 10.355469 11.929688 10.304688 12.035156 C 9.832031 13.09375 9.257812 14.820312 8.96875 16.078125 C 7.914062 20.652344 8.617188 24.53125 11.070312 27.660156 C 11.351562 28.015625 11.363281 27.914062 10.972656 28.382812 C 8.925781 30.84375 7.945312 33.28125 8.238281 35.1875 C 8.289062 35.527344 8.28125 35.523438 8.917969 35.523438 C 10.941406 35.523438 13.074219 34.207031 15.136719 31.6875 C 15.359375 31.417969 15.328125 31.425781 15.5625 31.574219 C 16.292969 32.042969 18.023438 32.964844 18.175781 32.964844 C 18.335938 32.964844 19.941406 32.210938 20.828125 31.71875 C 20.996094 31.625 21.136719 31.554688 21.136719 31.558594 C 21.203125 31.664062 21.898438 32.414062 22.222656 32.730469 C 23.835938 34.300781 25.5625 35.132812 27.582031 35.300781 C 27.90625 35.328125 27.9375 35.308594 28.007812 34.984375 C 28.382812 33.242188 27.625 30.925781 25.863281 28.425781 L 25.542969 27.96875 L 25.699219 27.785156 C 28.945312 23.960938 29.132812 18.699219 26.257812 11.96875 L 26.207031 11.84375 L 27.945312 12.703125 C 31.53125 14.476562 32.316406 14.800781 33.03125 14.800781 C 33.976562 14.800781 33.78125 13.9375 32.472656 12.292969 C 28.519531 7.355469 25.394531 5.925781 21.921875 7.472656 L 21.558594 7.636719 L 21.578125 7.542969 C 21.699219 6.992188 21.761719 5.742188 21.699219 5.164062 C 21.496094 3.296875 20.664062 1.964844 19.003906 0.855469 C 18.480469 0.503906 18.457031 0.5 18.214844 0.632812\"/>\n",
              "</g>\n",
              "      </svg>\n",
              "    "
            ]
          },
          "metadata": {}
        },
        {
          "output_type": "stream",
          "name": "stdout",
          "text": [
            "(800, 500)\n"
          ]
        },
        {
          "output_type": "error",
          "ename": "KeyboardInterrupt",
          "evalue": "ignored",
          "traceback": [
            "\u001b[0;31m---------------------------------------------------------------------------\u001b[0m",
            "\u001b[0;31mKeyboardInterrupt\u001b[0m                         Traceback (most recent call last)",
            "\u001b[0;32m<ipython-input-19-ec16ab8d6356>\u001b[0m in \u001b[0;36m<module>\u001b[0;34m\u001b[0m\n\u001b[1;32m      8\u001b[0m \u001b[0;34m\u001b[0m\u001b[0m\n\u001b[1;32m      9\u001b[0m \u001b[0;32mwhile\u001b[0m \u001b[0;32mTrue\u001b[0m\u001b[0;34m:\u001b[0m\u001b[0;34m\u001b[0m\u001b[0;34m\u001b[0m\u001b[0m\n\u001b[0;32m---> 10\u001b[0;31m   \u001b[0mturtle\u001b[0m\u001b[0;34m.\u001b[0m\u001b[0mcolor\u001b[0m\u001b[0;34m(\u001b[0m\u001b[0mrandom\u001b[0m\u001b[0;34m.\u001b[0m\u001b[0mrandint\u001b[0m\u001b[0;34m(\u001b[0m\u001b[0;36m0\u001b[0m\u001b[0;34m,\u001b[0m\u001b[0;36m255\u001b[0m\u001b[0;34m)\u001b[0m\u001b[0;34m,\u001b[0m\u001b[0mrandom\u001b[0m\u001b[0;34m.\u001b[0m\u001b[0mrandint\u001b[0m\u001b[0;34m(\u001b[0m\u001b[0;36m0\u001b[0m\u001b[0;34m,\u001b[0m\u001b[0;36m255\u001b[0m\u001b[0;34m)\u001b[0m\u001b[0;34m,\u001b[0m\u001b[0mrandom\u001b[0m\u001b[0;34m.\u001b[0m\u001b[0mrandint\u001b[0m\u001b[0;34m(\u001b[0m\u001b[0;36m0\u001b[0m\u001b[0;34m,\u001b[0m\u001b[0;36m255\u001b[0m\u001b[0;34m)\u001b[0m\u001b[0;34m)\u001b[0m\u001b[0;34m\u001b[0m\u001b[0;34m\u001b[0m\u001b[0m\n\u001b[0m\u001b[1;32m     11\u001b[0m   \u001b[0mturtle\u001b[0m\u001b[0;34m.\u001b[0m\u001b[0mleft\u001b[0m\u001b[0;34m(\u001b[0m\u001b[0mrandom\u001b[0m\u001b[0;34m.\u001b[0m\u001b[0mrandint\u001b[0m\u001b[0;34m(\u001b[0m\u001b[0;36m0\u001b[0m\u001b[0;34m,\u001b[0m\u001b[0;36m360\u001b[0m\u001b[0;34m)\u001b[0m\u001b[0;34m)\u001b[0m\u001b[0;34m\u001b[0m\u001b[0;34m\u001b[0m\u001b[0m\n\u001b[1;32m     12\u001b[0m   \u001b[0mturtle\u001b[0m\u001b[0;34m.\u001b[0m\u001b[0mforward\u001b[0m\u001b[0;34m(\u001b[0m\u001b[0mrandom\u001b[0m\u001b[0;34m.\u001b[0m\u001b[0mrandint\u001b[0m\u001b[0;34m(\u001b[0m\u001b[0;36m50\u001b[0m\u001b[0;34m,\u001b[0m\u001b[0;36m100\u001b[0m\u001b[0;34m)\u001b[0m\u001b[0;34m)\u001b[0m\u001b[0;34m\u001b[0m\u001b[0;34m\u001b[0m\u001b[0m\n",
            "\u001b[0;32m/usr/local/lib/python3.7/dist-packages/ColabTurtle/Turtle.py\u001b[0m in \u001b[0;36mcolor\u001b[0;34m(color, c2, c3)\u001b[0m\n\u001b[1;32m    410\u001b[0m \u001b[0;34m\u001b[0m\u001b[0m\n\u001b[1;32m    411\u001b[0m     \u001b[0mpen_color\u001b[0m \u001b[0;34m=\u001b[0m \u001b[0m_processColor\u001b[0m\u001b[0;34m(\u001b[0m\u001b[0mcolor\u001b[0m\u001b[0;34m)\u001b[0m\u001b[0;34m\u001b[0m\u001b[0;34m\u001b[0m\u001b[0m\n\u001b[0;32m--> 412\u001b[0;31m     \u001b[0m_updateDrawing\u001b[0m\u001b[0;34m(\u001b[0m\u001b[0;34m)\u001b[0m\u001b[0;34m\u001b[0m\u001b[0;34m\u001b[0m\u001b[0m\n\u001b[0m\u001b[1;32m    413\u001b[0m \u001b[0;34m\u001b[0m\u001b[0m\n\u001b[1;32m    414\u001b[0m \u001b[0mpencolor\u001b[0m \u001b[0;34m=\u001b[0m \u001b[0mcolor\u001b[0m\u001b[0;34m\u001b[0m\u001b[0;34m\u001b[0m\u001b[0m\n",
            "\u001b[0;32m/usr/local/lib/python3.7/dist-packages/ColabTurtle/Turtle.py\u001b[0m in \u001b[0;36m_updateDrawing\u001b[0;34m()\u001b[0m\n\u001b[1;32m    143\u001b[0m     \u001b[0;32mif\u001b[0m \u001b[0mdrawing_window\u001b[0m \u001b[0;34m==\u001b[0m \u001b[0;32mNone\u001b[0m\u001b[0;34m:\u001b[0m\u001b[0;34m\u001b[0m\u001b[0;34m\u001b[0m\u001b[0m\n\u001b[1;32m    144\u001b[0m         \u001b[0;32mraise\u001b[0m \u001b[0mAttributeError\u001b[0m\u001b[0;34m(\u001b[0m\u001b[0;34m\"Display has not been initialized yet. Call initializeTurtle() before using.\"\u001b[0m\u001b[0;34m)\u001b[0m\u001b[0;34m\u001b[0m\u001b[0;34m\u001b[0m\u001b[0m\n\u001b[0;32m--> 145\u001b[0;31m     \u001b[0mtime\u001b[0m\u001b[0;34m.\u001b[0m\u001b[0msleep\u001b[0m\u001b[0;34m(\u001b[0m\u001b[0m_speedToSec\u001b[0m\u001b[0;34m(\u001b[0m\u001b[0mturtle_speed\u001b[0m\u001b[0;34m)\u001b[0m\u001b[0;34m)\u001b[0m\u001b[0;34m\u001b[0m\u001b[0;34m\u001b[0m\u001b[0m\n\u001b[0m\u001b[1;32m    146\u001b[0m     \u001b[0mdrawing_window\u001b[0m\u001b[0;34m.\u001b[0m\u001b[0mupdate\u001b[0m\u001b[0;34m(\u001b[0m\u001b[0mHTML\u001b[0m\u001b[0;34m(\u001b[0m\u001b[0m_generateSvgDrawing\u001b[0m\u001b[0;34m(\u001b[0m\u001b[0;34m)\u001b[0m\u001b[0;34m)\u001b[0m\u001b[0;34m)\u001b[0m\u001b[0;34m\u001b[0m\u001b[0;34m\u001b[0m\u001b[0m\n\u001b[1;32m    147\u001b[0m \u001b[0;34m\u001b[0m\u001b[0m\n",
            "\u001b[0;31mKeyboardInterrupt\u001b[0m: "
          ]
        }
      ]
    },
    {
      "cell_type": "code",
      "source": [
        "#!pip3 install ColabTurtle\n",
        "import ColabTurtle.Turtle as turtle\n",
        "import random\n",
        "\n",
        "turtle.initializeTurtle()\n",
        "turtle.shape(\"turtle\")\n",
        "loop=0\n",
        "while True:\n",
        "  loop = int(input(\"반복횟수를 입력해주세요 : \"))\n",
        "  z = 360 / loop\n",
        "  turtle.color(int(r),int(g),int(b))\n",
        "  for i in range(loop):\n",
        "    turtle.left(z)\n",
        "    turtle.forward(30)"
      ],
      "metadata": {
        "id": "Blo35_IQqQKF"
      },
      "execution_count": null,
      "outputs": []
    }
  ],
  "metadata": {
    "colab": {
      "collapsed_sections": [],
      "provenance": [],
      "authorship_tag": "ABX9TyPfHhkS4Tliw9nb7lKmmWC7",
      "include_colab_link": true
    },
    "kernelspec": {
      "display_name": "Python 3",
      "name": "python3"
    },
    "language_info": {
      "name": "python"
    }
  },
  "nbformat": 4,
  "nbformat_minor": 0
}
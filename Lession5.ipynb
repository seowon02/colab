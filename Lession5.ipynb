{
  "cells": [
    {
      "cell_type": "markdown",
      "metadata": {
        "id": "view-in-github",
        "colab_type": "text"
      },
      "source": [
        "<a href=\"https://colab.research.google.com/github/seowon02/colab/blob/main/Lession5.ipynb\" target=\"_parent\"><img src=\"https://colab.research.google.com/assets/colab-badge.svg\" alt=\"Open In Colab\"/></a>"
      ]
    },
    {
      "cell_type": "code",
      "execution_count": null,
      "metadata": {
        "id": "xz5Eo4xMP7aH"
      },
      "outputs": [],
      "source": [
        "num = 99\n",
        "if num < 100 :\n",
        "  print(\"num이 100보다 작습니다\")"
      ]
    },
    {
      "cell_type": "code",
      "execution_count": null,
      "metadata": {
        "colab": {
          "base_uri": "https://localhost:8080/"
        },
        "id": "pvn50zdMQ6Wn",
        "outputId": "492a96db-d07d-4d32-c433-50ddf485a295"
      },
      "outputs": [
        {
          "name": "stdout",
          "output_type": "stream",
          "text": [
            "7\n",
            "홀수입니다\n"
          ]
        }
      ],
      "source": [
        "num = int(input())\n",
        "if num % 2 == 0:\n",
        "  print(\"짝수입니다\")\n",
        "if num % 2 != 0:\n",
        "  print(\"홀수입니다\")"
      ]
    },
    {
      "cell_type": "code",
      "execution_count": null,
      "metadata": {
        "colab": {
          "base_uri": "https://localhost:8080/"
        },
        "id": "arUPQbuUSpMA",
        "outputId": "92931b9b-0ed4-416c-a65e-5f2b45c16d5e"
      },
      "outputs": [
        {
          "name": "stdout",
          "output_type": "stream",
          "text": [
            "숫자 입력 : 30\n",
            "짝수입니다\n"
          ]
        }
      ],
      "source": [
        "num = int(input(\"숫자 입력 : \"))\n",
        "if num % 2 == 0:\n",
        "  print(\"짝수입니다\")\n",
        "else:\n",
        "  print(\"홀수입니다\")"
      ]
    },
    {
      "cell_type": "code",
      "execution_count": null,
      "metadata": {
        "id": "lDR1WbkpTx05"
      },
      "outputs": [],
      "source": [
        "import random\n",
        "rd = random.randint(1,45)\n",
        "inp = 0\n",
        "print(\"업&다운 게임\")\n",
        "while True:\n",
        "  inp = int(input(\"숫자를 예측해주세요 : \"))\n",
        "  if rd > inp:\n",
        "    print(\"UP\")\n",
        "  if rd < inp:\n",
        "    print(\"DOWN\")\n",
        "  if rd == inp:\n",
        "    print(\"BINGO\")\n",
        "    break"
      ]
    },
    {
      "cell_type": "code",
      "execution_count": null,
      "metadata": {
        "colab": {
          "background_save": true,
          "base_uri": "https://localhost:8080/"
        },
        "id": "D5BNS9pFYLAw",
        "outputId": "652e3f6b-5ef5-4c6d-d790-7aeae4d7366f"
      },
      "outputs": [
        {
          "name": "stdout",
          "output_type": "stream",
          "text": [
            "가위바위보 게임\n",
            "컴퓨터 :  바위\n",
            "당신 :  가위\n",
            "졌습니다\n",
            "컴퓨터 :  바위\n",
            "당신 :  가위\n",
            "졌습니다\n",
            "컴퓨터 :  가위\n",
            "당신 :  보\n",
            "졌습니다\n",
            "컴퓨터 :  보\n",
            "당신 :  바위\n",
            "졌습니다\n",
            "컴퓨터 :  바위\n",
            "당신 :  보\n",
            "이겼습니다.\n"
          ]
        }
      ],
      "source": [
        "import random\n",
        "print(\"가위바위보 게임\")\n",
        "while True:\n",
        "  com_pl = random.choice([\"가위\",\"바위\",\"보\"])#1 가위,2 바위,3 보\n",
        "  user_pl = input(\"가위,바위,보 중 하나를 입력해주세요 : \")\n",
        "  if (com_pl == \"가위\" and  user_pl == \"가위\") or (com_pl == \"바위\" and  user_pl == \"바위\") or (com_pl == \"보\" and  user_pl == \"보\"):\n",
        "    print(\"컴퓨터 : \",com_pl)\n",
        "    print(\"당신 : \",user_pl)\n",
        "    print(\"비겼습니다.\")\n",
        "  if (com_pl == \"가위\" and  user_pl == \"바위\") or (com_pl == \"바위\" and  user_pl == \"보\") or (com_pl == \"보\" and  user_pl == \"가위\"):\n",
        "    print(\"컴퓨터 : \",com_pl)\n",
        "    print(\"당신 : \",user_pl)\n",
        "    print(\"이겼습니다.\")\n",
        "  if (com_pl == \"가위\" and  user_pl == \"보\") or (com_pl == \"바위\" and  user_pl == \"가위\") or (com_pl == \"보\" and  user_pl == \"바위\"):\n",
        "    print(\"컴퓨터 : \",com_pl)\n",
        "    print(\"당신 : \",user_pl)\n",
        "    print(\"졌습니다\")\n",
        "  "
      ]
    },
    {
      "cell_type": "code",
      "execution_count": null,
      "metadata": {
        "colab": {
          "background_save": true,
          "base_uri": "https://localhost:8080/"
        },
        "id": "dKi9M5SoXCfI",
        "outputId": "e9c97a98-db75-4f54-ed22-7e22b2ce13d3"
      },
      "outputs": [
        {
          "name": "stdout",
          "output_type": "stream",
          "text": [
            "야구게임(숫자범위 1~50)\n",
            "0 스트라이크 0 볼\n"
          ]
        }
      ],
      "source": [
        "import random\n",
        "com_rd = [0,0,0]\n",
        "for i in range(3):\n",
        "  com_rd[i] = random.randint(1,50)\n",
        "inp = 0\n",
        "strike = 0\n",
        "ball = 0\n",
        "l = 0\n",
        "ret = 0\n",
        "inp_list = [0,0,0]\n",
        "print(\"야구게임(숫자범위 1~50)\")\n",
        "while True:\n",
        "  strike = 0\n",
        "  ball = 0\n",
        "  inp1,inp2,inp3 = input(\"숫자 3개를 입력해주세요 : \").split()\n",
        "  inp_list = [int(inp1),int(inp2),int(inp3)]\n",
        "  for i in range(3):\n",
        "    l = 0\n",
        "    if com_rd[i] == inp_list[i]:\n",
        "      strike += 1\n",
        "      l = 1\n",
        "    for ii in range(3):\n",
        "      if com_rd[i] == inp_list[ii] and l == 0:\n",
        "        ball += 1\n",
        "        l = 2\n",
        "    if l != 1 and l != 2:\n",
        "      noball += 1\n",
        "  print(strike,\"스트라이크\",ball,\"볼\")\n",
        "  if strike == 3:\n",
        "    print(\"Clear\")\n",
        "    ret = input(\"재도전 하시겠습니까? Y or N : \")\n",
        "    if ret == \"Y\" or ret == \"Yes\" or ret == \"네\" or ret == \"y\" or ret == \"yes\":\n",
        "      for i in range(3):\n",
        "        com_rd[i] = random.randint(1,45)\n",
        "      continue\n",
        "    else:\n",
        "      break"
      ]
    }
  ],
  "metadata": {
    "colab": {
      "collapsed_sections": [],
      "provenance": [],
      "authorship_tag": "ABX9TyPIV9Z3lXFQxduyZQuLyiiV",
      "include_colab_link": true
    },
    "kernelspec": {
      "display_name": "Python 3",
      "name": "python3"
    },
    "language_info": {
      "name": "python"
    }
  },
  "nbformat": 4,
  "nbformat_minor": 0
}
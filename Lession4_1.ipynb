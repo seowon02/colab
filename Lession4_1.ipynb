{
  "nbformat": 4,
  "nbformat_minor": 0,
  "metadata": {
    "colab": {
      "name": "Lession4-1.ipynb",
      "provenance": [],
      "authorship_tag": "ABX9TyPE5dGnRHbA14OJpwSrIWUB",
      "include_colab_link": true
    },
    "kernelspec": {
      "name": "python3",
      "display_name": "Python 3"
    },
    "language_info": {
      "name": "python"
    }
  },
  "cells": [
    {
      "cell_type": "markdown",
      "metadata": {
        "id": "view-in-github",
        "colab_type": "text"
      },
      "source": [
        "<a href=\"https://colab.research.google.com/github/seowon02/colab/blob/main/Lession4_1.ipynb\" target=\"_parent\"><img src=\"https://colab.research.google.com/assets/colab-badge.svg\" alt=\"Open In Colab\"/></a>"
      ]
    },
    {
      "cell_type": "code",
      "execution_count": 1,
      "metadata": {
        "colab": {
          "base_uri": "https://localhost:8080/"
        },
        "id": "mbs1F6CvNP0Y",
        "outputId": "8c159719-795d-43e1-94bd-bcc271ad0898"
      },
      "outputs": [
        {
          "output_type": "stream",
          "name": "stdout",
          "text": [
            "var1의 타입은  <class 'int'>\n",
            "var2의 타입은  <class 'float'>\n",
            "var3의 타입은  <class 'str'>\n",
            "var4의 타입은  <class 'bool'>\n"
          ]
        }
      ],
      "source": [
        "var1 = 100\n",
        "var2 = 3.14\n",
        "var3 = \"파이썬\"\n",
        "var4 = True\n",
        "\n",
        "print(\"var1의 타입은 \",type(var1))\n",
        "print(\"var2의 타입은 \",type(var2))\n",
        "print(\"var3의 타입은 \",type(var3))\n",
        "print(\"var4의 타입은 \",type(var4))"
      ]
    }
  ]
}
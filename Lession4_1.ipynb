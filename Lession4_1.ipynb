{
  "nbformat": 4,
  "nbformat_minor": 0,
  "metadata": {
    "colab": {
      "name": "Lession4-1.ipynb",
      "provenance": [],
      "collapsed_sections": [],
      "authorship_tag": "ABX9TyNVxP45zaRCHzLPz17EIbOx",
      "include_colab_link": true
    },
    "kernelspec": {
      "name": "python3",
      "display_name": "Python 3"
    },
    "language_info": {
      "name": "python"
    }
  },
  "cells": [
    {
      "cell_type": "markdown",
      "metadata": {
        "id": "view-in-github",
        "colab_type": "text"
      },
      "source": [
        "<a href=\"https://colab.research.google.com/github/seowon02/colab/blob/main/Lession4_1.ipynb\" target=\"_parent\"><img src=\"https://colab.research.google.com/assets/colab-badge.svg\" alt=\"Open In Colab\"/></a>"
      ]
    },
    {
      "cell_type": "code",
      "execution_count": null,
      "metadata": {
        "colab": {
          "base_uri": "https://localhost:8080/"
        },
        "id": "mbs1F6CvNP0Y",
        "outputId": "8c159719-795d-43e1-94bd-bcc271ad0898"
      },
      "outputs": [
        {
          "output_type": "stream",
          "name": "stdout",
          "text": [
            "var1의 타입은  <class 'int'>\n",
            "var2의 타입은  <class 'float'>\n",
            "var3의 타입은  <class 'str'>\n",
            "var4의 타입은  <class 'bool'>\n"
          ]
        }
      ],
      "source": [
        "var1 = 100\n",
        "var2 = 3.14\n",
        "var3 = \"파이썬\"\n",
        "var4 = True\n",
        "\n",
        "print(\"var1의 타입은 \",type(var1))\n",
        "print(\"var2의 타입은 \",type(var2))\n",
        "print(\"var3의 타입은 \",type(var3))\n",
        "print(\"var4의 타입은 \",type(var4))"
      ]
    },
    {
      "cell_type": "markdown",
      "source": [
        "이스케이프 예제"
      ],
      "metadata": {
        "id": "aia9tsay27Ly"
      }
    },
    {
      "cell_type": "code",
      "source": [
        "print(\"\\n줄바꿈\\n연습\")\n",
        "print(\"\\t탭키\\t연습\")\n",
        "print(\"어떤 글자를 \\\"강조\\\"하는 효과1\")\n",
        "print(\"어떤 글자를 \\'강조\\'하는 효과1\")\n",
        "print(\"\\\\\\\\ 백슬래시 2개 출력\")"
      ],
      "metadata": {
        "colab": {
          "base_uri": "https://localhost:8080/"
        },
        "id": "Yv1U33DJ2gMN",
        "outputId": "a60be82f-79b3-4990-d86e-f6391207a194"
      },
      "execution_count": null,
      "outputs": [
        {
          "output_type": "stream",
          "name": "stdout",
          "text": [
            "\n",
            "줄바꿈\n",
            "연습\n",
            "\t탭키\t연습\n",
            "어떤 글자를 \"강조\"하는 효과1\n",
            "어떤 글자를 '강조'하는 효과1\n",
            "\\\\ 백슬래시 2개 출력\n"
          ]
        }
      ]
    },
    {
      "cell_type": "markdown",
      "source": [
        "len() : 문자열의 길이를 구함\n",
        "\n",
        "upper() : 소문자를 대문자로 변환\n",
        "\n",
        "lower() : 대문자를 소문자로 변환\n",
        "\n",
        "isupper() : 대문자라면 True\n",
        "\n",
        "islower() : 소문자라면 True\n",
        "\n",
        "count() : 문자열에서 어떤 문자열이 몇번 나타나는지 구함\n",
        "\n",
        "find() : 문자열에서 어떤 문자열을 찾음"
      ],
      "metadata": {
        "id": "xS9JoE9b7RT8"
      }
    },
    {
      "cell_type": "code",
      "source": [
        "ss = 'Fisrt Python을 밤 12시까지 열공 중!'\n",
        "var1 = ss.upper()\n",
        "print(var1)\n",
        "var2 = ss.lower()\n",
        "print(var2)"
      ],
      "metadata": {
        "colab": {
          "base_uri": "https://localhost:8080/"
        },
        "id": "MNsNAhT45kT9",
        "outputId": "cb568f25-7aa6-48b3-92d4-eee39dd04f4d"
      },
      "execution_count": null,
      "outputs": [
        {
          "output_type": "stream",
          "name": "stdout",
          "text": [
            "FISRT PYTHON을 밤 12시까지 열공 중!\n",
            "fisrt python을 밤 12시까지 열공 중!\n"
          ]
        }
      ]
    },
    {
      "cell_type": "code",
      "source": [
        "str1 = input(\"문자열 입력 : \")\n",
        "print(\"입력된 문자열의 길이 : \",len(str1))\n",
        "print(\"입력된 문자열을 대문자로 변환 : \", str1.upper())\n",
        "print(\"입력된 문자열을 소문자로 변환 : \", str1.lower())\n",
        "print(\"입력된 문자열에 ansan의 갯수 : \", str1.count(\"ansan\"))\n",
        "print(\"입력된 문자열은 대문자인가요? : \", str1.isupper())\n",
        "print(\"입력된 문자열은 소문자인가요? : \", str1.islower())"
      ],
      "metadata": {
        "colab": {
          "base_uri": "https://localhost:8080/"
        },
        "id": "spqDnOhVfrnC",
        "outputId": "ec4ffca5-0141-40ce-e1af-f340db35f02d"
      },
      "execution_count": null,
      "outputs": [
        {
          "output_type": "stream",
          "name": "stdout",
          "text": [
            "문자열 입력 : 시장\n",
            "입력된 문자열의 길이 :  2\n",
            "입력된 문자열을 대문자로 변환 :  시장\n",
            "입력된 문자열을 소문자로 변환 :  시장\n",
            "입력된 문자열을 대문자로 변환 :  0\n",
            "입력된 문자열은 대문자인가요? :  False\n",
            "입력된 문자열은 소문자인가요? :  False\n"
          ]
        }
      ]
    },
    {
      "cell_type": "code",
      "source": [
        "lyrics = \"\"\"\n",
        "When I find myself in times of trouble\n",
        "Mother Mary comes to me\n",
        "Speaking words of wisdom\n",
        "Let it be\n",
        "And in my hour of darkness\n",
        "She is standing right in front of me\n",
        "Speaking words of wisdom\n",
        "Let it be\n",
        "Let is be, let it be\n",
        "Let it be, let it be\n",
        "Whisper words of wisdom\n",
        "Let it be\n",
        "And when the brokenhearted people\n",
        "Living in the world agree\n",
        "There will be an answer\n",
        "Let it be\n",
        "For though they may be parted\n",
        "There is still a chance that they will see\n",
        "There will be an answer\n",
        "Let it be\n",
        "Let is be, let it be\n",
        "Let it be, let it be\n",
        "Yeah, there will be an answer\n",
        "Let it be\n",
        "Let is be, let it be\n",
        "Let it be, let it be\n",
        "Whisper words of wisdom\n",
        "Let it be\n",
        "Let is be, let it be\n",
        "Let it be, yeah, let it be\n",
        "Whisper words of wisdom\n",
        "Let it be\n",
        "And when the night is cloudy\n",
        "There is still a light that shines on me\n",
        "Shine on 'til tomorrow\n",
        "Let it be\n",
        "I wake up to the sound of music\n",
        "Mother Mary comes to me\n",
        "Speaking words of wisdom\n",
        "Let it be, yeah\n",
        "Let it be, let it be\n",
        "Let it be, yeah, let it be\n",
        "Oh, there will be an answer\n",
        "Let it be\n",
        "Let it be, let it be\n",
        "Let it be, yeah, let it be\n",
        "Whisper words of wisdom\n",
        "Let it be\n",
        "\"\"\"\n",
        "print('Let it be 노래에서 \"let it be\" 단어의 갯수는', lyrics.count(\"Let it be\")+lyrics.count(\"let it be\"))\n",
        "#또는 가사를 대문자로 변환후 LET IT BE를 구하면 됨\n",
        "#lyrics = lyrics.upper()\n",
        "#print('Let it be 노래에서 \"let it be\" 단어의 갯수는', lyrics.count(\"LET IT BE\"))"
      ],
      "metadata": {
        "colab": {
          "base_uri": "https://localhost:8080/"
        },
        "id": "85-PC7DThUha",
        "outputId": "4e818b9b-2c95-4016-93f7-10cdf5a158ea"
      },
      "execution_count": null,
      "outputs": [
        {
          "output_type": "stream",
          "name": "stdout",
          "text": [
            "Let it be 노래에서 \"let it be\" 단어의 갯수는 32\n"
          ]
        }
      ]
    },
    {
      "cell_type": "code",
      "source": [
        "lyrics =\"\"\"\n",
        "Yesterday\n",
        "All my trouble seemed so far away\n",
        "Now it looks as though they're here to stay\n",
        "Oh, I believe in yesterday\n",
        "Suddenly\n",
        "I'm not half the man I used to be\n",
        "There's a shadow hanging over me\n",
        "Oh, yesterday came suddenly\n",
        "Why she had to go, I don't know\n",
        "She wouldn't say\n",
        "I said something wrong\n",
        "Now I long for yesterday\n",
        "Yesterday\n",
        "Love was such an easy game to play\n",
        "Now I need a place to hide away\n",
        "Oh, I believe in yesterday\n",
        "Why she had to go, I don't know\n",
        "She wouldn't say\n",
        "I said something wrong\n",
        "Now I long for yesterday\n",
        "Yesterday\n",
        "Love was such an easy game to play\n",
        "Now I need a place to hide away\n",
        "Oh, I believe in yesterday\n",
        "\"\"\"\n",
        "lyrics = lyrics.upper()\n",
        "print('yesterday 노래에서 \"yesterday\" 단어의 갯수는', lyrics.count(\"YESTERDAY\"))"
      ],
      "metadata": {
        "colab": {
          "base_uri": "https://localhost:8080/"
        },
        "id": "YLF5u-NUjviL",
        "outputId": "3853064f-75e5-4d8e-bcd1-a190d64ffdc4"
      },
      "execution_count": null,
      "outputs": [
        {
          "output_type": "stream",
          "name": "stdout",
          "text": [
            "yesterday 노래에서 /\"yesterday/\" 단어의 갯수는 9\n"
          ]
        }
      ]
    },
    {
      "cell_type": "code",
      "source": [
        "MyList = [\"안산공고\",\"컴퓨터\",3,1,2022]\n",
        "print(MyList)\n",
        "print(MyList[0])"
      ],
      "metadata": {
        "colab": {
          "base_uri": "https://localhost:8080/"
        },
        "id": "4KskIYAJmTEK",
        "outputId": "0689c465-60e1-4aa9-f657-dc5e77a2245f"
      },
      "execution_count": null,
      "outputs": [
        {
          "output_type": "stream",
          "name": "stdout",
          "text": [
            "['안산공고', '컴퓨터', 3, 1, 2022]\n",
            "안산공고\n"
          ]
        }
      ]
    },
    {
      "cell_type": "markdown",
      "source": [
        "문자열 예제"
      ],
      "metadata": {
        "id": "W4pEd8Vhmrfa"
      }
    },
    {
      "cell_type": "code",
      "source": [
        "str1 = \"Ansan Technical High School\"\n",
        "print(str1)\n",
        "print(str1[0:5])\n",
        "print(str1[16:20])\n",
        "print(str1[-6:-1])"
      ],
      "metadata": {
        "colab": {
          "base_uri": "https://localhost:8080/"
        },
        "id": "jQKOXsfcmqrr",
        "outputId": "59f03daf-44e1-451c-c8f5-4993668054c7"
      },
      "execution_count": null,
      "outputs": [
        {
          "output_type": "stream",
          "name": "stdout",
          "text": [
            "Ansan Technical High School\n",
            "Ansan\n",
            "High\n",
            "Schoo\n"
          ]
        }
      ]
    },
    {
      "cell_type": "code",
      "source": [
        "while True :\n",
        "  str1 = input(\"문자열 입력 : \")\n",
        "  if str1 == \"q\":\n",
        "    break\n",
        "  print(str1)"
      ],
      "metadata": {
        "colab": {
          "base_uri": "https://localhost:8080/"
        },
        "id": "ygPVaYgjn8Mc",
        "outputId": "a12945a3-ce07-47b6-bce3-c48d1d3a952d"
      },
      "execution_count": null,
      "outputs": [
        {
          "name": "stdout",
          "output_type": "stream",
          "text": [
            "문자열 입력 : 해\n",
            "해\n",
            "문자열 입력 : q\n"
          ]
        }
      ]
    },
    {
      "cell_type": "markdown",
      "source": [
        "형성평가 1"
      ],
      "metadata": {
        "id": "o-nUhu256evr"
      }
    },
    {
      "cell_type": "code",
      "source": [
        "\n",
        "var1 = input(\"첫 번째 문자열 ==>\")\n",
        "var2 = input(\"두 번째 문자열 ==>\")\n",
        "result = len(var1) - len(var2)\n",
        "print(\"두 문자열의 길이 차이는\",result,\"입니다.\")"
      ],
      "metadata": {
        "colab": {
          "base_uri": "https://localhost:8080/"
        },
        "id": "eKbHVTVq4DQt",
        "outputId": "4835c186-e06e-497d-b48c-5134bc77a314"
      },
      "execution_count": null,
      "outputs": [
        {
          "output_type": "stream",
          "name": "stdout",
          "text": [
            "첫 번째 문자열 ==>난생처음 파이썬\n",
            "두 번째 문자열 ==>First Python\n",
            "두 문자열의 길이 차이는  -4 입니다.\n"
          ]
        }
      ]
    },
    {
      "cell_type": "markdown",
      "source": [
        "형성평가2"
      ],
      "metadata": {
        "id": "7iPmAJ9A8BKD"
      }
    },
    {
      "cell_type": "code",
      "source": [
        "inp = input(\"원본 문자열 ==> \")\n",
        "print(\"반대 문자열 ==>\",end=\" \")\n",
        "for i in range(int(len(inp))):\n",
        "  print(inp[int(len(inp))-i-1],end=\"\")"
      ],
      "metadata": {
        "colab": {
          "base_uri": "https://localhost:8080/"
        },
        "id": "Ne1kMkCD7r7M",
        "outputId": "239ea921-3605-4119-9fac-4850596952d9"
      },
      "execution_count": null,
      "outputs": [
        {
          "output_type": "stream",
          "name": "stdout",
          "text": [
            "원본 문자열 ==> 트와이스\n",
            "반대 문자열 ==> 스이와트"
          ]
        }
      ]
    },
    {
      "cell_type": "markdown",
      "source": [
        "형성평가3"
      ],
      "metadata": {
        "id": "UmafoNKyl5aa"
      }
    },
    {
      "cell_type": "code",
      "source": [
        "inp = input()\n",
        "inp_1 = list(map(str, inp))\n",
        "print(\"원본 문자열 ==>\",inp)\n",
        "print(\"반대 문자열 ==>\",end=\" \")\n",
        "for i in range(int(len(inp))):\n",
        "  if inp_1[i].isupper() == True:\n",
        "    inp_1[i] = inp_1[i].lower()\n",
        "  else:\n",
        "    inp_1[i] = inp_1[i].upper()\n",
        "  print(inp_1[i],end=\"\")"
      ],
      "metadata": {
        "colab": {
          "base_uri": "https://localhost:8080/"
        },
        "id": "BxFK15oml81C",
        "outputId": "4fcdd397-daef-4788-f8e2-fcf27d22dfe8"
      },
      "execution_count": null,
      "outputs": [
        {
          "output_type": "stream",
          "name": "stdout",
          "text": [
            "adjhadsf\n",
            "원본 문자열 ==> adjhadsf\n",
            "반대 문자열 ==> ADJHADSF"
          ]
        }
      ]
    },
    {
      "cell_type": "code",
      "source": [
        "#!pip3 install ColabTurtle\n",
        "import ColabTurtle.Turtle as turtle\n",
        "\n",
        "turtle.initializeTurtle()\n",
        "turtle.shape(\"turtle\")\n",
        "turtle.penup()\n",
        "\n",
        "print(\"행동 목록 : 글씨,그리기,종료\")\n",
        "while True:\n",
        "    action = input(\"할 행동을 적어주세요(ex.글씨)\")\n",
        "    if action == \"글씨\":\n",
        "      x = int(input(\"이동할 x좌표 : \"))\n",
        "      y = int(input(\"이동할 y좌표 : \"))\n",
        "      text = input(\"생성할 글자 : \")\n",
        "\n",
        "      turtle.goto(x,y)\n",
        "      turtle.write(text,font=(30,\"Arial\",\"normal\"))\n",
        "    elif action == \"그리기\":\n",
        "        forw = int(input(\"전진할 길이 : \"))\n",
        "        lefts = int(input(\"왼쪽으로 꺾을 각도 : \"))\n",
        "        i = int(input(\"반복할 횟수 : \"))\n",
        "        turtle.pendown()\n",
        "        for ii in range(i):\n",
        "          turtle.forward(forw)\n",
        "          turtle.left(lefts)\n",
        "        turtle.penup()\n",
        "    elif action == \"종료\":\n",
        "      break\n",
        "    elif action == \"처음으로\":\n",
        "      turtle.goto(400,250)\n",
        "    else:\n",
        "      print(\"행동 목록에 없습니다.\")\n",
        "      continue\n"
      ],
      "metadata": {
        "colab": {
          "base_uri": "https://localhost:8080/",
          "height": 596
        },
        "id": "cWYxQxT1HkvY",
        "outputId": "e49a29c1-1970-435a-cfd9-ac30222bcd4b"
      },
      "execution_count": null,
      "outputs": [
        {
          "output_type": "display_data",
          "data": {
            "text/plain": [
              "<IPython.core.display.HTML object>"
            ],
            "text/html": [
              "\n",
              "      <svg width=\"800\" height=\"500\">\n",
              "        <rect width=\"100%\" height=\"100%\" fill=\"black\"/>\n",
              "        \n",
              "        <g visibility=visible transform=\"rotate(360,400,250) translate(382, 232)\">\n",
              "<path style=\" stroke:none;fill-rule:evenodd;fill:white;fill-opacity:1;\" d=\"M 18.214844 0.632812 C 16.109375 1.800781 15.011719 4.074219 15.074219 7.132812 L 15.085938 7.652344 L 14.785156 7.496094 C 13.476562 6.824219 11.957031 6.671875 10.40625 7.066406 C 8.46875 7.550781 6.515625 9.15625 4.394531 11.992188 C 3.0625 13.777344 2.679688 14.636719 3.042969 15.027344 L 3.15625 15.152344 L 3.519531 15.152344 C 4.238281 15.152344 4.828125 14.886719 8.1875 13.039062 C 9.386719 12.378906 10.371094 11.839844 10.378906 11.839844 C 10.386719 11.839844 10.355469 11.929688 10.304688 12.035156 C 9.832031 13.09375 9.257812 14.820312 8.96875 16.078125 C 7.914062 20.652344 8.617188 24.53125 11.070312 27.660156 C 11.351562 28.015625 11.363281 27.914062 10.972656 28.382812 C 8.925781 30.84375 7.945312 33.28125 8.238281 35.1875 C 8.289062 35.527344 8.28125 35.523438 8.917969 35.523438 C 10.941406 35.523438 13.074219 34.207031 15.136719 31.6875 C 15.359375 31.417969 15.328125 31.425781 15.5625 31.574219 C 16.292969 32.042969 18.023438 32.964844 18.175781 32.964844 C 18.335938 32.964844 19.941406 32.210938 20.828125 31.71875 C 20.996094 31.625 21.136719 31.554688 21.136719 31.558594 C 21.203125 31.664062 21.898438 32.414062 22.222656 32.730469 C 23.835938 34.300781 25.5625 35.132812 27.582031 35.300781 C 27.90625 35.328125 27.9375 35.308594 28.007812 34.984375 C 28.382812 33.242188 27.625 30.925781 25.863281 28.425781 L 25.542969 27.96875 L 25.699219 27.785156 C 28.945312 23.960938 29.132812 18.699219 26.257812 11.96875 L 26.207031 11.84375 L 27.945312 12.703125 C 31.53125 14.476562 32.316406 14.800781 33.03125 14.800781 C 33.976562 14.800781 33.78125 13.9375 32.472656 12.292969 C 28.519531 7.355469 25.394531 5.925781 21.921875 7.472656 L 21.558594 7.636719 L 21.578125 7.542969 C 21.699219 6.992188 21.761719 5.742188 21.699219 5.164062 C 21.496094 3.296875 20.664062 1.964844 19.003906 0.855469 C 18.480469 0.503906 18.457031 0.5 18.214844 0.632812\"/>\n",
              "</g>\n",
              "      </svg>\n",
              "    "
            ]
          },
          "metadata": {}
        },
        {
          "name": "stdout",
          "output_type": "stream",
          "text": [
            "행동 목록 : 글씨,그리기,종료\n",
            "할 행동을 적어주세요(ex.글씨)처음으로\n"
          ]
        }
      ]
    }
  ]
}
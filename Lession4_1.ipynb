{
  "nbformat": 4,
  "nbformat_minor": 0,
  "metadata": {
    "colab": {
      "name": "Lession4-1.ipynb",
      "provenance": [],
      "collapsed_sections": [],
      "authorship_tag": "ABX9TyM0hZUR+vMnOAX6dLbaGy9M",
      "include_colab_link": true
    },
    "kernelspec": {
      "name": "python3",
      "display_name": "Python 3"
    },
    "language_info": {
      "name": "python"
    }
  },
  "cells": [
    {
      "cell_type": "markdown",
      "metadata": {
        "id": "view-in-github",
        "colab_type": "text"
      },
      "source": [
        "<a href=\"https://colab.research.google.com/github/seowon02/colab/blob/main/Lession4_1.ipynb\" target=\"_parent\"><img src=\"https://colab.research.google.com/assets/colab-badge.svg\" alt=\"Open In Colab\"/></a>"
      ]
    },
    {
      "cell_type": "code",
      "execution_count": null,
      "metadata": {
        "colab": {
          "base_uri": "https://localhost:8080/"
        },
        "id": "mbs1F6CvNP0Y",
        "outputId": "8c159719-795d-43e1-94bd-bcc271ad0898"
      },
      "outputs": [
        {
          "output_type": "stream",
          "name": "stdout",
          "text": [
            "var1의 타입은  <class 'int'>\n",
            "var2의 타입은  <class 'float'>\n",
            "var3의 타입은  <class 'str'>\n",
            "var4의 타입은  <class 'bool'>\n"
          ]
        }
      ],
      "source": [
        "var1 = 100\n",
        "var2 = 3.14\n",
        "var3 = \"파이썬\"\n",
        "var4 = True\n",
        "\n",
        "print(\"var1의 타입은 \",type(var1))\n",
        "print(\"var2의 타입은 \",type(var2))\n",
        "print(\"var3의 타입은 \",type(var3))\n",
        "print(\"var4의 타입은 \",type(var4))"
      ]
    },
    {
      "cell_type": "markdown",
      "source": [
        "이스케이프 예제"
      ],
      "metadata": {
        "id": "aia9tsay27Ly"
      }
    },
    {
      "cell_type": "code",
      "source": [
        "print(\"\\n줄바꿈\\n연습\")\n",
        "print(\"\\t탭키\\t연습\")\n",
        "print(\"어떤 글자를 \\\"강조\\\"하는 효과1\")\n",
        "print(\"어떤 글자를 \\'강조\\'하는 효과1\")\n",
        "print(\"\\\\\\\\ 백슬래시 2개 출력\")"
      ],
      "metadata": {
        "colab": {
          "base_uri": "https://localhost:8080/"
        },
        "id": "Yv1U33DJ2gMN",
        "outputId": "a60be82f-79b3-4990-d86e-f6391207a194"
      },
      "execution_count": 1,
      "outputs": [
        {
          "output_type": "stream",
          "name": "stdout",
          "text": [
            "\n",
            "줄바꿈\n",
            "연습\n",
            "\t탭키\t연습\n",
            "어떤 글자를 \"강조\"하는 효과1\n",
            "어떤 글자를 '강조'하는 효과1\n",
            "\\\\ 백슬래시 2개 출력\n"
          ]
        }
      ]
    },
    {
      "cell_type": "markdown",
      "source": [
        "형성평가 1"
      ],
      "metadata": {
        "id": "o-nUhu256evr"
      }
    },
    {
      "cell_type": "code",
      "source": [
        "var1 = input(\"첫 번째 문자열 ==>\")\n",
        "var2 = input(\"두 번째 문자열 ==>\")\n",
        "result = len(var1) - len(var2)\n",
        "print(\"두 문자열의 길이 차이는\",result,\"입니다.\")"
      ],
      "metadata": {
        "colab": {
          "base_uri": "https://localhost:8080/"
        },
        "id": "eKbHVTVq4DQt",
        "outputId": "4835c186-e06e-497d-b48c-5134bc77a314"
      },
      "execution_count": 2,
      "outputs": [
        {
          "output_type": "stream",
          "name": "stdout",
          "text": [
            "첫 번째 문자열 ==>난생처음 파이썬\n",
            "두 번째 문자열 ==>First Python\n",
            "두 문자열의 길이 차이는  -4 입니다.\n"
          ]
        }
      ]
    },
    {
      "cell_type": "markdown",
      "source": [
        "upper(),lower()"
      ],
      "metadata": {
        "id": "xS9JoE9b7RT8"
      }
    },
    {
      "cell_type": "code",
      "source": [
        "ss = 'Fisrt Python을 밤 12시까지 열공 중!'\n",
        "var1 = ss.upper()\n",
        "print(var1)\n",
        "var2 = ss.lower()\n",
        "print(var2)"
      ],
      "metadata": {
        "colab": {
          "base_uri": "https://localhost:8080/"
        },
        "id": "MNsNAhT45kT9",
        "outputId": "cb568f25-7aa6-48b3-92d4-eee39dd04f4d"
      },
      "execution_count": 4,
      "outputs": [
        {
          "output_type": "stream",
          "name": "stdout",
          "text": [
            "FISRT PYTHON을 밤 12시까지 열공 중!\n",
            "fisrt python을 밤 12시까지 열공 중!\n"
          ]
        }
      ]
    },
    {
      "cell_type": "markdown",
      "source": [
        "형성평가2"
      ],
      "metadata": {
        "id": "7iPmAJ9A8BKD"
      }
    },
    {
      "cell_type": "code",
      "source": [
        "twice = \"트와이스\"\n",
        "for i in range(int(len(twice))):\n",
        "  print(twice[int(len(twice))-i-1],end=\"\")"
      ],
      "metadata": {
        "colab": {
          "base_uri": "https://localhost:8080/"
        },
        "id": "Ne1kMkCD7r7M",
        "outputId": "c3b56b6b-58c1-4829-9b8c-90717729931c"
      },
      "execution_count": 14,
      "outputs": [
        {
          "output_type": "stream",
          "name": "stdout",
          "text": [
            "스이와트"
          ]
        }
      ]
    }
  ]
}
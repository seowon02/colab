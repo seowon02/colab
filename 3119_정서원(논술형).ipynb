{
  "nbformat": 4,
  "nbformat_minor": 0,
  "metadata": {
    "colab": {
      "name": "3119-정서원(논술형).ipynb",
      "provenance": [],
      "authorship_tag": "ABX9TyMll1M7+Nt1MIjuQSNFgoX/",
      "include_colab_link": true
    },
    "kernelspec": {
      "name": "python3",
      "display_name": "Python 3"
    },
    "language_info": {
      "name": "python"
    }
  },
  "cells": [
    {
      "cell_type": "markdown",
      "metadata": {
        "id": "view-in-github",
        "colab_type": "text"
      },
      "source": [
        "<a href=\"https://colab.research.google.com/github/seowon02/colab/blob/main/3119_%EC%A0%95%EC%84%9C%EC%9B%90(%EB%85%BC%EC%88%A0%ED%98%95).ipynb\" target=\"_parent\"><img src=\"https://colab.research.google.com/assets/colab-badge.svg\" alt=\"Open In Colab\"/></a>"
      ]
    },
    {
      "cell_type": "markdown",
      "source": [
        "2022학년도 응용프로그래밍 개발 - 논술형 \n",
        "\n",
        "컴퓨터과 3학년 1반 19번 정서원"
      ],
      "metadata": {
        "id": "raLjl1TN6sxz"
      }
    },
    {
      "cell_type": "code",
      "execution_count": 2,
      "metadata": {
        "colab": {
          "base_uri": "https://localhost:8080/"
        },
        "id": "nSyhPZth6kZG",
        "outputId": "d7ea8ffa-2af2-4a52-f7ff-ac41adaa15c6"
      },
      "outputs": [
        {
          "output_type": "stream",
          "name": "stdout",
          "text": [
            "2\n",
            "4\n",
            "2 + 4 = 6\n",
            "2 - 4 = -2\n",
            "2 * 4 = 8\n",
            "2 / 4 = 0.5\n",
            "2 // 4 = 0\n",
            "2 % 4 = 2\n",
            "2 ** 4 = 16\n"
          ]
        }
      ],
      "source": [
        "num1 = int(input())\n",
        "num2 = int(input())\n",
        "result1 = num1 + num2\n",
        "result2 = num1 - num2\n",
        "result3 = num1 * num2\n",
        "result4 = num1 / num2\n",
        "result5 = num1 // num2\n",
        "result6 = num1 % num2\n",
        "result7 = num1 ** num2\n",
        "print(num1,\"+\",num2,\"=\",result1)\n",
        "print(num1,\"-\",num2,\"=\",result2)\n",
        "print(num1,\"*\",num2,\"=\",result3)\n",
        "print(num1,\"/\",num2,\"=\",result4)\n",
        "print(num1,\"//\",num2,\"=\",result5)\n",
        "print(num1,\"%\",num2,\"=\",result6)\n",
        "print(num1,\"**\",num2,\"=\",result7)"
      ]
    }
  ]
}
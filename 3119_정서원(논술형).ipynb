{
  "nbformat": 4,
  "nbformat_minor": 0,
  "metadata": {
    "colab": {
      "name": "3119-정서원(논술형).ipynb",
      "provenance": [],
      "authorship_tag": "ABX9TyN7k7eQcIFSclzXqGDZNF2y",
      "include_colab_link": true
    },
    "kernelspec": {
      "name": "python3",
      "display_name": "Python 3"
    },
    "language_info": {
      "name": "python"
    }
  },
  "cells": [
    {
      "cell_type": "markdown",
      "metadata": {
        "id": "view-in-github",
        "colab_type": "text"
      },
      "source": [
        "<a href=\"https://colab.research.google.com/github/seowon02/colab/blob/main/3119_%EC%A0%95%EC%84%9C%EC%9B%90(%EB%85%BC%EC%88%A0%ED%98%95).ipynb\" target=\"_parent\"><img src=\"https://colab.research.google.com/assets/colab-badge.svg\" alt=\"Open In Colab\"/></a>"
      ]
    },
    {
      "cell_type": "markdown",
      "source": [
        "2022학년도 응용프로그래밍 개발 - 논술형 \n",
        "\n",
        "컴퓨터과 3학년 1반 19번 정서원"
      ],
      "metadata": {
        "id": "raLjl1TN6sxz"
      }
    },
    {
      "cell_type": "code",
      "execution_count": 4,
      "metadata": {
        "colab": {
          "base_uri": "https://localhost:8080/"
        },
        "id": "nSyhPZth6kZG",
        "outputId": "289c5ec2-957b-45de-ff4a-8499ed3dc402"
      },
      "outputs": [
        {
          "output_type": "stream",
          "name": "stdout",
          "text": [
            "2\n",
            "3\n",
            "2.0 + 3.0 = 5.0\n",
            "2.0 - 3.0 = -1.0\n",
            "2.0 * 3.0 = 6.0\n",
            "2.0 / 3.0 = 0.6666666666666666\n",
            "2.0 // 3.0 = 0.0\n",
            "2.0 % 3.0 = 2.0\n",
            "2.0 ** 3.0 = 8.0\n"
          ]
        }
      ],
      "source": [
        "num1 = float(input())\n",
        "num2 = float(input())\n",
        "result1 = num1 + num2\n",
        "result2 = num1 - num2\n",
        "result3 = num1 * num2\n",
        "result4 = num1 / num2\n",
        "result5 = num1 // num2\n",
        "result6 = num1 % num2\n",
        "result7 = num1 ** num2\n",
        "print(num1,\"+\",num2,\"=\",result1)\n",
        "print(num1,\"-\",num2,\"=\",result2)\n",
        "print(num1,\"*\",num2,\"=\",result3)\n",
        "print(num1,\"/\",num2,\"=\",result4)\n",
        "print(num1,\"//\",num2,\"=\",result5)\n",
        "print(num1,\"%\",num2,\"=\",result6)\n",
        "print(num1,\"**\",num2,\"=\",result7)"
      ]
    }
  ]
}
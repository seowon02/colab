{
  "nbformat": 4,
  "nbformat_minor": 0,
  "metadata": {
    "colab": {
      "name": "3119-정서원(논술형).ipynb",
      "provenance": [],
      "authorship_tag": "ABX9TyN7k7eQcIFSclzXqGDZNF2y",
      "include_colab_link": true
    },
    "kernelspec": {
      "name": "python3",
      "display_name": "Python 3"
    },
    "language_info": {
      "name": "python"
    }
  },
  "cells": [
    {
      "cell_type": "markdown",
      "metadata": {
        "id": "view-in-github",
        "colab_type": "text"
      },
      "source": [
        "<a href=\"https://colab.research.google.com/github/seowon02/colab/blob/main/3119_%EC%A0%95%EC%84%9C%EC%9B%90(%EB%85%BC%EC%88%A0%ED%98%95).ipynb\" target=\"_parent\"><img src=\"https://colab.research.google.com/assets/colab-badge.svg\" alt=\"Open In Colab\"/></a>"
      ]
    },
    {
      "cell_type": "markdown",
      "source": [
        "2022학년도 응용프로그래밍 개발 - 논술형 \n",
        "\n",
        "컴퓨터과 3학년 1반 19번 정서원"
      ],
      "metadata": {
        "id": "raLjl1TN6sxz"
      }
    },
    {
      "cell_type": "code",
      "execution_count": 5,
      "metadata": {
        "colab": {
          "base_uri": "https://localhost:8080/"
        },
        "id": "nSyhPZth6kZG",
        "outputId": "de000f77-4cad-4eec-ab6f-e37b685e956e"
      },
      "outputs": [
        {
          "output_type": "stream",
          "name": "stdout",
          "text": [
            "11.1\n",
            "10\n",
            "11.1 + 10.0 = 21.1\n",
            "11.1 - 10.0 = 1.0999999999999996\n",
            "11.1 * 10.0 = 111.0\n",
            "11.1 / 10.0 = 1.1099999999999999\n",
            "11.1 // 10.0 = 1.0\n",
            "11.1 % 10.0 = 1.0999999999999996\n",
            "11.1 ** 10.0 = 28394209860.690147\n"
          ]
        }
      ],
      "source": [
        "num1 = float(input())\n",
        "num2 = float(input())\n",
        "result1 = num1 + num2\n",
        "result2 = num1 - num2\n",
        "result3 = num1 * num2\n",
        "result4 = num1 / num2\n",
        "result5 = num1 // num2\n",
        "result6 = num1 % num2\n",
        "result7 = num1 ** num2\n",
        "print(num1,\"+\",num2,\"=\",result1)\n",
        "print(num1,\"-\",num2,\"=\",result2)\n",
        "print(num1,\"*\",num2,\"=\",result3)\n",
        "print(num1,\"/\",num2,\"=\",result4)\n",
        "print(num1,\"//\",num2,\"=\",result5)\n",
        "print(num1,\"%\",num2,\"=\",result6)\n",
        "print(num1,\"**\",num2,\"=\",result7)"
      ]
    }
  ]
}
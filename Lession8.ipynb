{
  "nbformat": 4,
  "nbformat_minor": 0,
  "metadata": {
    "colab": {
      "provenance": [],
      "authorship_tag": "ABX9TyOSaAg4ajGWMhex5cxTlR9i",
      "include_colab_link": true
    },
    "kernelspec": {
      "name": "python3",
      "display_name": "Python 3"
    },
    "language_info": {
      "name": "python"
    }
  },
  "cells": [
    {
      "cell_type": "markdown",
      "metadata": {
        "id": "view-in-github",
        "colab_type": "text"
      },
      "source": [
        "<a href=\"https://colab.research.google.com/github/seowon02/colab/blob/main/Lession8.ipynb\" target=\"_parent\"><img src=\"https://colab.research.google.com/assets/colab-badge.svg\" alt=\"Open In Colab\"/></a>"
      ]
    },
    {
      "cell_type": "code",
      "execution_count": 1,
      "metadata": {
        "colab": {
          "base_uri": "https://localhost:8080/"
        },
        "id": "8NXBRHAQYck8",
        "outputId": "dbf1a8f1-5f9d-4462-f6db-018142c758e3"
      },
      "outputs": [
        {
          "output_type": "stream",
          "name": "stdout",
          "text": [
            "100과 200의 plus() 함수 결과는 300\n"
          ]
        }
      ],
      "source": [
        "def plus(v1,v2) :\n",
        "  return v1 + v2\n",
        "\n",
        "hap = 0\n",
        "\n",
        "hap = plus(100,200)\n",
        "print(\"100과 200의 plus() 함수 결과는\", hap)"
      ]
    },
    {
      "cell_type": "code",
      "source": [
        "def calculator(num1, num2, sign):\n",
        "  result = 0\n",
        "  if sign == \"+\":\n",
        "    result = num1 + num2\n",
        "  elif sign == \"-\":\n",
        "    result = num1 - num2\n",
        "  elif sign == \"*\":\n",
        "    result = num1 * num2\n",
        "  else:\n",
        "    result = num1 / num2\n",
        "  return result\n",
        "v = input(\"계산 입력 (+,-,*,/) : \")\n",
        "nums1 = int(input(\"첫 번째 숫자 입력 : \"))\n",
        "nums2 = int(input(\"두 번째 숫자 입력 : \"))\n",
        "\n",
        "print(\"## 계산기 :\",nums1,v,nums2,\"=\",calculator(nums1,nums2,v))"
      ],
      "metadata": {
        "colab": {
          "base_uri": "https://localhost:8080/"
        },
        "id": "PHQS2iQQ4aWA",
        "outputId": "1bd5a78c-4ee2-4ce4-910e-f7eda46bebae"
      },
      "execution_count": 2,
      "outputs": [
        {
          "output_type": "stream",
          "name": "stdout",
          "text": [
            "계산 입력 (+,-,*,/) : /\n",
            "첫 번째 숫자 입력 : 12\n",
            "두 번째 숫자 입력 : 4\n",
            "## 계산기 : 12 / 4 = 3.0\n"
          ]
        }
      ]
    },
    {
      "cell_type": "code",
      "source": [
        "import random\n",
        "\n",
        "lists = [i for i in range(1,46)]\n",
        "select = []\n",
        "for i in range(6):\n",
        "  a = random.choice(lists)\n",
        "  select.append(a)\n",
        "  lists.remove(a)\n",
        "\n",
        "print(\"오늘의 로또 번호 ==>\",end=\" \")\n",
        "for i in range(6):\n",
        "  print(select[i],end=\" \")"
      ],
      "metadata": {
        "colab": {
          "base_uri": "https://localhost:8080/"
        },
        "id": "1CvzEY_x-lOY",
        "outputId": "e643a45a-4d19-4eff-d987-f720b95cfe15"
      },
      "execution_count": 18,
      "outputs": [
        {
          "output_type": "stream",
          "name": "stdout",
          "text": [
            "오늘의 로또 번호 ==> 33 17 22 16 1 7 "
          ]
        }
      ]
    }
  ]
}
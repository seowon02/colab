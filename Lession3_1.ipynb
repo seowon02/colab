{
  "nbformat": 4,
  "nbformat_minor": 0,
  "metadata": {
    "colab": {
      "name": "Lession3-1.ipynb",
      "provenance": [],
      "authorship_tag": "ABX9TyPU6nKMX6/lkOYvh8r/OYTu",
      "include_colab_link": true
    },
    "kernelspec": {
      "name": "python3",
      "display_name": "Python 3"
    },
    "language_info": {
      "name": "python"
    }
  },
  "cells": [
    {
      "cell_type": "markdown",
      "metadata": {
        "id": "view-in-github",
        "colab_type": "text"
      },
      "source": [
        "<a href=\"https://colab.research.google.com/github/seowon02/colab/blob/main/Lession3_1.ipynb\" target=\"_parent\"><img src=\"https://colab.research.google.com/assets/colab-badge.svg\" alt=\"Open In Colab\"/></a>"
      ]
    },
    {
      "cell_type": "markdown",
      "source": [
        "연산자 예제"
      ],
      "metadata": {
        "id": "ifBk-7oB4hUz"
      }
    },
    {
      "cell_type": "code",
      "execution_count": 1,
      "metadata": {
        "colab": {
          "base_uri": "https://localhost:8080/"
        },
        "id": "JGDZ4z8-4eIk",
        "outputId": "048f9947-51cb-4ad0-e637-30cd648f95b7"
      },
      "outputs": [
        {
          "output_type": "stream",
          "name": "stdout",
          "text": [
            "나눠지는 수 ==>10\n",
            "나누는 수 ==>2\n",
            "10 을(를) 2 (으)로 나눈 몫은 5 입니다\n",
            "10 을(를) 2 (으)로 나눈 나머지은 0 입니다\n"
          ]
        }
      ],
      "source": [
        "num1 = int(input(\"나눠지는 수 ==>\"))\n",
        "num2 = int(input(\"나누는 수 ==>\"))\n",
        "q = num1 // num2\n",
        "r = num1 % num2\n",
        "print(num1, \"을(를)\", num2, \"(으)로 나눈 몫은\", q, \"입니다\")\n",
        "print(num1, \"을(를)\", num2, \"(으)로 나눈 나머지은\", r, \"입니다\")"
      ]
    },
    {
      "cell_type": "code",
      "source": [
        "num1 = int(input(\"수를 입력하세요 ==> \"))\n",
        "if num1 % 2 == 0:\n",
        "  print(num1,\"은(는) 짝수입니다.\")\n",
        "else:\n",
        "  print(num1,\"은(는) 홀수입니다.\")"
      ],
      "metadata": {
        "colab": {
          "base_uri": "https://localhost:8080/"
        },
        "id": "iOEuDpmP5X5y",
        "outputId": "d3d67da4-b4a0-4d47-ec0f-4577d04e446e"
      },
      "execution_count": 3,
      "outputs": [
        {
          "output_type": "stream",
          "name": "stdout",
          "text": [
            "수를 입력하세요 ==> 3\n",
            "3 은(는) 홀수입니다.\n"
          ]
        }
      ]
    },
    {
      "cell_type": "markdown",
      "source": [
        "형성평가 1"
      ],
      "metadata": {
        "id": "_D6l3vSk7BX3"
      }
    },
    {
      "cell_type": "code",
      "source": [
        "IPlb = float(input(\"파운드(lb)를 입력하세요 :\"))\n",
        "IPkg = float(input(\"킬로그램(kg)을 입력하세요 :\"))\n",
        "lb = 2.204623\n",
        "kg = 0.453592\n",
        "IPlb_result = round(IPlb * kg,5)\n",
        "IPkg_result = round(IPkg * lb,5)\n",
        "print(int(IPlb),\"파운드(lb)는\",IPlb_result,\"킬로그램(kg) 입니다.\")\n",
        "print(int(IPkg),\"킬로그램(kg)은\",IPkg_result,\"파운드(lb) 입니다.\")"
      ],
      "metadata": {
        "colab": {
          "base_uri": "https://localhost:8080/"
        },
        "id": "aygcntPi7DQ9",
        "outputId": "df286b2e-4fbe-440a-9f65-c83496ffa2c5"
      },
      "execution_count": 18,
      "outputs": [
        {
          "output_type": "stream",
          "name": "stdout",
          "text": [
            "파운드(lb)를 입력하세요 :15\n",
            "킬로그램(kg)을 입력하세요 :15\n",
            "15 파운드(lb)는 6.80388 킬로그램(kg) 입니다.\n",
            "15 킬로그램(kg)은 33.06935 파운드(lb) 입니다.\n"
          ]
        }
      ]
    },
    {
      "cell_type": "markdown",
      "source": [
        "bmi 계산"
      ],
      "metadata": {
        "id": "5vDacLg18tSn"
      }
    },
    {
      "cell_type": "code",
      "source": [
        "kg = float(input(\"몸무게를 입력하시오 : \"))\n",
        "cm = float(input(\"키를 cm단위로 입력하세요 입력하시오 : \"))\n",
        "\n",
        "m = cm / 100\n",
        "bmi = round(kg / (m**2),1)\n",
        "\n",
        "print(\"당신의 BMI는\",bmi,\"입니다.\")"
      ],
      "metadata": {
        "colab": {
          "base_uri": "https://localhost:8080/"
        },
        "id": "BQ_mi-Vw8v3o",
        "outputId": "e0110f0d-4219-4d3f-8078-eb2f76c496f0"
      },
      "execution_count": 17,
      "outputs": [
        {
          "output_type": "stream",
          "name": "stdout",
          "text": [
            "몸무게를 입력하시오 : 72\n",
            "키를 cm단위로 입력하세요 입력하시오 : 175\n",
            "당신의 BMI는 23.5 입니다.\n"
          ]
        }
      ]
    },
    {
      "cell_type": "markdown",
      "source": [
        "형성평가 2"
      ],
      "metadata": {
        "id": "trxubAgpAIVY"
      }
    },
    {
      "cell_type": "code",
      "source": [
        "total = 0\n",
        "\n",
        "total -= 900 * 10\n",
        "total -= 3500 * 5\n",
        "\n",
        "total += 1800 * 2\n",
        "total += 4000 * 4\n",
        "total += 1500\n",
        "total += 2000 * 4\n",
        "total += 1800 * 5\n",
        "print(\"오늘 총 매출액은\", total,\"원 입니다.\")"
      ],
      "metadata": {
        "colab": {
          "base_uri": "https://localhost:8080/"
        },
        "id": "bIPMzzJQCKcG",
        "outputId": "3c0dd9e7-3d1c-43dc-8b53-a3faea91e5b2"
      },
      "execution_count": 19,
      "outputs": [
        {
          "output_type": "stream",
          "name": "stdout",
          "text": [
            "오늘 총 매출액은 11600 원 입니다.\n"
          ]
        }
      ]
    },
    {
      "cell_type": "code",
      "source": [
        "\"변형\"\n",
        "purchase1 = int(input(\"캔 커피(500원) 구매 갯수 :\")) * 500\n",
        "purchase2 = int(input(\"삼각김밥(900원) 구매 갯수 :\")) * 900\n",
        "purchase3 = int(input(\"바나나 우유(800원) 구매 갯수 :\")) * 800\n",
        "purchase4 = int(input(\"도시락(3500원) 구매 갯수 :\")) * 3500\n",
        "purchase5 = int(input(\"콜라(700원) 구매 갯수 :\")) * 700\n",
        "purchase6 = int(input(\"새우깡(1000원) 구매 갯수 :\")) * 1000\n",
        "total_purchase = purchase1 + purchase2 + purchase3 + purchase4 + purchase5 + purchase6\n",
        "\n",
        "sale1 = int(input(\"캔 커피(1800원) 판매 갯수 :\")) * 1800\n",
        "sale2 = int(input(\"삼각김밥(1400원) 판매 갯수 :\")) * 1400\n",
        "sale3 = int(input(\"바나나 우유(1800원) 판매 갯수 :\")) * 1800\n",
        "sale4 = int(input(\"도시락(4000원) 판매 갯수 :\")) * 4000\n",
        "sale5 = int(input(\"콜라(1500원) 판매 갯수 :\")) * 1500\n",
        "sale6 = int(input(\"새우깡(2000원) 판매 갯수 :\")) * 2000\n",
        "total_sale = sale1 + sale2 + sale3 + sale4 + sale5 + sale6\n",
        "\n",
        "total_price = total_sale - total_purchase\n",
        "\n",
        "print(\"오늘 총 매출액은\", total_price,\"원 입니다.\")"
      ],
      "metadata": {
        "colab": {
          "base_uri": "https://localhost:8080/"
        },
        "id": "LEB10Kxr_qjg",
        "outputId": "750354da-294b-44bb-cc1f-0ef939ba5d33"
      },
      "execution_count": 25,
      "outputs": [
        {
          "output_type": "stream",
          "name": "stdout",
          "text": [
            "캔 커피(500원) 구매 갯수 :0\n",
            "삼각김밥(900원) 구매 갯수 :10\n",
            "바나나 우유(800원) 구매 갯수 :0\n",
            "도시락(3500원) 구매 갯수 :5\n",
            "콜라(700원) 구매 갯수 :0\n",
            "새우깡(1000원) 구매 갯수 :0\n",
            "캔 커피(1800원) 판매 갯수 :5\n",
            "삼각김밥(1400원) 판매 갯수 :0\n",
            "바나나 우유(1800원) 판매 갯수 :2\n",
            "도시락(4000원) 판매 갯수 :4\n",
            "콜라(1500원) 판매 갯수 :1\n",
            "새우깡(2000원) 판매 갯수 :4\n",
            "오늘 총 매출액은 11600 원 입니다.\n"
          ]
        }
      ]
    },
    {
      "cell_type": "markdown",
      "source": [
        "비교연산자 예제"
      ],
      "metadata": {
        "id": "iRfIm0jiE3YI"
      }
    },
    {
      "cell_type": "code",
      "source": [
        "score = int(input(\"필기 시험점수를 입력하시오 : \"))\n",
        "print(score >= 70)"
      ],
      "metadata": {
        "colab": {
          "base_uri": "https://localhost:8080/"
        },
        "id": "--DS8W-7E56Q",
        "outputId": "f42dab6a-72b2-4e61-e507-c2a1838ed945"
      },
      "execution_count": 26,
      "outputs": [
        {
          "output_type": "stream",
          "name": "stdout",
          "text": [
            "필기 시험점수를 입력하시오 : 80\n",
            "True\n"
          ]
        }
      ]
    },
    {
      "cell_type": "markdown",
      "source": [
        "형성평가 3"
      ],
      "metadata": {
        "id": "GtcFj4h9Gr0J"
      }
    },
    {
      "cell_type": "code",
      "source": [
        "py = 3\n",
        "mb = 2\n",
        "ex = 1\n",
        "\n",
        "b = 3.5\n",
        "a0 = 4.0\n",
        "a = 4.5\n",
        "\n",
        "total = py + mb + ex\n",
        "result = round((py * b + mb * a0 + ex * a) / total,2)\n",
        "\n",
        "print(\"평균 학점 : \",result)"
      ],
      "metadata": {
        "colab": {
          "base_uri": "https://localhost:8080/"
        },
        "id": "fn10J_UrGrXz",
        "outputId": "c74f4513-3701-4f29-c9ea-b89a36230484"
      },
      "execution_count": 28,
      "outputs": [
        {
          "output_type": "stream",
          "name": "stdout",
          "text": [
            "평균 학점 :  3.83\n"
          ]
        }
      ]
    },
    {
      "cell_type": "markdown",
      "source": [
        "거북이"
      ],
      "metadata": {
        "id": "859pvKtFIAg7"
      }
    },
    {
      "cell_type": "code",
      "source": [
        "#!pip3 install ColabTurtle\n",
        "import ColabTurtle.Turtle as turtle\n",
        "\n",
        "turtle.initializeTurtle()\n",
        "\n",
        "while(True):\n",
        "  forward = int(input(\"이동거리 : \"))\n",
        "  angle = int(input(\"회전각도 : \"))\n",
        "\n",
        "  if angle == 505 and forward == 505:\n",
        "    break;\n",
        "  turtle.forward(forward)\n",
        "  turtle.left(angle)"
      ],
      "metadata": {
        "colab": {
          "base_uri": "https://localhost:8080/",
          "height": 557
        },
        "id": "SQE0qdz1IFnM",
        "outputId": "a0d4c2e3-b99d-4019-a918-7dc3c3e67d89"
      },
      "execution_count": 33,
      "outputs": [
        {
          "output_type": "display_data",
          "data": {
            "text/plain": [
              "<IPython.core.display.HTML object>"
            ],
            "text/html": [
              "\n",
              "      <svg width=\"800\" height=\"500\">\n",
              "        <rect width=\"100%\" height=\"100%\" fill=\"black\"/>\n",
              "        \n",
              "        <g visibility=visible transform=\"rotate(360,400,250) translate(382, 232)\">\n",
              "<path style=\" stroke:none;fill-rule:evenodd;fill:white;fill-opacity:1;\" d=\"M 18.214844 0.632812 C 16.109375 1.800781 15.011719 4.074219 15.074219 7.132812 L 15.085938 7.652344 L 14.785156 7.496094 C 13.476562 6.824219 11.957031 6.671875 10.40625 7.066406 C 8.46875 7.550781 6.515625 9.15625 4.394531 11.992188 C 3.0625 13.777344 2.679688 14.636719 3.042969 15.027344 L 3.15625 15.152344 L 3.519531 15.152344 C 4.238281 15.152344 4.828125 14.886719 8.1875 13.039062 C 9.386719 12.378906 10.371094 11.839844 10.378906 11.839844 C 10.386719 11.839844 10.355469 11.929688 10.304688 12.035156 C 9.832031 13.09375 9.257812 14.820312 8.96875 16.078125 C 7.914062 20.652344 8.617188 24.53125 11.070312 27.660156 C 11.351562 28.015625 11.363281 27.914062 10.972656 28.382812 C 8.925781 30.84375 7.945312 33.28125 8.238281 35.1875 C 8.289062 35.527344 8.28125 35.523438 8.917969 35.523438 C 10.941406 35.523438 13.074219 34.207031 15.136719 31.6875 C 15.359375 31.417969 15.328125 31.425781 15.5625 31.574219 C 16.292969 32.042969 18.023438 32.964844 18.175781 32.964844 C 18.335938 32.964844 19.941406 32.210938 20.828125 31.71875 C 20.996094 31.625 21.136719 31.554688 21.136719 31.558594 C 21.203125 31.664062 21.898438 32.414062 22.222656 32.730469 C 23.835938 34.300781 25.5625 35.132812 27.582031 35.300781 C 27.90625 35.328125 27.9375 35.308594 28.007812 34.984375 C 28.382812 33.242188 27.625 30.925781 25.863281 28.425781 L 25.542969 27.96875 L 25.699219 27.785156 C 28.945312 23.960938 29.132812 18.699219 26.257812 11.96875 L 26.207031 11.84375 L 27.945312 12.703125 C 31.53125 14.476562 32.316406 14.800781 33.03125 14.800781 C 33.976562 14.800781 33.78125 13.9375 32.472656 12.292969 C 28.519531 7.355469 25.394531 5.925781 21.921875 7.472656 L 21.558594 7.636719 L 21.578125 7.542969 C 21.699219 6.992188 21.761719 5.742188 21.699219 5.164062 C 21.496094 3.296875 20.664062 1.964844 19.003906 0.855469 C 18.480469 0.503906 18.457031 0.5 18.214844 0.632812\"/>\n",
              "</g>\n",
              "      </svg>\n",
              "    "
            ]
          },
          "metadata": {}
        },
        {
          "name": "stdout",
          "output_type": "stream",
          "text": [
            "이동거리 : 505\n",
            "회전각도 : 505\n"
          ]
        }
      ]
    }
  ]
}
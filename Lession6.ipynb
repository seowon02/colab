{
  "nbformat": 4,
  "nbformat_minor": 0,
  "metadata": {
    "colab": {
      "provenance": [],
      "authorship_tag": "ABX9TyMCWMOpzmsxwPFn8F36U9rJ",
      "include_colab_link": true
    },
    "kernelspec": {
      "name": "python3",
      "display_name": "Python 3"
    },
    "language_info": {
      "name": "python"
    }
  },
  "cells": [
    {
      "cell_type": "markdown",
      "metadata": {
        "id": "view-in-github",
        "colab_type": "text"
      },
      "source": [
        "<a href=\"https://colab.research.google.com/github/seowon02/colab/blob/main/Lession6.ipynb\" target=\"_parent\"><img src=\"https://colab.research.google.com/assets/colab-badge.svg\" alt=\"Open In Colab\"/></a>"
      ]
    },
    {
      "cell_type": "code",
      "source": [
        "print('난생처음 파이썬 프로그래밍')\n",
        "print('난생처음 파이썬 프로그래밍')\n",
        "print('난생처음 파이썬 프로그래밍')"
      ],
      "metadata": {
        "colab": {
          "base_uri": "https://localhost:8080/"
        },
        "id": "PWmKIBlavIZO",
        "outputId": "4d12d1e3-2666-4985-eddd-7e1df0ef1275"
      },
      "execution_count": null,
      "outputs": [
        {
          "output_type": "stream",
          "name": "stdout",
          "text": [
            "난생처음 파이썬 프로그래밍\n",
            "난생처음 파이썬 프로그래밍\n",
            "난생처음 파이썬 프로그래밍\n"
          ]
        }
      ]
    },
    {
      "cell_type": "code",
      "execution_count": null,
      "metadata": {
        "colab": {
          "base_uri": "https://localhost:8080/"
        },
        "id": "crNwZ4d_uIw4",
        "outputId": "57bc5145-92fa-43b0-cb4a-4464c4de5a0b"
      },
      "outputs": [
        {
          "output_type": "stream",
          "name": "stdout",
          "text": [
            "난생처음 파이썬 프로그래밍 0\n",
            "난생처음 파이썬 프로그래밍 1\n",
            "난생처음 파이썬 프로그래밍 2\n"
          ]
        }
      ],
      "source": [
        "for i in range(3):\n",
        "  print('난생처음 파이썬 프로그래밍',i)"
      ]
    },
    {
      "cell_type": "code",
      "source": [
        "myList=[\"짜장면\",\"김밥\",\"라면\"]\n",
        "for i in range(3):\n",
        "  print(myList[i])"
      ],
      "metadata": {
        "colab": {
          "base_uri": "https://localhost:8080/"
        },
        "id": "LAQn-Ma6wG_s",
        "outputId": "96e1203a-f703-4498-8422-a9674b3dbf3d"
      },
      "execution_count": null,
      "outputs": [
        {
          "output_type": "stream",
          "name": "stdout",
          "text": [
            "짜장면\n",
            "김밥\n",
            "라면\n"
          ]
        }
      ]
    },
    {
      "cell_type": "code",
      "source": [
        "for i in range(2,7,1):\n",
        "  print(i)"
      ],
      "metadata": {
        "colab": {
          "base_uri": "https://localhost:8080/"
        },
        "id": "yUiOJKqEwxPs",
        "outputId": "d3e804d0-120f-457e-961c-f6aa81a7d2d8"
      },
      "execution_count": null,
      "outputs": [
        {
          "output_type": "stream",
          "name": "stdout",
          "text": [
            "2\n",
            "3\n",
            "4\n",
            "5\n",
            "6\n"
          ]
        }
      ]
    },
    {
      "cell_type": "code",
      "source": [
        "sum = 0\n",
        "for i in range(1,100,2):\n",
        "  sum += i\n",
        "print(sum)"
      ],
      "metadata": {
        "colab": {
          "base_uri": "https://localhost:8080/"
        },
        "id": "3Qy2kqczw9Ur",
        "outputId": "8f4f5ad9-2506-4c3b-a928-c40f3ff59d27"
      },
      "execution_count": null,
      "outputs": [
        {
          "output_type": "stream",
          "name": "stdout",
          "text": [
            "2500\n"
          ]
        }
      ]
    },
    {
      "cell_type": "code",
      "source": [
        "sum = 0\n",
        "l = True\n",
        "for i in range(1,100,2):\n",
        "  if l == True:\n",
        "    sum += i\n",
        "  else:\n",
        "    sum -= i\n",
        "  l = not l\n",
        "print(sum)"
      ],
      "metadata": {
        "colab": {
          "base_uri": "https://localhost:8080/"
        },
        "id": "Gw9C3WrVxsY0",
        "outputId": "0f7d0b69-f89c-4332-ffa3-d5283810d4b3"
      },
      "execution_count": null,
      "outputs": [
        {
          "output_type": "stream",
          "name": "stdout",
          "text": [
            "-50\n"
          ]
        }
      ]
    },
    {
      "cell_type": "code",
      "source": [
        "inp = int(input(\"팩토리얼를 구할 수를 찾으시오 : \"))\n",
        "sum = 1\n",
        "for i in range(1,inp+1,1):\n",
        "  sum = sum*i\n",
        "print(sum)"
      ],
      "metadata": {
        "colab": {
          "base_uri": "https://localhost:8080/"
        },
        "id": "nERcb_IFz1hM",
        "outputId": "2457a7a6-9814-4148-c657-d25183ce67b4"
      },
      "execution_count": null,
      "outputs": [
        {
          "output_type": "stream",
          "name": "stdout",
          "text": [
            "팩토리얼를 구할 수를 찾으시오 : 5\n",
            "120\n"
          ]
        }
      ]
    },
    {
      "cell_type": "code",
      "source": [
        "inp = int(input(\"1부터 더할 수를 입력하시오 : \"))\n",
        "sum = 0\n",
        "for i in range(1,inp+1):\n",
        "  sum += i\n",
        "print(sum)"
      ],
      "metadata": {
        "colab": {
          "base_uri": "https://localhost:8080/"
        },
        "id": "EaTdee4D1q7l",
        "outputId": "47d3888c-17ef-46d2-9d83-d3cb85196068"
      },
      "execution_count": null,
      "outputs": [
        {
          "output_type": "stream",
          "name": "stdout",
          "text": [
            "1부터 더할 수를 입력하시오 : 10\n",
            "55\n"
          ]
        }
      ]
    },
    {
      "cell_type": "code",
      "source": [
        "inp = int(input(\"1000부터 홀수의 합을 구할 입력하시오 : \"))\n",
        "sum = 0\n",
        "for i in range(1001,inp+1,2):\n",
        "  sum += i\n",
        "print(sum)"
      ],
      "metadata": {
        "colab": {
          "base_uri": "https://localhost:8080/"
        },
        "id": "ME3_EYNx2UzM",
        "outputId": "8e369f4f-e1ae-4614-a067-eddeeff5eda6"
      },
      "execution_count": null,
      "outputs": [
        {
          "output_type": "stream",
          "name": "stdout",
          "text": [
            "1000부터 홀수의 합을 구할 입력하시오 : 2000\n",
            "750000\n"
          ]
        }
      ]
    },
    {
      "cell_type": "code",
      "source": [
        "for i in range(3):\n",
        "  for ii in range(2):\n",
        "    print(\"i :\",i,\", ii :\",ii)"
      ],
      "metadata": {
        "colab": {
          "base_uri": "https://localhost:8080/"
        },
        "id": "EsSJBibX21iM",
        "outputId": "b83ee440-bb20-4471-cbc0-ad9781defc26"
      },
      "execution_count": null,
      "outputs": [
        {
          "output_type": "stream",
          "name": "stdout",
          "text": [
            "i : 0 , ii : 0\n",
            "i : 0 , ii : 1\n",
            "i : 1 , ii : 0\n",
            "i : 1 , ii : 1\n",
            "i : 2 , ii : 0\n",
            "i : 2 , ii : 1\n"
          ]
        }
      ]
    },
    {
      "cell_type": "code",
      "source": [
        "for i in range(1,10):\n",
        "  for ii in range(1,10):\n",
        "    print(i,\"*\",ii,\"=\",i*ii)\n",
        "  print(\"----------\")"
      ],
      "metadata": {
        "id": "tzNlc7yc4Sf0"
      },
      "execution_count": null,
      "outputs": []
    },
    {
      "cell_type": "code",
      "source": [
        "for i in range(0,3,1):\n",
        "  print(i,\"난생처음 파이썬\")"
      ],
      "metadata": {
        "id": "p8jUkggx-91X"
      },
      "execution_count": null,
      "outputs": []
    },
    {
      "cell_type": "code",
      "source": [
        "i = 0\n",
        "while(i<3):\n",
        "  print(i,\"난생처음 파이썬\")\n",
        "  i += 1"
      ],
      "metadata": {
        "id": "PsVGorgi_ie4"
      },
      "execution_count": null,
      "outputs": []
    },
    {
      "cell_type": "code",
      "source": [
        "hap = 0\n",
        "num1, num2 = 0,0\n",
        "\n",
        "print(\"합이 100이라면 종료\")\n",
        "while True:\n",
        "  num1 = int(input(\"숫자1 ==> \"))\n",
        "  num2 = int(input(\"숫자2 ==> \"))\n",
        "\n",
        "  hap = num1 + num2\n",
        "  print(num1,\"+\",num2,\"=\",hap)\n",
        "  if hap == 100:\n",
        "    break"
      ],
      "metadata": {
        "colab": {
          "base_uri": "https://localhost:8080/"
        },
        "id": "F2nIyNf4BAxG",
        "outputId": "da3f5022-4597-4f8d-d2ee-fadfbb13bb64"
      },
      "execution_count": null,
      "outputs": [
        {
          "output_type": "stream",
          "name": "stdout",
          "text": [
            "숫자1이 1이라면 종료\n",
            "숫자1 ==> 0\n",
            "숫자2 ==> 100\n",
            "0 + 100 = 100\n"
          ]
        }
      ]
    },
    {
      "cell_type": "code",
      "source": [
        "i,hap = 0,0\n",
        "\n",
        "for i in range(1,101):\n",
        "  if i % 4 == 0:\n",
        "    continue\n",
        "\n",
        "  hap += i\n",
        "print(\"1~100의 합계(4의 배수 제외): \",hap)"
      ],
      "metadata": {
        "id": "GnYp5xZDDIkV"
      },
      "execution_count": null,
      "outputs": []
    },
    {
      "cell_type": "code",
      "source": [
        "import random\n",
        "rd1,rd2,rd3 = 0,0,0\n",
        "count = 0\n",
        "\n",
        "while True:\n",
        "  count += 1\n",
        "  rd1 = random.randint(1,6)\n",
        "  rd2 = random.randint(1,6)\n",
        "  rd3 = random.randint(1,6)\n",
        "\n",
        "  if rd1 == rd2 == rd3:\n",
        "    break\n",
        "print(\"3개 주사위는 모두\",rd1,\"입니다.\")\n",
        "print(\"같은 숫자가 나오기까지\",count,\"번 던졌습니다.\")"
      ],
      "metadata": {
        "colab": {
          "base_uri": "https://localhost:8080/"
        },
        "id": "UkGLpqDYDaxU",
        "outputId": "229f05bd-17ce-4190-c005-cec0635b360b"
      },
      "execution_count": null,
      "outputs": [
        {
          "output_type": "stream",
          "name": "stdout",
          "text": [
            "3개 주사위는 모두 2 입니다.\n",
            "같은 숫자가 나오기까지 19 번 던졌습니다.\n"
          ]
        }
      ]
    },
    {
      "cell_type": "code",
      "source": [
        "import random\n",
        "count,user,com = 0,0,0\n",
        "\n",
        "while True:\n",
        "  count += 1\n",
        "  com = random.randint(1,5)\n",
        "  print(\"게임\",count,\"회:\",end=\"\")\n",
        "  user = int(input(\"컴퓨터가 생각한 숫자는 ? \"))\n",
        "  if user == com:\n",
        "    print(\"맞혔네요. 축하합니다 !!\")\n",
        "    print(\"게임을 마칩니다.\")\n",
        "    break\n",
        "  else:\n",
        "    print(\"아까워요\",com,\"였는데요. 다시 해보세요\")\n",
        "  if count==10:\n",
        "    print(\"다음 기회에 다시\")\n",
        "    break"
      ],
      "metadata": {
        "colab": {
          "base_uri": "https://localhost:8080/"
        },
        "id": "FbcOskO8Fep7",
        "outputId": "432e9490-c199-4ea3-8bfa-420796cefa2b"
      },
      "execution_count": null,
      "outputs": [
        {
          "output_type": "stream",
          "name": "stdout",
          "text": [
            "게임 1 회:컴퓨터가 생각한 숫자는 ? 5\n",
            "아까워요 3 였는데요. 다시 해보세요\n",
            "게임 2 회:컴퓨터가 생각한 숫자는 ? 5\n",
            "아까워요 2 였는데요. 다시 해보세요\n",
            "게임 3 회:컴퓨터가 생각한 숫자는 ? 5\n",
            "아까워요 3 였는데요. 다시 해보세요\n",
            "게임 4 회:컴퓨터가 생각한 숫자는 ? 5\n",
            "맞혔네요. 축하합니다 !!\n",
            "게임을 마칩니다.\n"
          ]
        }
      ]
    },
    {
      "cell_type": "code",
      "source": [
        "#!pip3 install ColabTurtle\n",
        "import ColabTurtle.Turtle as turtle\n",
        "import random\n",
        "\n",
        "turtle.initializeTurtle()\n",
        "\n",
        "turtle.penup()\n",
        "\n",
        "rcolor = 0\n",
        "gcolor = 0\n",
        "bcolor = 0\n",
        "y = 25\n",
        "turtle.right(90)\n",
        "turtle.speed(13)\n",
        "for i in range(0,451,50):\n",
        "  turtle.goto(25,y)\n",
        "  for ii in range(0,751,50):\n",
        "    rcolor = random.randint(0,255)\n",
        "    gcolor = random.randint(0,255)\n",
        "    bcolor = random.randint(0,255)\n",
        "    turtle.color(rcolor,gcolor,bcolor)\n",
        "    turtle.pendown()\n",
        "    turtle.forward(0.5)\n",
        "    turtle.penup()\n",
        "    turtle.forward(49.5)\n",
        "  y += 50\n",
        "turtle.home()"
      ],
      "metadata": {
        "colab": {
          "base_uri": "https://localhost:8080/",
          "height": 520
        },
        "id": "jljDXUyTtpQA",
        "outputId": "6d12a0a8-47c7-4907-ec1f-d5dda9c692f2"
      },
      "execution_count": 34,
      "outputs": [
        {
          "output_type": "display_data",
          "data": {
            "text/plain": [
              "<IPython.core.display.HTML object>"
            ],
            "text/html": [
              "\n",
              "      <svg width=\"800\" height=\"500\">\n",
              "        <rect width=\"100%\" height=\"100%\" fill=\"black\"/>\n",
              "        <line x1=\"25\" y1=\"25\" x2=\"25.5\" y2=\"25.0\" stroke-linecap=\"round\" style=\"stroke:rgb(132,83,29);stroke-width:4\"/><line x1=\"75.0\" y1=\"25.0\" x2=\"75.5\" y2=\"25.0\" stroke-linecap=\"round\" style=\"stroke:rgb(195,7,199);stroke-width:4\"/><line x1=\"125.0\" y1=\"25.0\" x2=\"125.5\" y2=\"25.0\" stroke-linecap=\"round\" style=\"stroke:rgb(84,69,83);stroke-width:4\"/><line x1=\"175.0\" y1=\"25.0\" x2=\"175.5\" y2=\"25.0\" stroke-linecap=\"round\" style=\"stroke:rgb(165,89,48);stroke-width:4\"/><line x1=\"225.0\" y1=\"25.0\" x2=\"225.5\" y2=\"25.0\" stroke-linecap=\"round\" style=\"stroke:rgb(238,104,229);stroke-width:4\"/><line x1=\"275.0\" y1=\"25.0\" x2=\"275.5\" y2=\"25.0\" stroke-linecap=\"round\" style=\"stroke:rgb(80,9,48);stroke-width:4\"/><line x1=\"325.0\" y1=\"25.0\" x2=\"325.5\" y2=\"25.0\" stroke-linecap=\"round\" style=\"stroke:rgb(193,7,215);stroke-width:4\"/><line x1=\"375.0\" y1=\"25.0\" x2=\"375.5\" y2=\"25.0\" stroke-linecap=\"round\" style=\"stroke:rgb(55,247,135);stroke-width:4\"/><line x1=\"425.0\" y1=\"25.0\" x2=\"425.5\" y2=\"25.0\" stroke-linecap=\"round\" style=\"stroke:rgb(235,206,39);stroke-width:4\"/><line x1=\"475.0\" y1=\"25.0\" x2=\"475.5\" y2=\"25.0\" stroke-linecap=\"round\" style=\"stroke:rgb(172,24,34);stroke-width:4\"/><line x1=\"525.0\" y1=\"25.0\" x2=\"525.5\" y2=\"25.0\" stroke-linecap=\"round\" style=\"stroke:rgb(46,61,163);stroke-width:4\"/><line x1=\"575.0\" y1=\"25.0\" x2=\"575.5\" y2=\"25.0\" stroke-linecap=\"round\" style=\"stroke:rgb(53,15,114);stroke-width:4\"/><line x1=\"625.0\" y1=\"25.0\" x2=\"625.5\" y2=\"25.0\" stroke-linecap=\"round\" style=\"stroke:rgb(15,30,221);stroke-width:4\"/><line x1=\"675.0\" y1=\"25.0\" x2=\"675.5\" y2=\"25.0\" stroke-linecap=\"round\" style=\"stroke:rgb(185,96,240);stroke-width:4\"/><line x1=\"725.0\" y1=\"25.0\" x2=\"725.5\" y2=\"25.0\" stroke-linecap=\"round\" style=\"stroke:rgb(47,170,186);stroke-width:4\"/><line x1=\"775.0\" y1=\"25.0\" x2=\"775.5\" y2=\"25.0\" stroke-linecap=\"round\" style=\"stroke:rgb(46,165,86);stroke-width:4\"/><line x1=\"25\" y1=\"75\" x2=\"25.5\" y2=\"75.0\" stroke-linecap=\"round\" style=\"stroke:rgb(223,105,37);stroke-width:4\"/><line x1=\"75.0\" y1=\"75.0\" x2=\"75.5\" y2=\"75.0\" stroke-linecap=\"round\" style=\"stroke:rgb(119,18,85);stroke-width:4\"/><line x1=\"125.0\" y1=\"75.0\" x2=\"125.5\" y2=\"75.0\" stroke-linecap=\"round\" style=\"stroke:rgb(96,220,62);stroke-width:4\"/><line x1=\"175.0\" y1=\"75.0\" x2=\"175.5\" y2=\"75.0\" stroke-linecap=\"round\" style=\"stroke:rgb(244,166,11);stroke-width:4\"/><line x1=\"225.0\" y1=\"75.0\" x2=\"225.5\" y2=\"75.0\" stroke-linecap=\"round\" style=\"stroke:rgb(208,252,62);stroke-width:4\"/><line x1=\"275.0\" y1=\"75.0\" x2=\"275.5\" y2=\"75.0\" stroke-linecap=\"round\" style=\"stroke:rgb(33,215,99);stroke-width:4\"/><line x1=\"325.0\" y1=\"75.0\" x2=\"325.5\" y2=\"75.0\" stroke-linecap=\"round\" style=\"stroke:rgb(190,134,166);stroke-width:4\"/><line x1=\"375.0\" y1=\"75.0\" x2=\"375.5\" y2=\"75.0\" stroke-linecap=\"round\" style=\"stroke:rgb(39,1,64);stroke-width:4\"/><line x1=\"425.0\" y1=\"75.0\" x2=\"425.5\" y2=\"75.0\" stroke-linecap=\"round\" style=\"stroke:rgb(177,39,87);stroke-width:4\"/><line x1=\"475.0\" y1=\"75.0\" x2=\"475.5\" y2=\"75.0\" stroke-linecap=\"round\" style=\"stroke:rgb(113,43,40);stroke-width:4\"/><line x1=\"525.0\" y1=\"75.0\" x2=\"525.5\" y2=\"75.0\" stroke-linecap=\"round\" style=\"stroke:rgb(185,198,206);stroke-width:4\"/><line x1=\"575.0\" y1=\"75.0\" x2=\"575.5\" y2=\"75.0\" stroke-linecap=\"round\" style=\"stroke:rgb(13,20,140);stroke-width:4\"/><line x1=\"625.0\" y1=\"75.0\" x2=\"625.5\" y2=\"75.0\" stroke-linecap=\"round\" style=\"stroke:rgb(113,105,180);stroke-width:4\"/><line x1=\"675.0\" y1=\"75.0\" x2=\"675.5\" y2=\"75.0\" stroke-linecap=\"round\" style=\"stroke:rgb(179,100,113);stroke-width:4\"/><line x1=\"725.0\" y1=\"75.0\" x2=\"725.5\" y2=\"75.0\" stroke-linecap=\"round\" style=\"stroke:rgb(205,162,76);stroke-width:4\"/><line x1=\"775.0\" y1=\"75.0\" x2=\"775.5\" y2=\"75.0\" stroke-linecap=\"round\" style=\"stroke:rgb(205,162,211);stroke-width:4\"/><line x1=\"25\" y1=\"125\" x2=\"25.5\" y2=\"125.0\" stroke-linecap=\"round\" style=\"stroke:rgb(178,71,201);stroke-width:4\"/><line x1=\"75.0\" y1=\"125.0\" x2=\"75.5\" y2=\"125.0\" stroke-linecap=\"round\" style=\"stroke:rgb(11,5,177);stroke-width:4\"/><line x1=\"125.0\" y1=\"125.0\" x2=\"125.5\" y2=\"125.0\" stroke-linecap=\"round\" style=\"stroke:rgb(225,90,241);stroke-width:4\"/><line x1=\"175.0\" y1=\"125.0\" x2=\"175.5\" y2=\"125.0\" stroke-linecap=\"round\" style=\"stroke:rgb(71,119,122);stroke-width:4\"/><line x1=\"225.0\" y1=\"125.0\" x2=\"225.5\" y2=\"125.0\" stroke-linecap=\"round\" style=\"stroke:rgb(254,235,247);stroke-width:4\"/><line x1=\"275.0\" y1=\"125.0\" x2=\"275.5\" y2=\"125.0\" stroke-linecap=\"round\" style=\"stroke:rgb(24,55,158);stroke-width:4\"/><line x1=\"325.0\" y1=\"125.0\" x2=\"325.5\" y2=\"125.0\" stroke-linecap=\"round\" style=\"stroke:rgb(83,196,33);stroke-width:4\"/><line x1=\"375.0\" y1=\"125.0\" x2=\"375.5\" y2=\"125.0\" stroke-linecap=\"round\" style=\"stroke:rgb(20,193,216);stroke-width:4\"/><line x1=\"425.0\" y1=\"125.0\" x2=\"425.5\" y2=\"125.0\" stroke-linecap=\"round\" style=\"stroke:rgb(45,84,218);stroke-width:4\"/><line x1=\"475.0\" y1=\"125.0\" x2=\"475.5\" y2=\"125.0\" stroke-linecap=\"round\" style=\"stroke:rgb(240,112,110);stroke-width:4\"/><line x1=\"525.0\" y1=\"125.0\" x2=\"525.5\" y2=\"125.0\" stroke-linecap=\"round\" style=\"stroke:rgb(13,33,173);stroke-width:4\"/><line x1=\"575.0\" y1=\"125.0\" x2=\"575.5\" y2=\"125.0\" stroke-linecap=\"round\" style=\"stroke:rgb(9,59,251);stroke-width:4\"/><line x1=\"625.0\" y1=\"125.0\" x2=\"625.5\" y2=\"125.0\" stroke-linecap=\"round\" style=\"stroke:rgb(219,51,49);stroke-width:4\"/><line x1=\"675.0\" y1=\"125.0\" x2=\"675.5\" y2=\"125.0\" stroke-linecap=\"round\" style=\"stroke:rgb(237,82,68);stroke-width:4\"/><line x1=\"725.0\" y1=\"125.0\" x2=\"725.5\" y2=\"125.0\" stroke-linecap=\"round\" style=\"stroke:rgb(173,6,227);stroke-width:4\"/><line x1=\"775.0\" y1=\"125.0\" x2=\"775.5\" y2=\"125.0\" stroke-linecap=\"round\" style=\"stroke:rgb(67,69,246);stroke-width:4\"/><line x1=\"25\" y1=\"175\" x2=\"25.5\" y2=\"175.0\" stroke-linecap=\"round\" style=\"stroke:rgb(89,225,109);stroke-width:4\"/><line x1=\"75.0\" y1=\"175.0\" x2=\"75.5\" y2=\"175.0\" stroke-linecap=\"round\" style=\"stroke:rgb(163,90,223);stroke-width:4\"/><line x1=\"125.0\" y1=\"175.0\" x2=\"125.5\" y2=\"175.0\" stroke-linecap=\"round\" style=\"stroke:rgb(233,79,139);stroke-width:4\"/><line x1=\"175.0\" y1=\"175.0\" x2=\"175.5\" y2=\"175.0\" stroke-linecap=\"round\" style=\"stroke:rgb(236,7,48);stroke-width:4\"/><line x1=\"225.0\" y1=\"175.0\" x2=\"225.5\" y2=\"175.0\" stroke-linecap=\"round\" style=\"stroke:rgb(198,166,72);stroke-width:4\"/><line x1=\"275.0\" y1=\"175.0\" x2=\"275.5\" y2=\"175.0\" stroke-linecap=\"round\" style=\"stroke:rgb(60,160,117);stroke-width:4\"/><line x1=\"325.0\" y1=\"175.0\" x2=\"325.5\" y2=\"175.0\" stroke-linecap=\"round\" style=\"stroke:rgb(161,126,71);stroke-width:4\"/><line x1=\"375.0\" y1=\"175.0\" x2=\"375.5\" y2=\"175.0\" stroke-linecap=\"round\" style=\"stroke:rgb(11,233,88);stroke-width:4\"/><line x1=\"425.0\" y1=\"175.0\" x2=\"425.5\" y2=\"175.0\" stroke-linecap=\"round\" style=\"stroke:rgb(14,119,30);stroke-width:4\"/><line x1=\"475.0\" y1=\"175.0\" x2=\"475.5\" y2=\"175.0\" stroke-linecap=\"round\" style=\"stroke:rgb(176,186,202);stroke-width:4\"/><line x1=\"525.0\" y1=\"175.0\" x2=\"525.5\" y2=\"175.0\" stroke-linecap=\"round\" style=\"stroke:rgb(197,93,57);stroke-width:4\"/><line x1=\"575.0\" y1=\"175.0\" x2=\"575.5\" y2=\"175.0\" stroke-linecap=\"round\" style=\"stroke:rgb(7,183,110);stroke-width:4\"/><line x1=\"625.0\" y1=\"175.0\" x2=\"625.5\" y2=\"175.0\" stroke-linecap=\"round\" style=\"stroke:rgb(191,8,138);stroke-width:4\"/><line x1=\"675.0\" y1=\"175.0\" x2=\"675.5\" y2=\"175.0\" stroke-linecap=\"round\" style=\"stroke:rgb(159,12,61);stroke-width:4\"/><line x1=\"725.0\" y1=\"175.0\" x2=\"725.5\" y2=\"175.0\" stroke-linecap=\"round\" style=\"stroke:rgb(142,106,135);stroke-width:4\"/><line x1=\"775.0\" y1=\"175.0\" x2=\"775.5\" y2=\"175.0\" stroke-linecap=\"round\" style=\"stroke:rgb(171,26,0);stroke-width:4\"/><line x1=\"25\" y1=\"225\" x2=\"25.5\" y2=\"225.0\" stroke-linecap=\"round\" style=\"stroke:rgb(50,176,169);stroke-width:4\"/><line x1=\"75.0\" y1=\"225.0\" x2=\"75.5\" y2=\"225.0\" stroke-linecap=\"round\" style=\"stroke:rgb(217,110,19);stroke-width:4\"/><line x1=\"125.0\" y1=\"225.0\" x2=\"125.5\" y2=\"225.0\" stroke-linecap=\"round\" style=\"stroke:rgb(10,33,206);stroke-width:4\"/><line x1=\"175.0\" y1=\"225.0\" x2=\"175.5\" y2=\"225.0\" stroke-linecap=\"round\" style=\"stroke:rgb(73,214,201);stroke-width:4\"/><line x1=\"225.0\" y1=\"225.0\" x2=\"225.5\" y2=\"225.0\" stroke-linecap=\"round\" style=\"stroke:rgb(113,63,191);stroke-width:4\"/><line x1=\"275.0\" y1=\"225.0\" x2=\"275.5\" y2=\"225.0\" stroke-linecap=\"round\" style=\"stroke:rgb(87,22,104);stroke-width:4\"/><line x1=\"325.0\" y1=\"225.0\" x2=\"325.5\" y2=\"225.0\" stroke-linecap=\"round\" style=\"stroke:rgb(158,253,39);stroke-width:4\"/><line x1=\"375.0\" y1=\"225.0\" x2=\"375.5\" y2=\"225.0\" stroke-linecap=\"round\" style=\"stroke:rgb(167,252,52);stroke-width:4\"/><line x1=\"425.0\" y1=\"225.0\" x2=\"425.5\" y2=\"225.0\" stroke-linecap=\"round\" style=\"stroke:rgb(66,126,37);stroke-width:4\"/><line x1=\"475.0\" y1=\"225.0\" x2=\"475.5\" y2=\"225.0\" stroke-linecap=\"round\" style=\"stroke:rgb(152,50,85);stroke-width:4\"/><line x1=\"525.0\" y1=\"225.0\" x2=\"525.5\" y2=\"225.0\" stroke-linecap=\"round\" style=\"stroke:rgb(5,51,50);stroke-width:4\"/><line x1=\"575.0\" y1=\"225.0\" x2=\"575.5\" y2=\"225.0\" stroke-linecap=\"round\" style=\"stroke:rgb(154,245,210);stroke-width:4\"/><line x1=\"625.0\" y1=\"225.0\" x2=\"625.5\" y2=\"225.0\" stroke-linecap=\"round\" style=\"stroke:rgb(5,215,142);stroke-width:4\"/><line x1=\"675.0\" y1=\"225.0\" x2=\"675.5\" y2=\"225.0\" stroke-linecap=\"round\" style=\"stroke:rgb(152,77,55);stroke-width:4\"/><line x1=\"725.0\" y1=\"225.0\" x2=\"725.5\" y2=\"225.0\" stroke-linecap=\"round\" style=\"stroke:rgb(43,55,54);stroke-width:4\"/><line x1=\"775.0\" y1=\"225.0\" x2=\"775.5\" y2=\"225.0\" stroke-linecap=\"round\" style=\"stroke:rgb(220,155,136);stroke-width:4\"/><line x1=\"25\" y1=\"275\" x2=\"25.5\" y2=\"275.0\" stroke-linecap=\"round\" style=\"stroke:rgb(227,232,131);stroke-width:4\"/><line x1=\"75.0\" y1=\"275.0\" x2=\"75.5\" y2=\"275.0\" stroke-linecap=\"round\" style=\"stroke:rgb(30,79,59);stroke-width:4\"/><line x1=\"125.0\" y1=\"275.0\" x2=\"125.5\" y2=\"275.0\" stroke-linecap=\"round\" style=\"stroke:rgb(165,184,58);stroke-width:4\"/><line x1=\"175.0\" y1=\"275.0\" x2=\"175.5\" y2=\"275.0\" stroke-linecap=\"round\" style=\"stroke:rgb(164,123,17);stroke-width:4\"/><line x1=\"225.0\" y1=\"275.0\" x2=\"225.5\" y2=\"275.0\" stroke-linecap=\"round\" style=\"stroke:rgb(209,188,22);stroke-width:4\"/><line x1=\"275.0\" y1=\"275.0\" x2=\"275.5\" y2=\"275.0\" stroke-linecap=\"round\" style=\"stroke:rgb(167,148,136);stroke-width:4\"/><line x1=\"325.0\" y1=\"275.0\" x2=\"325.5\" y2=\"275.0\" stroke-linecap=\"round\" style=\"stroke:rgb(95,30,79);stroke-width:4\"/><line x1=\"375.0\" y1=\"275.0\" x2=\"375.5\" y2=\"275.0\" stroke-linecap=\"round\" style=\"stroke:rgb(178,136,214);stroke-width:4\"/><line x1=\"425.0\" y1=\"275.0\" x2=\"425.5\" y2=\"275.0\" stroke-linecap=\"round\" style=\"stroke:rgb(201,142,43);stroke-width:4\"/><line x1=\"475.0\" y1=\"275.0\" x2=\"475.5\" y2=\"275.0\" stroke-linecap=\"round\" style=\"stroke:rgb(234,224,154);stroke-width:4\"/><line x1=\"525.0\" y1=\"275.0\" x2=\"525.5\" y2=\"275.0\" stroke-linecap=\"round\" style=\"stroke:rgb(10,173,99);stroke-width:4\"/><line x1=\"575.0\" y1=\"275.0\" x2=\"575.5\" y2=\"275.0\" stroke-linecap=\"round\" style=\"stroke:rgb(103,84,42);stroke-width:4\"/><line x1=\"625.0\" y1=\"275.0\" x2=\"625.5\" y2=\"275.0\" stroke-linecap=\"round\" style=\"stroke:rgb(234,26,116);stroke-width:4\"/><line x1=\"675.0\" y1=\"275.0\" x2=\"675.5\" y2=\"275.0\" stroke-linecap=\"round\" style=\"stroke:rgb(247,74,66);stroke-width:4\"/><line x1=\"725.0\" y1=\"275.0\" x2=\"725.5\" y2=\"275.0\" stroke-linecap=\"round\" style=\"stroke:rgb(11,252,182);stroke-width:4\"/><line x1=\"775.0\" y1=\"275.0\" x2=\"775.5\" y2=\"275.0\" stroke-linecap=\"round\" style=\"stroke:rgb(99,7,112);stroke-width:4\"/><line x1=\"25\" y1=\"325\" x2=\"25.5\" y2=\"325.0\" stroke-linecap=\"round\" style=\"stroke:rgb(43,30,45);stroke-width:4\"/><line x1=\"75.0\" y1=\"325.0\" x2=\"75.5\" y2=\"325.0\" stroke-linecap=\"round\" style=\"stroke:rgb(158,58,142);stroke-width:4\"/><line x1=\"125.0\" y1=\"325.0\" x2=\"125.5\" y2=\"325.0\" stroke-linecap=\"round\" style=\"stroke:rgb(133,28,25);stroke-width:4\"/><line x1=\"175.0\" y1=\"325.0\" x2=\"175.5\" y2=\"325.0\" stroke-linecap=\"round\" style=\"stroke:rgb(247,189,102);stroke-width:4\"/><line x1=\"225.0\" y1=\"325.0\" x2=\"225.5\" y2=\"325.0\" stroke-linecap=\"round\" style=\"stroke:rgb(31,107,7);stroke-width:4\"/><line x1=\"275.0\" y1=\"325.0\" x2=\"275.5\" y2=\"325.0\" stroke-linecap=\"round\" style=\"stroke:rgb(250,215,134);stroke-width:4\"/><line x1=\"325.0\" y1=\"325.0\" x2=\"325.5\" y2=\"325.0\" stroke-linecap=\"round\" style=\"stroke:rgb(182,83,242);stroke-width:4\"/><line x1=\"375.0\" y1=\"325.0\" x2=\"375.5\" y2=\"325.0\" stroke-linecap=\"round\" style=\"stroke:rgb(18,67,44);stroke-width:4\"/><line x1=\"425.0\" y1=\"325.0\" x2=\"425.5\" y2=\"325.0\" stroke-linecap=\"round\" style=\"stroke:rgb(61,200,26);stroke-width:4\"/><line x1=\"475.0\" y1=\"325.0\" x2=\"475.5\" y2=\"325.0\" stroke-linecap=\"round\" style=\"stroke:rgb(240,178,248);stroke-width:4\"/><line x1=\"525.0\" y1=\"325.0\" x2=\"525.5\" y2=\"325.0\" stroke-linecap=\"round\" style=\"stroke:rgb(129,133,119);stroke-width:4\"/><line x1=\"575.0\" y1=\"325.0\" x2=\"575.5\" y2=\"325.0\" stroke-linecap=\"round\" style=\"stroke:rgb(33,181,104);stroke-width:4\"/><line x1=\"625.0\" y1=\"325.0\" x2=\"625.5\" y2=\"325.0\" stroke-linecap=\"round\" style=\"stroke:rgb(124,50,141);stroke-width:4\"/><line x1=\"675.0\" y1=\"325.0\" x2=\"675.5\" y2=\"325.0\" stroke-linecap=\"round\" style=\"stroke:rgb(73,241,168);stroke-width:4\"/><line x1=\"725.0\" y1=\"325.0\" x2=\"725.5\" y2=\"325.0\" stroke-linecap=\"round\" style=\"stroke:rgb(163,208,203);stroke-width:4\"/><line x1=\"775.0\" y1=\"325.0\" x2=\"775.5\" y2=\"325.0\" stroke-linecap=\"round\" style=\"stroke:rgb(15,76,189);stroke-width:4\"/><line x1=\"25\" y1=\"375\" x2=\"25.5\" y2=\"375.0\" stroke-linecap=\"round\" style=\"stroke:rgb(8,80,132);stroke-width:4\"/><line x1=\"75.0\" y1=\"375.0\" x2=\"75.5\" y2=\"375.0\" stroke-linecap=\"round\" style=\"stroke:rgb(44,77,162);stroke-width:4\"/><line x1=\"125.0\" y1=\"375.0\" x2=\"125.5\" y2=\"375.0\" stroke-linecap=\"round\" style=\"stroke:rgb(228,196,14);stroke-width:4\"/><line x1=\"175.0\" y1=\"375.0\" x2=\"175.5\" y2=\"375.0\" stroke-linecap=\"round\" style=\"stroke:rgb(98,19,224);stroke-width:4\"/><line x1=\"225.0\" y1=\"375.0\" x2=\"225.5\" y2=\"375.0\" stroke-linecap=\"round\" style=\"stroke:rgb(213,206,174);stroke-width:4\"/><line x1=\"275.0\" y1=\"375.0\" x2=\"275.5\" y2=\"375.0\" stroke-linecap=\"round\" style=\"stroke:rgb(38,89,191);stroke-width:4\"/><line x1=\"325.0\" y1=\"375.0\" x2=\"325.5\" y2=\"375.0\" stroke-linecap=\"round\" style=\"stroke:rgb(247,176,206);stroke-width:4\"/><line x1=\"375.0\" y1=\"375.0\" x2=\"375.5\" y2=\"375.0\" stroke-linecap=\"round\" style=\"stroke:rgb(162,211,214);stroke-width:4\"/><line x1=\"425.0\" y1=\"375.0\" x2=\"425.5\" y2=\"375.0\" stroke-linecap=\"round\" style=\"stroke:rgb(27,120,178);stroke-width:4\"/><line x1=\"475.0\" y1=\"375.0\" x2=\"475.5\" y2=\"375.0\" stroke-linecap=\"round\" style=\"stroke:rgb(42,79,131);stroke-width:4\"/><line x1=\"525.0\" y1=\"375.0\" x2=\"525.5\" y2=\"375.0\" stroke-linecap=\"round\" style=\"stroke:rgb(147,244,63);stroke-width:4\"/><line x1=\"575.0\" y1=\"375.0\" x2=\"575.5\" y2=\"375.0\" stroke-linecap=\"round\" style=\"stroke:rgb(47,11,103);stroke-width:4\"/><line x1=\"625.0\" y1=\"375.0\" x2=\"625.5\" y2=\"375.0\" stroke-linecap=\"round\" style=\"stroke:rgb(150,72,88);stroke-width:4\"/><line x1=\"675.0\" y1=\"375.0\" x2=\"675.5\" y2=\"375.0\" stroke-linecap=\"round\" style=\"stroke:rgb(148,163,80);stroke-width:4\"/><line x1=\"725.0\" y1=\"375.0\" x2=\"725.5\" y2=\"375.0\" stroke-linecap=\"round\" style=\"stroke:rgb(249,143,200);stroke-width:4\"/><line x1=\"775.0\" y1=\"375.0\" x2=\"775.5\" y2=\"375.0\" stroke-linecap=\"round\" style=\"stroke:rgb(24,165,13);stroke-width:4\"/><line x1=\"25\" y1=\"425\" x2=\"25.5\" y2=\"425.0\" stroke-linecap=\"round\" style=\"stroke:rgb(28,195,180);stroke-width:4\"/><line x1=\"75.0\" y1=\"425.0\" x2=\"75.5\" y2=\"425.0\" stroke-linecap=\"round\" style=\"stroke:rgb(200,75,44);stroke-width:4\"/><line x1=\"125.0\" y1=\"425.0\" x2=\"125.5\" y2=\"425.0\" stroke-linecap=\"round\" style=\"stroke:rgb(184,69,125);stroke-width:4\"/><line x1=\"175.0\" y1=\"425.0\" x2=\"175.5\" y2=\"425.0\" stroke-linecap=\"round\" style=\"stroke:rgb(7,21,215);stroke-width:4\"/><line x1=\"225.0\" y1=\"425.0\" x2=\"225.5\" y2=\"425.0\" stroke-linecap=\"round\" style=\"stroke:rgb(99,152,0);stroke-width:4\"/><line x1=\"275.0\" y1=\"425.0\" x2=\"275.5\" y2=\"425.0\" stroke-linecap=\"round\" style=\"stroke:rgb(51,90,53);stroke-width:4\"/><line x1=\"325.0\" y1=\"425.0\" x2=\"325.5\" y2=\"425.0\" stroke-linecap=\"round\" style=\"stroke:rgb(108,69,99);stroke-width:4\"/><line x1=\"375.0\" y1=\"425.0\" x2=\"375.5\" y2=\"425.0\" stroke-linecap=\"round\" style=\"stroke:rgb(28,82,83);stroke-width:4\"/><line x1=\"425.0\" y1=\"425.0\" x2=\"425.5\" y2=\"425.0\" stroke-linecap=\"round\" style=\"stroke:rgb(179,250,33);stroke-width:4\"/><line x1=\"475.0\" y1=\"425.0\" x2=\"475.5\" y2=\"425.0\" stroke-linecap=\"round\" style=\"stroke:rgb(120,241,231);stroke-width:4\"/><line x1=\"525.0\" y1=\"425.0\" x2=\"525.5\" y2=\"425.0\" stroke-linecap=\"round\" style=\"stroke:rgb(70,92,115);stroke-width:4\"/><line x1=\"575.0\" y1=\"425.0\" x2=\"575.5\" y2=\"425.0\" stroke-linecap=\"round\" style=\"stroke:rgb(71,54,232);stroke-width:4\"/><line x1=\"625.0\" y1=\"425.0\" x2=\"625.5\" y2=\"425.0\" stroke-linecap=\"round\" style=\"stroke:rgb(72,19,107);stroke-width:4\"/><line x1=\"675.0\" y1=\"425.0\" x2=\"675.5\" y2=\"425.0\" stroke-linecap=\"round\" style=\"stroke:rgb(72,248,62);stroke-width:4\"/><line x1=\"725.0\" y1=\"425.0\" x2=\"725.5\" y2=\"425.0\" stroke-linecap=\"round\" style=\"stroke:rgb(158,59,170);stroke-width:4\"/><line x1=\"775.0\" y1=\"425.0\" x2=\"775.5\" y2=\"425.0\" stroke-linecap=\"round\" style=\"stroke:rgb(129,83,237);stroke-width:4\"/><line x1=\"25\" y1=\"475\" x2=\"25.5\" y2=\"475.0\" stroke-linecap=\"round\" style=\"stroke:rgb(133,134,200);stroke-width:4\"/><line x1=\"75.0\" y1=\"475.0\" x2=\"75.5\" y2=\"475.0\" stroke-linecap=\"round\" style=\"stroke:rgb(63,233,66);stroke-width:4\"/><line x1=\"125.0\" y1=\"475.0\" x2=\"125.5\" y2=\"475.0\" stroke-linecap=\"round\" style=\"stroke:rgb(107,134,86);stroke-width:4\"/><line x1=\"175.0\" y1=\"475.0\" x2=\"175.5\" y2=\"475.0\" stroke-linecap=\"round\" style=\"stroke:rgb(126,0,92);stroke-width:4\"/><line x1=\"225.0\" y1=\"475.0\" x2=\"225.5\" y2=\"475.0\" stroke-linecap=\"round\" style=\"stroke:rgb(97,64,160);stroke-width:4\"/><line x1=\"275.0\" y1=\"475.0\" x2=\"275.5\" y2=\"475.0\" stroke-linecap=\"round\" style=\"stroke:rgb(71,38,97);stroke-width:4\"/><line x1=\"325.0\" y1=\"475.0\" x2=\"325.5\" y2=\"475.0\" stroke-linecap=\"round\" style=\"stroke:rgb(45,74,215);stroke-width:4\"/><line x1=\"375.0\" y1=\"475.0\" x2=\"375.5\" y2=\"475.0\" stroke-linecap=\"round\" style=\"stroke:rgb(44,155,128);stroke-width:4\"/><line x1=\"425.0\" y1=\"475.0\" x2=\"425.5\" y2=\"475.0\" stroke-linecap=\"round\" style=\"stroke:rgb(128,112,189);stroke-width:4\"/><line x1=\"475.0\" y1=\"475.0\" x2=\"475.5\" y2=\"475.0\" stroke-linecap=\"round\" style=\"stroke:rgb(121,38,180);stroke-width:4\"/><line x1=\"525.0\" y1=\"475.0\" x2=\"525.5\" y2=\"475.0\" stroke-linecap=\"round\" style=\"stroke:rgb(201,243,12);stroke-width:4\"/><line x1=\"575.0\" y1=\"475.0\" x2=\"575.5\" y2=\"475.0\" stroke-linecap=\"round\" style=\"stroke:rgb(176,72,29);stroke-width:4\"/><line x1=\"625.0\" y1=\"475.0\" x2=\"625.5\" y2=\"475.0\" stroke-linecap=\"round\" style=\"stroke:rgb(236,244,111);stroke-width:4\"/><line x1=\"675.0\" y1=\"475.0\" x2=\"675.5\" y2=\"475.0\" stroke-linecap=\"round\" style=\"stroke:rgb(145,33,253);stroke-width:4\"/><line x1=\"725.0\" y1=\"475.0\" x2=\"725.5\" y2=\"475.0\" stroke-linecap=\"round\" style=\"stroke:rgb(13,7,25);stroke-width:4\"/><line x1=\"775.0\" y1=\"475.0\" x2=\"775.5\" y2=\"475.0\" stroke-linecap=\"round\" style=\"stroke:rgb(79,183,213);stroke-width:4\"/>\n",
              "        <g visibility=visible transform=\"rotate(360,400,250) translate(382, 232)\">\n",
              "<path style=\" stroke:none;fill-rule:evenodd;fill:rgb(79,183,213);fill-opacity:1;\" d=\"M 18.214844 0.632812 C 16.109375 1.800781 15.011719 4.074219 15.074219 7.132812 L 15.085938 7.652344 L 14.785156 7.496094 C 13.476562 6.824219 11.957031 6.671875 10.40625 7.066406 C 8.46875 7.550781 6.515625 9.15625 4.394531 11.992188 C 3.0625 13.777344 2.679688 14.636719 3.042969 15.027344 L 3.15625 15.152344 L 3.519531 15.152344 C 4.238281 15.152344 4.828125 14.886719 8.1875 13.039062 C 9.386719 12.378906 10.371094 11.839844 10.378906 11.839844 C 10.386719 11.839844 10.355469 11.929688 10.304688 12.035156 C 9.832031 13.09375 9.257812 14.820312 8.96875 16.078125 C 7.914062 20.652344 8.617188 24.53125 11.070312 27.660156 C 11.351562 28.015625 11.363281 27.914062 10.972656 28.382812 C 8.925781 30.84375 7.945312 33.28125 8.238281 35.1875 C 8.289062 35.527344 8.28125 35.523438 8.917969 35.523438 C 10.941406 35.523438 13.074219 34.207031 15.136719 31.6875 C 15.359375 31.417969 15.328125 31.425781 15.5625 31.574219 C 16.292969 32.042969 18.023438 32.964844 18.175781 32.964844 C 18.335938 32.964844 19.941406 32.210938 20.828125 31.71875 C 20.996094 31.625 21.136719 31.554688 21.136719 31.558594 C 21.203125 31.664062 21.898438 32.414062 22.222656 32.730469 C 23.835938 34.300781 25.5625 35.132812 27.582031 35.300781 C 27.90625 35.328125 27.9375 35.308594 28.007812 34.984375 C 28.382812 33.242188 27.625 30.925781 25.863281 28.425781 L 25.542969 27.96875 L 25.699219 27.785156 C 28.945312 23.960938 29.132812 18.699219 26.257812 11.96875 L 26.207031 11.84375 L 27.945312 12.703125 C 31.53125 14.476562 32.316406 14.800781 33.03125 14.800781 C 33.976562 14.800781 33.78125 13.9375 32.472656 12.292969 C 28.519531 7.355469 25.394531 5.925781 21.921875 7.472656 L 21.558594 7.636719 L 21.578125 7.542969 C 21.699219 6.992188 21.761719 5.742188 21.699219 5.164062 C 21.496094 3.296875 20.664062 1.964844 19.003906 0.855469 C 18.480469 0.503906 18.457031 0.5 18.214844 0.632812\"/>\n",
              "</g>\n",
              "      </svg>\n",
              "    "
            ]
          },
          "metadata": {}
        }
      ]
    }
  ]
}
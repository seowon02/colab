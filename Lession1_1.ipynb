{
  "nbformat": 4,
  "nbformat_minor": 0,
  "metadata": {
    "colab": {
      "name": "Lession1-1.ipynb",
      "provenance": [],
      "authorship_tag": "ABX9TyN05kvqs6L7z1DnmrI+iqL5",
      "include_colab_link": true
    },
    "kernelspec": {
      "name": "python3",
      "display_name": "Python 3"
    },
    "language_info": {
      "name": "python"
    }
  },
  "cells": [
    {
      "cell_type": "markdown",
      "metadata": {
        "id": "view-in-github",
        "colab_type": "text"
      },
      "source": [
        "<a href=\"https://colab.research.google.com/github/seowon02/colab/blob/main/Lession1_1.ipynb\" target=\"_parent\"><img src=\"https://colab.research.google.com/assets/colab-badge.svg\" alt=\"Open In Colab\"/></a>"
      ]
    },
    {
      "cell_type": "markdown",
      "source": [
        "# 파이썬 시작하기\n",
        "* 컴퓨터와 스마트폰에 들어 있는 많은 소프트웨어 유튜브,메시지,전화,카카오톡 등\n",
        "* 프로그램 스포트웨어(Software), 애플리케이션(Applicathon), 앱(App) 응용 프로그램 모두 동일한 용어입니다."
      ],
      "metadata": {
        "id": "vU00rOGYHzbt"
      }
    },
    {
      "cell_type": "markdown",
      "source": [
        "# 프로그램, 프로그래밍 언어, 프로그래머\n",
        "* 프로그래밍(Programming)\n",
        "  * 프로그램을 만드는 작업\n",
        "* 프로그래밍 언어(Programming Language)\n",
        "  * 사람이 이해하는 말을 언어라고 부르듯이 컴퓨터가 이해하는 언어를 의미\n",
        "* 프로그래머(Programmer)\n",
        "  * 프로그래밍 언어를 사용하여 소프트웨어나 앱을 만드는 작업을 가진 사람을 의미\n",
        "\n"
      ],
      "metadata": {
        "id": "AbTUd5gTIfXe"
      }
    },
    {
      "cell_type": "code",
      "execution_count": 1,
      "metadata": {
        "colab": {
          "base_uri": "https://localhost:8080/"
        },
        "id": "1ejkAddyHzAJ",
        "outputId": "a7bcfed0-060e-4dae-bf0c-3f6be77161b4"
      },
      "outputs": [
        {
          "output_type": "stream",
          "name": "stdout",
          "text": [
            "400\n"
          ]
        }
      ],
      "source": [
        "print(100+300)"
      ]
    },
    {
      "cell_type": "code",
      "source": [
        "print(200/3*4)"
      ],
      "metadata": {
        "colab": {
          "base_uri": "https://localhost:8080/"
        },
        "id": "Rmbv7iGKPR5H",
        "outputId": "56afc658-78a7-4656-b76e-c7dbbcd71705"
      },
      "execution_count": 2,
      "outputs": [
        {
          "output_type": "stream",
          "name": "stdout",
          "text": [
            "266.6666666666667\n"
          ]
        }
      ]
    },
    {
      "cell_type": "code",
      "source": [
        "print(\"\"\"난생처음 파이썬을\n",
        "열심히 공부 중입니다~\n",
        "이젠 저도 파이썬 프로그래머입니다\"\"\")"
      ],
      "metadata": {
        "colab": {
          "base_uri": "https://localhost:8080/"
        },
        "id": "fhR2jR9QPulG",
        "outputId": "3ed92d99-98ce-4406-c56d-2798d688108c"
      },
      "execution_count": 3,
      "outputs": [
        {
          "output_type": "stream",
          "name": "stdout",
          "text": [
            "난생처음 파이썬을\n",
            "열심히 공부 중입니다~\n",
            "이젠 저도 파이썬 프로그래머입니다\n"
          ]
        }
      ]
    }
  ]
}